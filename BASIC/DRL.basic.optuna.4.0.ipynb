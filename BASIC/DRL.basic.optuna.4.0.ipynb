{
 "cells": [
  {
   "cell_type": "code",
   "execution_count": 1,
   "id": "111c61eb",
   "metadata": {},
   "outputs": [],
   "source": [
    "class Q_learner_opt:\n",
    "    def __init__(self, env, state_space, action_space, alpha, gamma, epsilon, decay_type, decay_steps, decay_end, random_policy):\n",
    "        self.env = env\n",
    "        self.alpha = alpha\n",
    "        self.gamma = gamma\n",
    "        self.epsilon = epsilon\n",
    "        self.state_space = state_space\n",
    "        self.action_space = action_space\n",
    "        self.decay_type = decay_type\n",
    "        self.decay_steps = decay_steps\n",
    "        self.decay_end = decay_end\n",
    "        self.random_policy = random_policy\n",
    "  \n",
    "\n",
    "    def Qtable(self, state_space, action_space, bin_size):\n",
    "        \"\"\"Create Q-table from discrete space\"\"\"\n",
    "        bins = [np.linspace(-4.8,4.8,bin_size),\n",
    "                np.linspace(-4,4,bin_size),\n",
    "                np.linspace(-0.418,0.418,bin_size),\n",
    "                np.linspace(-4,4,bin_size)]\n",
    "\n",
    "        q_table = np.random.uniform(low=-1,high=1,size=([bin_size] * state_space + [action_space]))\n",
    "        return q_table, bins\n",
    "    \n",
    "    def Discrete(self, state, bins):\n",
    "        index = []\n",
    "        for i in range(len(state)): index.append(np.digitize(state[i],bins[i]) - 1)\n",
    "        return tuple(index)\n",
    "        \n",
    "    def train(self, episodes):\n",
    "        #create performance list and q-table\n",
    "        scores_list, master_list = [], []\n",
    "        q_table, bins = self.Qtable(self.state_space, self.action_space, 30)\n",
    "        \n",
    "        #for decay function\n",
    "        alpha  = self.alpha\n",
    "        epsilon = self.epsilon\n",
    "        gamma = self.gamma\n",
    "        decay_end = self.decay_end\n",
    "        decay_steps = self.decay_steps\n",
    "        decay_type = self.decay_type\n",
    "        \n",
    "        if decay_type == 'epsilon':\n",
    "            epsilon_diff = epsilon - decay_end\n",
    "            decay_step = epsilon_diff/decay_steps\n",
    "                    \n",
    "        \n",
    "        #create training loop\n",
    "        for episode in range(1, episodes+1):\n",
    "            \n",
    "            #create initial time\n",
    "            score = 0\n",
    "            \n",
    "            #intialise environment\n",
    "            current_state = self.Discrete(self.env.reset(),bins)\n",
    "            done = False #instantiate game loop\n",
    "\n",
    "            #start q-learning loop\n",
    "            while not done:\n",
    "                \n",
    "                if self.random_policy == True:\n",
    "                    action = self.env.action_space.sample() #random\n",
    "                    \n",
    "                elif random.uniform(0, 1) < epsilon:\n",
    "                    action = self.env.action_space.sample() #explore\n",
    "                    \n",
    "                else:\n",
    "                    action = np.argmax(q_table[current_state]) #exploit\n",
    "\n",
    "                #update Q-table\n",
    "                observation, reward, done, info = self.env.step(action) \n",
    "                next_state = self.Discrete(observation,bins)\n",
    "                score += reward\n",
    "                \n",
    "                #update q-table\n",
    "                if not done:\n",
    "                    max_future_q = np.max(q_table[next_state])\n",
    "                    current_q = q_table[current_state+(action,)]\n",
    "                    new_q = (1-alpha)*current_q + alpha*(reward + self.gamma*max_future_q)\n",
    "                    q_table[current_state+(action,)] = new_q\n",
    "                                    \n",
    "                #save the scores\n",
    "                current_state = next_state   \n",
    "            \n",
    "            #get scores\n",
    "            episode_score = score/500 #200 is max number of steps for cartpole v0 and 500 for cartpole v1\n",
    "            scores_list.append(episode_score)\n",
    "            \n",
    "            #update decay parameters\n",
    "            if decay_type == 'epsilon':\n",
    "                epsilon  = epsilon - decay_step\n",
    "                #print(epsilon)\n",
    "                \n",
    "            #results from most recent 100 episodes\n",
    "            if episode % 100 == 0:\n",
    "                master_list = scores_list\n",
    "                scores_list = []\n",
    "                      \n",
    "        #calculate and return objective function\n",
    "        return master_list"
   ]
  },
  {
   "cell_type": "code",
   "execution_count": 2,
   "id": "0bdbff72",
   "metadata": {},
   "outputs": [
    {
     "name": "stderr",
     "output_type": "stream",
     "text": [
      "C:\\Users\\josep\\anaconda3\\envs\\drl\\lib\\site-packages\\tqdm\\auto.py:22: TqdmWarning: IProgress not found. Please update jupyter and ipywidgets. See https://ipywidgets.readthedocs.io/en/stable/user_install.html\n",
      "  from .autonotebook import tqdm as notebook_tqdm\n"
     ]
    }
   ],
   "source": [
    "from IPython.display import clear_output\n",
    "import gym\n",
    "import numpy as np\n",
    "import random\n",
    "import optuna\n",
    "\n",
    "def objective(trial):\n",
    "    \n",
    "    \"\"\" Learning hyperparamters we want to optimise\"\"\"\n",
    "    env = gym.make('CartPole-v1')\n",
    "   \n",
    "    #specify hyperparamters and ranges\n",
    "    state_space =  4\n",
    "    action_space = 2\n",
    "    alpha = trial.suggest_float('alpha', 0.01, 0.3, log = True)\n",
    "    gamma = trial.suggest_uniform('gamma', 0.85, 0.999)\n",
    "    epsilon = trial.suggest_float('epsilon', 0.01, 0.3, log = True)\n",
    "    decay_type = 'epsilon'\n",
    "    decay_steps = trial.suggest_uniform('decay_steps', 0, 20000)\n",
    "    decay_end = trial.suggest_float('decay_end', 0.0001, epsilon, log = False)\n",
    "    random_policy = False\n",
    "\n",
    "    #instantiate model\n",
    "    #(env, state_space, action_space, alpha, gamma, epsilon, decay_type, decay_steps, decay_end, random_policy)\n",
    "    model = Q_learner_opt(env = env, state_space=state_space, action_space=action_space, alpha=alpha, gamma=gamma, \n",
    "                          epsilon=epsilon, decay_type=decay_type, decay_steps=decay_steps, decay_end=decay_end, \n",
    "                          random_policy=random_policy)\n",
    "    \n",
    "    #report intermediate objective value\n",
    "    value = model.train(20000)\n",
    "    \n",
    "    return np.median(value)"
   ]
  },
  {
   "cell_type": "markdown",
   "id": "f8fc4cbf",
   "metadata": {},
   "source": [
    "## Optimize hyperparameters"
   ]
  },
  {
   "cell_type": "code",
   "execution_count": 3,
   "id": "8a4aead7",
   "metadata": {},
   "outputs": [
    {
     "name": "stderr",
     "output_type": "stream",
     "text": [
      "\u001b[32m[I 2022-08-09 11:30:09,399]\u001b[0m A new study created in RDB with name: cartpole_opt_4\u001b[0m\n",
      "\u001b[32m[I 2022-08-09 11:31:05,292]\u001b[0m Trial 0 finished with value: 0.147 and parameters: {'alpha': 0.015887784939561177, 'gamma': 0.9229460225549834, 'epsilon': 0.012461881350975547, 'decay_steps': 6116.695994087402, 'decay_end': 0.005281461133483823}. Best is trial 0 with value: 0.147.\u001b[0m\n",
      "\u001b[32m[I 2022-08-09 11:31:41,327]\u001b[0m Trial 1 finished with value: 0.125 and parameters: {'alpha': 0.014245282127494083, 'gamma': 0.962122700132542, 'epsilon': 0.044038252396981246, 'decay_steps': 11395.284011015043, 'decay_end': 0.03386912508795687}. Best is trial 0 with value: 0.147.\u001b[0m\n",
      "\u001b[32m[I 2022-08-09 11:32:37,662]\u001b[0m Trial 2 finished with value: 0.209 and parameters: {'alpha': 0.02251145536983653, 'gamma': 0.8759386045597057, 'epsilon': 0.16259405727928136, 'decay_steps': 18134.937101731888, 'decay_end': 0.11688950316213835}. Best is trial 2 with value: 0.209.\u001b[0m\n",
      "\u001b[32m[I 2022-08-09 11:33:11,801]\u001b[0m Trial 3 finished with value: 0.078 and parameters: {'alpha': 0.025765312346332798, 'gamma': 0.8786988244083404, 'epsilon': 0.09032895034969235, 'decay_steps': 2757.005883713839, 'decay_end': 0.03360107804941037}. Best is trial 2 with value: 0.209.\u001b[0m\n",
      "\u001b[32m[I 2022-08-09 11:33:48,262]\u001b[0m Trial 4 finished with value: 0.056 and parameters: {'alpha': 0.012440122278218066, 'gamma': 0.9484217161772432, 'epsilon': 0.03299054953160372, 'decay_steps': 7768.250373331125, 'decay_end': 0.014647539302236393}. Best is trial 2 with value: 0.209.\u001b[0m\n",
      "\u001b[32m[I 2022-08-09 11:34:25,744]\u001b[0m Trial 5 finished with value: 0.074 and parameters: {'alpha': 0.09782255996645739, 'gamma': 0.9888562883907218, 'epsilon': 0.045716906340364655, 'decay_steps': 8599.250104203542, 'decay_end': 0.007334310843629711}. Best is trial 2 with value: 0.209.\u001b[0m\n",
      "\u001b[32m[I 2022-08-09 11:40:07,568]\u001b[0m Trial 6 finished with value: 1.0 and parameters: {'alpha': 0.23694065523262592, 'gamma': 0.9613235873080813, 'epsilon': 0.09473808641392292, 'decay_steps': 6278.965774396572, 'decay_end': 0.017600229344677983}. Best is trial 6 with value: 1.0.\u001b[0m\n",
      "\u001b[32m[I 2022-08-09 11:40:37,097]\u001b[0m Trial 7 finished with value: 0.099 and parameters: {'alpha': 0.020117006646742576, 'gamma': 0.8992516010246396, 'epsilon': 0.032948658537848695, 'decay_steps': 17787.656486605356, 'decay_end': 0.03005581095543262}. Best is trial 6 with value: 1.0.\u001b[0m\n",
      "\u001b[32m[I 2022-08-09 12:12:15,726]\u001b[0m Trial 8 finished with value: 0.227 and parameters: {'alpha': 0.1145272849247403, 'gamma': 0.9525709027213521, 'epsilon': 0.016804475129690136, 'decay_steps': 11130.02991343815, 'decay_end': 0.00705068523199926}. Best is trial 6 with value: 1.0.\u001b[0m\n",
      "\u001b[32m[I 2022-08-09 12:14:56,843]\u001b[0m Trial 9 finished with value: 0.867 and parameters: {'alpha': 0.09397743763187245, 'gamma': 0.9848635766074106, 'epsilon': 0.06274274406968157, 'decay_steps': 13587.554927071144, 'decay_end': 0.05393407002656955}. Best is trial 6 with value: 1.0.\u001b[0m\n",
      "\u001b[32m[I 2022-08-09 12:16:04,326]\u001b[0m Trial 10 finished with value: 0.164 and parameters: {'alpha': 0.2969962092445243, 'gamma': 0.9219301485968923, 'epsilon': 0.15758577320755757, 'decay_steps': 1008.2026501952696, 'decay_end': 0.08813308582354838}. Best is trial 6 with value: 1.0.\u001b[0m\n",
      "\u001b[32m[I 2022-08-09 12:19:49,758]\u001b[0m Trial 11 finished with value: 1.0 and parameters: {'alpha': 0.2923240469314058, 'gamma': 0.9964510154425122, 'epsilon': 0.2978645396841107, 'decay_steps': 14277.395992667232, 'decay_end': 0.2153258202408247}. Best is trial 6 with value: 1.0.\u001b[0m\n",
      "\u001b[32m[I 2022-08-09 12:23:33,725]\u001b[0m Trial 12 finished with value: 1.0 and parameters: {'alpha': 0.28285400731897864, 'gamma': 0.9943815608106136, 'epsilon': 0.29251464882040523, 'decay_steps': 14774.304279093782, 'decay_end': 0.22412643499751958}. Best is trial 6 with value: 1.0.\u001b[0m\n",
      "\u001b[32m[I 2022-08-09 12:27:49,096]\u001b[0m Trial 13 finished with value: 1.0 and parameters: {'alpha': 0.15956140760091966, 'gamma': 0.9674300980017406, 'epsilon': 0.29471309528657275, 'decay_steps': 5321.488753709817, 'decay_end': 0.20114518339974005}. Best is trial 6 with value: 1.0.\u001b[0m\n",
      "\u001b[32m[I 2022-08-09 12:29:50,857]\u001b[0m Trial 14 finished with value: 0.38 and parameters: {'alpha': 0.0479242501514361, 'gamma': 0.9746400863860956, 'epsilon': 0.12655090493979249, 'decay_steps': 15020.849835592098, 'decay_end': 0.10035773146551749}. Best is trial 6 with value: 1.0.\u001b[0m\n",
      "\u001b[32m[I 2022-08-09 12:31:56,498]\u001b[0m Trial 15 finished with value: 0.399 and parameters: {'alpha': 0.18232884860529694, 'gamma': 0.9375888238807687, 'epsilon': 0.08532311234968389, 'decay_steps': 19977.415515896675, 'decay_end': 0.0551004275710639}. Best is trial 6 with value: 1.0.\u001b[0m\n",
      "\u001b[32m[I 2022-08-09 12:34:21,571]\u001b[0m Trial 16 finished with value: 0.547 and parameters: {'alpha': 0.0621627428411589, 'gamma': 0.9757620370566445, 'epsilon': 0.19290624456533786, 'decay_steps': 3439.417180899676, 'decay_end': 0.15357105165893375}. Best is trial 6 with value: 1.0.\u001b[0m\n",
      "\u001b[32m[I 2022-08-09 12:36:17,388]\u001b[0m Trial 17 finished with value: 0.342 and parameters: {'alpha': 0.16318174061250693, 'gamma': 0.8561162886053421, 'epsilon': 0.23420353490295334, 'decay_steps': 3854.19273672948, 'decay_end': 0.22774601271600767}. Best is trial 6 with value: 1.0.\u001b[0m\n",
      "\u001b[32m[I 2022-08-09 12:39:23,247]\u001b[0m Trial 18 finished with value: 0.46799999999999997 and parameters: {'alpha': 0.17043159054081547, 'gamma': 0.9988961806076, 'epsilon': 0.2987443276517694, 'decay_steps': 9877.512463564033, 'decay_end': 0.2939397764455487}. Best is trial 6 with value: 1.0.\u001b[0m\n",
      "\u001b[32m[I 2022-08-09 12:40:14,412]\u001b[0m Trial 19 finished with value: 0.165 and parameters: {'alpha': 0.05139022702279632, 'gamma': 0.9352477978549804, 'epsilon': 0.12452206406380584, 'decay_steps': 16338.381963095739, 'decay_end': 0.12305480622001556}. Best is trial 6 with value: 1.0.\u001b[0m\n",
      "C:\\Users\\josep\\anaconda3\\envs\\drl\\lib\\site-packages\\optuna\\samplers\\_tpe\\parzen_estimator.py:188: RuntimeWarning: divide by zero encountered in true_divide\n",
      "  coefficient = 1 / z / p_accept\n",
      "\u001b[32m[I 2022-08-09 12:42:11,737]\u001b[0m Trial 20 finished with value: 0.256 and parameters: {'alpha': 0.19510114130126385, 'gamma': 0.9622264633156067, 'epsilon': 0.0814324383129743, 'decay_steps': 5729.223705472655, 'decay_end': 0.05255821611599176}. Best is trial 6 with value: 1.0.\u001b[0m\n",
      "\u001b[32m[I 2022-08-09 12:46:23,208]\u001b[0m Trial 21 finished with value: 1.0 and parameters: {'alpha': 0.29370858793994953, 'gamma': 0.9948953744705571, 'epsilon': 0.22493700994035504, 'decay_steps': 12881.88535975931, 'decay_end': 0.2061526803358517}. Best is trial 6 with value: 1.0.\u001b[0m\n",
      "\u001b[32m[I 2022-08-09 13:04:57,448]\u001b[0m Trial 22 finished with value: 1.0 and parameters: {'alpha': 0.23965617221120253, 'gamma': 0.9809131460384501, 'epsilon': 0.20119846222563398, 'decay_steps': 12120.32430603922, 'decay_end': 0.16289975452615668}. Best is trial 6 with value: 1.0.\u001b[0m\n",
      "\u001b[32m[I 2022-08-09 13:07:25,776]\u001b[0m Trial 23 finished with value: 0.53 and parameters: {'alpha': 0.1316973533083835, 'gamma': 0.975124823012818, 'epsilon': 0.26678474963018173, 'decay_steps': 14755.115694389375, 'decay_end': 0.22308175841406183}. Best is trial 6 with value: 1.0.\u001b[0m\n",
      "\u001b[32m[I 2022-08-09 13:10:12,755]\u001b[0m Trial 24 finished with value: 0.304 and parameters: {'alpha': 0.0739705649672864, 'gamma': 0.9979548990414675, 'epsilon': 0.20002742841367568, 'decay_steps': 13543.09074764771, 'decay_end': 0.18480618544289193}. Best is trial 6 with value: 1.0.\u001b[0m\n",
      "C:\\Users\\josep\\anaconda3\\envs\\drl\\lib\\site-packages\\optuna\\samplers\\_tpe\\parzen_estimator.py:188: RuntimeWarning: divide by zero encountered in true_divide\n",
      "  coefficient = 1 / z / p_accept\n",
      "\u001b[32m[I 2022-08-09 13:15:10,185]\u001b[0m Trial 25 finished with value: 1.0 and parameters: {'alpha': 0.25327971565318613, 'gamma': 0.9854819587083302, 'epsilon': 0.1356761151151446, 'decay_steps': 12371.74683192607, 'decay_end': 0.040694425815925736}. Best is trial 6 with value: 1.0.\u001b[0m\n",
      "\u001b[32m[I 2022-08-09 13:16:48,194]\u001b[0m Trial 26 finished with value: 0.359 and parameters: {'alpha': 0.038248435692391565, 'gamma': 0.9827327644176411, 'epsilon': 0.1945492185244023, 'decay_steps': 16501.647334872625, 'decay_end': 0.1680875577300019}. Best is trial 6 with value: 1.0.\u001b[0m\n"
     ]
    },
    {
     "name": "stderr",
     "output_type": "stream",
     "text": [
      "\u001b[32m[I 2022-08-09 13:19:52,209]\u001b[0m Trial 27 finished with value: 0.449 and parameters: {'alpha': 0.2155954190186733, 'gamma': 0.9693595090168338, 'epsilon': 0.2065231231364847, 'decay_steps': 10039.670625643232, 'decay_end': 0.19027906641863584}. Best is trial 6 with value: 1.0.\u001b[0m\n",
      "C:\\Users\\josep\\anaconda3\\envs\\drl\\lib\\site-packages\\optuna\\samplers\\_tpe\\parzen_estimator.py:188: RuntimeWarning: divide by zero encountered in true_divide\n",
      "  coefficient = 1 / z / p_accept\n",
      "\u001b[32m[I 2022-08-09 13:21:19,933]\u001b[0m Trial 28 finished with value: 0.228 and parameters: {'alpha': 0.13087717123960577, 'gamma': 0.9491959366529279, 'epsilon': 0.14036400003302052, 'decay_steps': 11645.418836376704, 'decay_end': 0.13489051630236626}. Best is trial 6 with value: 1.0.\u001b[0m\n",
      "C:\\Users\\josep\\anaconda3\\envs\\drl\\lib\\site-packages\\optuna\\samplers\\_tpe\\parzen_estimator.py:188: RuntimeWarning: divide by zero encountered in true_divide\n",
      "  coefficient = 1 / z / p_accept\n",
      "\u001b[32m[I 2022-08-09 13:22:21,100]\u001b[0m Trial 29 finished with value: 0.144 and parameters: {'alpha': 0.2256767162435639, 'gamma': 0.9177840422031593, 'epsilon': 0.10673400977698348, 'decay_steps': 7270.604913939907, 'decay_end': 0.011391638552495087}. Best is trial 6 with value: 1.0.\u001b[0m\n",
      "\u001b[32m[I 2022-08-09 13:25:20,986]\u001b[0m Trial 30 finished with value: 0.776 and parameters: {'alpha': 0.13990355472662527, 'gamma': 0.9902461355311633, 'epsilon': 0.2937114599562246, 'decay_steps': 5069.7563186968055, 'decay_end': 0.2619557747481728}. Best is trial 6 with value: 1.0.\u001b[0m\n",
      "C:\\Users\\josep\\anaconda3\\envs\\drl\\lib\\site-packages\\optuna\\samplers\\_tpe\\parzen_estimator.py:188: RuntimeWarning: divide by zero encountered in true_divide\n",
      "  coefficient = 1 / z / p_accept\n",
      "\u001b[32m[I 2022-08-09 13:28:48,755]\u001b[0m Trial 31 finished with value: 0.861 and parameters: {'alpha': 0.2360335738970766, 'gamma': 0.9801397323195044, 'epsilon': 0.06926603394937772, 'decay_steps': 12266.47213895937, 'decay_end': 0.040197125039950404}. Best is trial 6 with value: 1.0.\u001b[0m\n",
      "C:\\Users\\josep\\anaconda3\\envs\\drl\\lib\\site-packages\\optuna\\samplers\\_tpe\\parzen_estimator.py:188: RuntimeWarning: divide by zero encountered in true_divide\n",
      "  coefficient = 1 / z / p_accept\n",
      "\u001b[32m[I 2022-08-09 13:32:15,917]\u001b[0m Trial 32 finished with value: 0.436 and parameters: {'alpha': 0.2399585836441919, 'gamma': 0.9591290533631357, 'epsilon': 0.10204384633567419, 'decay_steps': 12688.162973486444, 'decay_end': 0.09031433120657992}. Best is trial 6 with value: 1.0.\u001b[0m\n",
      "C:\\Users\\josep\\anaconda3\\envs\\drl\\lib\\site-packages\\optuna\\samplers\\_tpe\\parzen_estimator.py:188: RuntimeWarning: divide by zero encountered in true_divide\n",
      "  coefficient = 1 / z / p_accept\n",
      "\u001b[32m[I 2022-08-09 13:36:37,035]\u001b[0m Trial 33 finished with value: 1.0 and parameters: {'alpha': 0.24796811693622936, 'gamma': 0.9846237161687245, 'epsilon': 0.15549497072406418, 'decay_steps': 9476.58178372452, 'decay_end': 0.10063743568219757}. Best is trial 6 with value: 1.0.\u001b[0m\n",
      "C:\\Users\\josep\\anaconda3\\envs\\drl\\lib\\site-packages\\optuna\\samplers\\_tpe\\parzen_estimator.py:188: RuntimeWarning: divide by zero encountered in true_divide\n",
      "  coefficient = 1 / z / p_accept\n",
      "\u001b[32m[I 2022-08-09 13:40:48,893]\u001b[0m Trial 34 finished with value: 0.753 and parameters: {'alpha': 0.27447707938924126, 'gamma': 0.9847602361712169, 'epsilon': 0.1578301257853984, 'decay_steps': 10370.121977402518, 'decay_end': 0.09290696878012844}. Best is trial 6 with value: 1.0.\u001b[0m\n",
      "\u001b[32m[I 2022-08-09 13:43:53,781]\u001b[0m Trial 35 finished with value: 0.571 and parameters: {'alpha': 0.1590450336876922, 'gamma': 0.9666911169749102, 'epsilon': 0.2378446928755305, 'decay_steps': 8504.75913915231, 'decay_end': 0.20123844326738163}. Best is trial 6 with value: 1.0.\u001b[0m\n",
      "C:\\Users\\josep\\anaconda3\\envs\\drl\\lib\\site-packages\\optuna\\samplers\\_tpe\\parzen_estimator.py:188: RuntimeWarning: divide by zero encountered in true_divide\n",
      "  coefficient = 1 / z / p_accept\n",
      "C:\\Users\\josep\\anaconda3\\envs\\drl\\lib\\site-packages\\optuna\\samplers\\_tpe\\sampler.py:459: RuntimeWarning: invalid value encountered in subtract\n",
      "  score = log_l - log_g\n",
      "\u001b[32m[I 2022-08-09 13:44:43,308]\u001b[0m Trial 36 finished with value: 0.145 and parameters: {'alpha': 0.18905024042822785, 'gamma': 0.908511368513517, 'epsilon': 0.011086303672945712, 'decay_steps': 7006.438925750724, 'decay_end': 0.008196645039460382}. Best is trial 6 with value: 1.0.\u001b[0m\n",
      "C:\\Users\\josep\\anaconda3\\envs\\drl\\lib\\site-packages\\optuna\\samplers\\_tpe\\parzen_estimator.py:188: RuntimeWarning: divide by zero encountered in true_divide\n",
      "  coefficient = 1 / z / p_accept\n",
      "\u001b[32m[I 2022-08-09 13:48:39,236]\u001b[0m Trial 37 finished with value: 0.631 and parameters: {'alpha': 0.09522975099303167, 'gamma': 0.9391978523543941, 'epsilon': 0.12102068508464642, 'decay_steps': 1683.6856597727424, 'decay_end': 0.011890451574303726}. Best is trial 6 with value: 1.0.\u001b[0m\n",
      "C:\\Users\\josep\\anaconda3\\envs\\drl\\lib\\site-packages\\optuna\\samplers\\_tpe\\parzen_estimator.py:188: RuntimeWarning: divide by zero encountered in true_divide\n",
      "  coefficient = 1 / z / p_accept\n",
      "\u001b[32m[I 2022-08-09 13:49:27,800]\u001b[0m Trial 38 finished with value: 0.19 and parameters: {'alpha': 0.03288835281919143, 'gamma': 0.9550538842528296, 'epsilon': 0.05274404440346277, 'decay_steps': 9533.10837502329, 'decay_end': 0.02376787530833724}. Best is trial 6 with value: 1.0.\u001b[0m\n",
      "\u001b[32m[I 2022-08-09 13:52:54,341]\u001b[0m Trial 39 finished with value: 0.662 and parameters: {'alpha': 0.11217580098969597, 'gamma': 0.993789298574306, 'epsilon': 0.22708939131288555, 'decay_steps': 15248.068438795752, 'decay_end': 0.17038158691256589}. Best is trial 6 with value: 1.0.\u001b[0m\n",
      "C:\\Users\\josep\\anaconda3\\envs\\drl\\lib\\site-packages\\optuna\\samplers\\_tpe\\parzen_estimator.py:188: RuntimeWarning: divide by zero encountered in true_divide\n",
      "  coefficient = 1 / z / p_accept\n",
      "\u001b[32m[I 2022-08-09 13:53:35,169]\u001b[0m Trial 40 finished with value: 0.148 and parameters: {'alpha': 0.011664513961313468, 'gamma': 0.8881906522942679, 'epsilon': 0.17470387926703718, 'decay_steps': 10970.11166021564, 'decay_end': 0.13093493157406091}. Best is trial 6 with value: 1.0.\u001b[0m\n",
      "\u001b[32m[I 2022-08-09 13:57:42,095]\u001b[0m Trial 41 finished with value: 1.0 and parameters: {'alpha': 0.28942793268080963, 'gamma': 0.9934218455013704, 'epsilon': 0.2544470849143185, 'decay_steps': 14081.059901531058, 'decay_end': 0.21503418903736482}. Best is trial 6 with value: 1.0.\u001b[0m\n",
      "\u001b[32m[I 2022-08-09 14:00:50,477]\u001b[0m Trial 42 finished with value: 0.544 and parameters: {'alpha': 0.29696020189905153, 'gamma': 0.9701584491785731, 'epsilon': 0.2506403885904268, 'decay_steps': 13839.578713076906, 'decay_end': 0.2082047777871804}. Best is trial 6 with value: 1.0.\u001b[0m\n",
      "C:\\Users\\josep\\anaconda3\\envs\\drl\\lib\\site-packages\\optuna\\samplers\\_tpe\\parzen_estimator.py:188: RuntimeWarning: divide by zero encountered in true_divide\n",
      "  coefficient = 1 / z / p_accept\n",
      "C:\\Users\\josep\\anaconda3\\envs\\drl\\lib\\site-packages\\optuna\\samplers\\_tpe\\sampler.py:459: RuntimeWarning: invalid value encountered in subtract\n",
      "  score = log_l - log_g\n",
      "\u001b[32m[I 2022-08-09 14:02:57,066]\u001b[0m Trial 43 finished with value: 0.462 and parameters: {'alpha': 0.20748346569747844, 'gamma': 0.9906712524141712, 'epsilon': 0.02829028134974524, 'decay_steps': 16209.188395977422, 'decay_end': 0.02388240085377949}. Best is trial 6 with value: 1.0.\u001b[0m\n",
      "C:\\Users\\josep\\anaconda3\\envs\\drl\\lib\\site-packages\\optuna\\samplers\\_tpe\\parzen_estimator.py:188: RuntimeWarning: divide by zero encountered in true_divide\n",
      "  coefficient = 1 / z / p_accept\n",
      "\u001b[32m[I 2022-08-09 14:07:01,181]\u001b[0m Trial 44 finished with value: 1.0 and parameters: {'alpha': 0.24342794759961509, 'gamma': 0.9782169040083118, 'epsilon': 0.17066401287724187, 'decay_steps': 12737.723335945917, 'decay_end': 0.16496603398286158}. Best is trial 6 with value: 1.0.\u001b[0m\n",
      "C:\\Users\\josep\\anaconda3\\envs\\drl\\lib\\site-packages\\optuna\\samplers\\_tpe\\parzen_estimator.py:188: RuntimeWarning: divide by zero encountered in true_divide\n",
      "  coefficient = 1 / z / p_accept\n",
      "\u001b[32m[I 2022-08-09 14:11:16,131]\u001b[0m Trial 45 finished with value: 1.0 and parameters: {'alpha': 0.25198690080574915, 'gamma': 0.9859981046208016, 'epsilon': 0.14754403828791107, 'decay_steps': 8839.116770460862, 'decay_end': 0.1300747722534384}. Best is trial 6 with value: 1.0.\u001b[0m\n"
     ]
    },
    {
     "name": "stderr",
     "output_type": "stream",
     "text": [
      "C:\\Users\\josep\\anaconda3\\envs\\drl\\lib\\site-packages\\optuna\\samplers\\_tpe\\parzen_estimator.py:188: RuntimeWarning: divide by zero encountered in true_divide\n",
      "  coefficient = 1 / z / p_accept\n",
      "\u001b[32m[I 2022-08-09 14:14:10,974]\u001b[0m Trial 46 finished with value: 0.639 and parameters: {'alpha': 0.20730588955540533, 'gamma': 0.9797762619367143, 'epsilon': 0.17776200814126786, 'decay_steps': 11713.430895369966, 'decay_end': 0.17039370012320673}. Best is trial 6 with value: 1.0.\u001b[0m\n",
      "C:\\Users\\josep\\anaconda3\\envs\\drl\\lib\\site-packages\\optuna\\samplers\\_tpe\\parzen_estimator.py:188: RuntimeWarning: divide by zero encountered in true_divide\n",
      "  coefficient = 1 / z / p_accept\n",
      "C:\\Users\\josep\\anaconda3\\envs\\drl\\lib\\site-packages\\optuna\\samplers\\_tpe\\sampler.py:459: RuntimeWarning: invalid value encountered in subtract\n",
      "  score = log_l - log_g\n",
      "\u001b[32m[I 2022-08-09 14:14:49,896]\u001b[0m Trial 47 finished with value: 0.073 and parameters: {'alpha': 0.0168290062170959, 'gamma': 0.9881772496923245, 'epsilon': 0.017007724362736544, 'decay_steps': 8597.00869705726, 'decay_end': 0.005792605331248911}. Best is trial 6 with value: 1.0.\u001b[0m\n",
      "C:\\Users\\josep\\anaconda3\\envs\\drl\\lib\\site-packages\\optuna\\samplers\\_tpe\\parzen_estimator.py:188: RuntimeWarning: divide by zero encountered in true_divide\n",
      "  coefficient = 1 / z / p_accept\n",
      "\u001b[32m[I 2022-08-09 14:17:43,750]\u001b[0m Trial 48 finished with value: 0.616 and parameters: {'alpha': 0.14984400518840874, 'gamma': 0.9611877150245821, 'epsilon': 0.10721009862142183, 'decay_steps': 6532.765203794343, 'decay_end': 0.08611913901110606}. Best is trial 6 with value: 1.0.\u001b[0m\n",
      "C:\\Users\\josep\\anaconda3\\envs\\drl\\lib\\site-packages\\optuna\\samplers\\_tpe\\parzen_estimator.py:188: RuntimeWarning: divide by zero encountered in true_divide\n",
      "  coefficient = 1 / z / p_accept\n",
      "\u001b[32m[I 2022-08-09 14:19:45,708]\u001b[0m Trial 49 finished with value: 0.387 and parameters: {'alpha': 0.2526665227436859, 'gamma': 0.9714710581126443, 'epsilon': 0.07445773455981251, 'decay_steps': 9192.093907706761, 'decay_end': 0.0373212589915116}. Best is trial 6 with value: 1.0.\u001b[0m\n"
     ]
    }
   ],
   "source": [
    "#set up the median stopping rule as the pruning condition.\n",
    "study = optuna.create_study(study_name = \"cartpole_opt_4\", storage = \"sqlite:///cartpole_opt.db\",direction = 'maximize')\n",
    "#study = optuna.create_study(direction = 'maximize')\n",
    "study.optimize(objective, n_trials=50)"
   ]
  },
  {
   "cell_type": "code",
   "execution_count": 10,
   "id": "fb3193e3",
   "metadata": {},
   "outputs": [
    {
     "name": "stdout",
     "output_type": "stream",
     "text": [
      "Best trial:\n",
      "  Value:  1.0\n",
      "  Params: \n",
      "    alpha: 0.23694065523262592\n",
      "    decay_end: 0.017600229344677983\n",
      "    decay_steps: 6278.965774396572\n",
      "    epsilon: 0.09473808641392292\n",
      "    gamma: 0.9613235873080813\n"
     ]
    }
   ],
   "source": [
    "trial = study.best_trial\n",
    "print(\"Best trial:\")\n",
    "print(\"  Value: \", trial.value)\n",
    "print(\"  Params: \")\n",
    "for key, value in trial.params.items():\n",
    "    print(\"    {}: {}\".format(key, value))"
   ]
  },
  {
   "cell_type": "code",
   "execution_count": 11,
   "id": "247be9eb",
   "metadata": {},
   "outputs": [],
   "source": [
    "# Save results to csv file\n",
    "df = study.trials_dataframe().drop(['datetime_start', 'datetime_complete', 'duration'], axis=1)  # Exclude columns\n",
    "df = df.loc[df['state'] == 'COMPLETE']        # Keep only results that did not prune\n",
    "df = df.drop('state', axis=1)                 # Exclude state column\n",
    "df = df.sort_values('value')                  # Sort based on accuracy\n",
    "df.to_csv('./optuna_results/opt_QL3.csv', index=False)  # Save to csv file"
   ]
  },
  {
   "cell_type": "markdown",
   "id": "bca58c9d",
   "metadata": {},
   "source": [
    "## Visualization"
   ]
  },
  {
   "cell_type": "code",
   "execution_count": 12,
   "id": "901e33da",
   "metadata": {},
   "outputs": [
    {
     "data": {
      "application/vnd.plotly.v1+json": {
       "config": {
        "plotlyServerURL": "https://plot.ly"
       },
       "data": [
        {
         "marker": {
          "color": [
           0,
           1,
           2,
           3,
           4,
           5,
           6,
           7,
           8,
           9,
           10,
           11,
           12,
           13,
           14,
           15,
           16,
           17,
           18,
           19,
           20,
           21,
           22,
           23,
           24,
           25,
           26,
           27,
           28,
           29,
           30,
           31,
           32,
           33,
           34,
           35,
           36,
           37,
           38,
           39,
           40,
           41,
           42,
           43,
           44,
           45,
           46,
           47,
           48,
           49
          ],
          "colorbar": {
           "title": {
            "text": "#Trials"
           },
           "x": 1,
           "xpad": 40
          },
          "colorscale": [
           [
            0,
            "rgb(247,251,255)"
           ],
           [
            0.125,
            "rgb(222,235,247)"
           ],
           [
            0.25,
            "rgb(198,219,239)"
           ],
           [
            0.375,
            "rgb(158,202,225)"
           ],
           [
            0.5,
            "rgb(107,174,214)"
           ],
           [
            0.625,
            "rgb(66,146,198)"
           ],
           [
            0.75,
            "rgb(33,113,181)"
           ],
           [
            0.875,
            "rgb(8,81,156)"
           ],
           [
            1,
            "rgb(8,48,107)"
           ]
          ],
          "line": {
           "color": "Grey",
           "width": 0.5
          },
          "showscale": true
         },
         "mode": "markers",
         "showlegend": false,
         "type": "scatter",
         "x": [
          0.015887784939561177,
          0.014245282127494083,
          0.02251145536983653,
          0.025765312346332798,
          0.012440122278218066,
          0.09782255996645739,
          0.23694065523262592,
          0.020117006646742576,
          0.1145272849247403,
          0.09397743763187245,
          0.2969962092445243,
          0.2923240469314058,
          0.28285400731897864,
          0.15956140760091966,
          0.0479242501514361,
          0.18232884860529694,
          0.0621627428411589,
          0.16318174061250693,
          0.17043159054081547,
          0.05139022702279632,
          0.19510114130126385,
          0.29370858793994953,
          0.23965617221120253,
          0.1316973533083835,
          0.0739705649672864,
          0.25327971565318613,
          0.038248435692391565,
          0.2155954190186733,
          0.13087717123960577,
          0.2256767162435639,
          0.13990355472662527,
          0.2360335738970766,
          0.2399585836441919,
          0.24796811693622936,
          0.27447707938924126,
          0.1590450336876922,
          0.18905024042822785,
          0.09522975099303167,
          0.03288835281919143,
          0.11217580098969597,
          0.011664513961313468,
          0.28942793268080963,
          0.29696020189905153,
          0.20748346569747844,
          0.24342794759961509,
          0.25198690080574915,
          0.20730588955540533,
          0.0168290062170959,
          0.14984400518840874,
          0.2526665227436859
         ],
         "xaxis": "x",
         "y": [
          0.147,
          0.125,
          0.209,
          0.078,
          0.056,
          0.074,
          1,
          0.099,
          0.227,
          0.867,
          0.164,
          1,
          1,
          1,
          0.38,
          0.399,
          0.547,
          0.342,
          0.46799999999999997,
          0.165,
          0.256,
          1,
          1,
          0.53,
          0.304,
          1,
          0.359,
          0.449,
          0.228,
          0.144,
          0.776,
          0.861,
          0.436,
          1,
          0.753,
          0.571,
          0.145,
          0.631,
          0.19,
          0.662,
          0.148,
          1,
          0.544,
          0.462,
          1,
          1,
          0.639,
          0.073,
          0.616,
          0.387
         ],
         "yaxis": "y"
        },
        {
         "marker": {
          "color": [
           0,
           1,
           2,
           3,
           4,
           5,
           6,
           7,
           8,
           9,
           10,
           11,
           12,
           13,
           14,
           15,
           16,
           17,
           18,
           19,
           20,
           21,
           22,
           23,
           24,
           25,
           26,
           27,
           28,
           29,
           30,
           31,
           32,
           33,
           34,
           35,
           36,
           37,
           38,
           39,
           40,
           41,
           42,
           43,
           44,
           45,
           46,
           47,
           48,
           49
          ],
          "colorbar": {
           "title": {
            "text": "#Trials"
           },
           "x": 1,
           "xpad": 40
          },
          "colorscale": [
           [
            0,
            "rgb(247,251,255)"
           ],
           [
            0.125,
            "rgb(222,235,247)"
           ],
           [
            0.25,
            "rgb(198,219,239)"
           ],
           [
            0.375,
            "rgb(158,202,225)"
           ],
           [
            0.5,
            "rgb(107,174,214)"
           ],
           [
            0.625,
            "rgb(66,146,198)"
           ],
           [
            0.75,
            "rgb(33,113,181)"
           ],
           [
            0.875,
            "rgb(8,81,156)"
           ],
           [
            1,
            "rgb(8,48,107)"
           ]
          ],
          "line": {
           "color": "Grey",
           "width": 0.5
          },
          "showscale": false
         },
         "mode": "markers",
         "showlegend": false,
         "type": "scatter",
         "x": [
          0.005281461133483823,
          0.03386912508795687,
          0.11688950316213835,
          0.03360107804941037,
          0.014647539302236393,
          0.007334310843629711,
          0.017600229344677983,
          0.03005581095543262,
          0.00705068523199926,
          0.05393407002656955,
          0.08813308582354838,
          0.2153258202408247,
          0.22412643499751958,
          0.20114518339974005,
          0.10035773146551749,
          0.0551004275710639,
          0.15357105165893375,
          0.22774601271600767,
          0.2939397764455487,
          0.12305480622001556,
          0.05255821611599176,
          0.2061526803358517,
          0.16289975452615668,
          0.22308175841406183,
          0.18480618544289193,
          0.040694425815925736,
          0.1680875577300019,
          0.19027906641863584,
          0.13489051630236626,
          0.011391638552495087,
          0.2619557747481728,
          0.040197125039950404,
          0.09031433120657992,
          0.10063743568219757,
          0.09290696878012844,
          0.20123844326738163,
          0.008196645039460382,
          0.011890451574303726,
          0.02376787530833724,
          0.17038158691256589,
          0.13093493157406091,
          0.21503418903736482,
          0.2082047777871804,
          0.02388240085377949,
          0.16496603398286158,
          0.1300747722534384,
          0.17039370012320673,
          0.005792605331248911,
          0.08611913901110606,
          0.0373212589915116
         ],
         "xaxis": "x2",
         "y": [
          0.147,
          0.125,
          0.209,
          0.078,
          0.056,
          0.074,
          1,
          0.099,
          0.227,
          0.867,
          0.164,
          1,
          1,
          1,
          0.38,
          0.399,
          0.547,
          0.342,
          0.46799999999999997,
          0.165,
          0.256,
          1,
          1,
          0.53,
          0.304,
          1,
          0.359,
          0.449,
          0.228,
          0.144,
          0.776,
          0.861,
          0.436,
          1,
          0.753,
          0.571,
          0.145,
          0.631,
          0.19,
          0.662,
          0.148,
          1,
          0.544,
          0.462,
          1,
          1,
          0.639,
          0.073,
          0.616,
          0.387
         ],
         "yaxis": "y2"
        },
        {
         "marker": {
          "color": [
           0,
           1,
           2,
           3,
           4,
           5,
           6,
           7,
           8,
           9,
           10,
           11,
           12,
           13,
           14,
           15,
           16,
           17,
           18,
           19,
           20,
           21,
           22,
           23,
           24,
           25,
           26,
           27,
           28,
           29,
           30,
           31,
           32,
           33,
           34,
           35,
           36,
           37,
           38,
           39,
           40,
           41,
           42,
           43,
           44,
           45,
           46,
           47,
           48,
           49
          ],
          "colorbar": {
           "title": {
            "text": "#Trials"
           },
           "x": 1,
           "xpad": 40
          },
          "colorscale": [
           [
            0,
            "rgb(247,251,255)"
           ],
           [
            0.125,
            "rgb(222,235,247)"
           ],
           [
            0.25,
            "rgb(198,219,239)"
           ],
           [
            0.375,
            "rgb(158,202,225)"
           ],
           [
            0.5,
            "rgb(107,174,214)"
           ],
           [
            0.625,
            "rgb(66,146,198)"
           ],
           [
            0.75,
            "rgb(33,113,181)"
           ],
           [
            0.875,
            "rgb(8,81,156)"
           ],
           [
            1,
            "rgb(8,48,107)"
           ]
          ],
          "line": {
           "color": "Grey",
           "width": 0.5
          },
          "showscale": false
         },
         "mode": "markers",
         "showlegend": false,
         "type": "scatter",
         "x": [
          6116.695994087402,
          11395.284011015043,
          18134.937101731888,
          2757.005883713839,
          7768.250373331125,
          8599.250104203542,
          6278.965774396572,
          17787.656486605356,
          11130.02991343815,
          13587.554927071144,
          1008.2026501952696,
          14277.395992667232,
          14774.304279093782,
          5321.488753709817,
          15020.849835592098,
          19977.415515896675,
          3439.417180899676,
          3854.19273672948,
          9877.512463564033,
          16338.381963095739,
          5729.223705472655,
          12881.88535975931,
          12120.32430603922,
          14755.115694389375,
          13543.09074764771,
          12371.74683192607,
          16501.647334872625,
          10039.670625643232,
          11645.418836376704,
          7270.604913939907,
          5069.7563186968055,
          12266.47213895937,
          12688.162973486444,
          9476.58178372452,
          10370.121977402518,
          8504.75913915231,
          7006.438925750724,
          1683.6856597727424,
          9533.10837502329,
          15248.068438795752,
          10970.11166021564,
          14081.059901531058,
          13839.578713076906,
          16209.188395977422,
          12737.723335945917,
          8839.116770460862,
          11713.430895369966,
          8597.00869705726,
          6532.765203794343,
          9192.093907706761
         ],
         "xaxis": "x3",
         "y": [
          0.147,
          0.125,
          0.209,
          0.078,
          0.056,
          0.074,
          1,
          0.099,
          0.227,
          0.867,
          0.164,
          1,
          1,
          1,
          0.38,
          0.399,
          0.547,
          0.342,
          0.46799999999999997,
          0.165,
          0.256,
          1,
          1,
          0.53,
          0.304,
          1,
          0.359,
          0.449,
          0.228,
          0.144,
          0.776,
          0.861,
          0.436,
          1,
          0.753,
          0.571,
          0.145,
          0.631,
          0.19,
          0.662,
          0.148,
          1,
          0.544,
          0.462,
          1,
          1,
          0.639,
          0.073,
          0.616,
          0.387
         ],
         "yaxis": "y3"
        },
        {
         "marker": {
          "color": [
           0,
           1,
           2,
           3,
           4,
           5,
           6,
           7,
           8,
           9,
           10,
           11,
           12,
           13,
           14,
           15,
           16,
           17,
           18,
           19,
           20,
           21,
           22,
           23,
           24,
           25,
           26,
           27,
           28,
           29,
           30,
           31,
           32,
           33,
           34,
           35,
           36,
           37,
           38,
           39,
           40,
           41,
           42,
           43,
           44,
           45,
           46,
           47,
           48,
           49
          ],
          "colorbar": {
           "title": {
            "text": "#Trials"
           },
           "x": 1,
           "xpad": 40
          },
          "colorscale": [
           [
            0,
            "rgb(247,251,255)"
           ],
           [
            0.125,
            "rgb(222,235,247)"
           ],
           [
            0.25,
            "rgb(198,219,239)"
           ],
           [
            0.375,
            "rgb(158,202,225)"
           ],
           [
            0.5,
            "rgb(107,174,214)"
           ],
           [
            0.625,
            "rgb(66,146,198)"
           ],
           [
            0.75,
            "rgb(33,113,181)"
           ],
           [
            0.875,
            "rgb(8,81,156)"
           ],
           [
            1,
            "rgb(8,48,107)"
           ]
          ],
          "line": {
           "color": "Grey",
           "width": 0.5
          },
          "showscale": false
         },
         "mode": "markers",
         "showlegend": false,
         "type": "scatter",
         "x": [
          0.012461881350975547,
          0.044038252396981246,
          0.16259405727928136,
          0.09032895034969235,
          0.03299054953160372,
          0.045716906340364655,
          0.09473808641392292,
          0.032948658537848695,
          0.016804475129690136,
          0.06274274406968157,
          0.15758577320755757,
          0.2978645396841107,
          0.29251464882040523,
          0.29471309528657275,
          0.12655090493979249,
          0.08532311234968389,
          0.19290624456533786,
          0.23420353490295334,
          0.2987443276517694,
          0.12452206406380584,
          0.0814324383129743,
          0.22493700994035504,
          0.20119846222563398,
          0.26678474963018173,
          0.20002742841367568,
          0.1356761151151446,
          0.1945492185244023,
          0.2065231231364847,
          0.14036400003302052,
          0.10673400977698348,
          0.2937114599562246,
          0.06926603394937772,
          0.10204384633567419,
          0.15549497072406418,
          0.1578301257853984,
          0.2378446928755305,
          0.011086303672945712,
          0.12102068508464642,
          0.05274404440346277,
          0.22708939131288555,
          0.17470387926703718,
          0.2544470849143185,
          0.2506403885904268,
          0.02829028134974524,
          0.17066401287724187,
          0.14754403828791107,
          0.17776200814126786,
          0.017007724362736544,
          0.10721009862142183,
          0.07445773455981251
         ],
         "xaxis": "x4",
         "y": [
          0.147,
          0.125,
          0.209,
          0.078,
          0.056,
          0.074,
          1,
          0.099,
          0.227,
          0.867,
          0.164,
          1,
          1,
          1,
          0.38,
          0.399,
          0.547,
          0.342,
          0.46799999999999997,
          0.165,
          0.256,
          1,
          1,
          0.53,
          0.304,
          1,
          0.359,
          0.449,
          0.228,
          0.144,
          0.776,
          0.861,
          0.436,
          1,
          0.753,
          0.571,
          0.145,
          0.631,
          0.19,
          0.662,
          0.148,
          1,
          0.544,
          0.462,
          1,
          1,
          0.639,
          0.073,
          0.616,
          0.387
         ],
         "yaxis": "y4"
        },
        {
         "marker": {
          "color": [
           0,
           1,
           2,
           3,
           4,
           5,
           6,
           7,
           8,
           9,
           10,
           11,
           12,
           13,
           14,
           15,
           16,
           17,
           18,
           19,
           20,
           21,
           22,
           23,
           24,
           25,
           26,
           27,
           28,
           29,
           30,
           31,
           32,
           33,
           34,
           35,
           36,
           37,
           38,
           39,
           40,
           41,
           42,
           43,
           44,
           45,
           46,
           47,
           48,
           49
          ],
          "colorbar": {
           "title": {
            "text": "#Trials"
           },
           "x": 1,
           "xpad": 40
          },
          "colorscale": [
           [
            0,
            "rgb(247,251,255)"
           ],
           [
            0.125,
            "rgb(222,235,247)"
           ],
           [
            0.25,
            "rgb(198,219,239)"
           ],
           [
            0.375,
            "rgb(158,202,225)"
           ],
           [
            0.5,
            "rgb(107,174,214)"
           ],
           [
            0.625,
            "rgb(66,146,198)"
           ],
           [
            0.75,
            "rgb(33,113,181)"
           ],
           [
            0.875,
            "rgb(8,81,156)"
           ],
           [
            1,
            "rgb(8,48,107)"
           ]
          ],
          "line": {
           "color": "Grey",
           "width": 0.5
          },
          "showscale": false
         },
         "mode": "markers",
         "showlegend": false,
         "type": "scatter",
         "x": [
          0.9229460225549834,
          0.962122700132542,
          0.8759386045597057,
          0.8786988244083404,
          0.9484217161772432,
          0.9888562883907218,
          0.9613235873080813,
          0.8992516010246396,
          0.9525709027213521,
          0.9848635766074106,
          0.9219301485968923,
          0.9964510154425122,
          0.9943815608106136,
          0.9674300980017406,
          0.9746400863860956,
          0.9375888238807687,
          0.9757620370566445,
          0.8561162886053421,
          0.9988961806076,
          0.9352477978549804,
          0.9622264633156067,
          0.9948953744705571,
          0.9809131460384501,
          0.975124823012818,
          0.9979548990414675,
          0.9854819587083302,
          0.9827327644176411,
          0.9693595090168338,
          0.9491959366529279,
          0.9177840422031593,
          0.9902461355311633,
          0.9801397323195044,
          0.9591290533631357,
          0.9846237161687245,
          0.9847602361712169,
          0.9666911169749102,
          0.908511368513517,
          0.9391978523543941,
          0.9550538842528296,
          0.993789298574306,
          0.8881906522942679,
          0.9934218455013704,
          0.9701584491785731,
          0.9906712524141712,
          0.9782169040083118,
          0.9859981046208016,
          0.9797762619367143,
          0.9881772496923245,
          0.9611877150245821,
          0.9714710581126443
         ],
         "xaxis": "x5",
         "y": [
          0.147,
          0.125,
          0.209,
          0.078,
          0.056,
          0.074,
          1,
          0.099,
          0.227,
          0.867,
          0.164,
          1,
          1,
          1,
          0.38,
          0.399,
          0.547,
          0.342,
          0.46799999999999997,
          0.165,
          0.256,
          1,
          1,
          0.53,
          0.304,
          1,
          0.359,
          0.449,
          0.228,
          0.144,
          0.776,
          0.861,
          0.436,
          1,
          0.753,
          0.571,
          0.145,
          0.631,
          0.19,
          0.662,
          0.148,
          1,
          0.544,
          0.462,
          1,
          1,
          0.639,
          0.073,
          0.616,
          0.387
         ],
         "yaxis": "y5"
        }
       ],
       "layout": {
        "template": {
         "data": {
          "bar": [
           {
            "error_x": {
             "color": "#2a3f5f"
            },
            "error_y": {
             "color": "#2a3f5f"
            },
            "marker": {
             "line": {
              "color": "#E5ECF6",
              "width": 0.5
             },
             "pattern": {
              "fillmode": "overlay",
              "size": 10,
              "solidity": 0.2
             }
            },
            "type": "bar"
           }
          ],
          "barpolar": [
           {
            "marker": {
             "line": {
              "color": "#E5ECF6",
              "width": 0.5
             },
             "pattern": {
              "fillmode": "overlay",
              "size": 10,
              "solidity": 0.2
             }
            },
            "type": "barpolar"
           }
          ],
          "carpet": [
           {
            "aaxis": {
             "endlinecolor": "#2a3f5f",
             "gridcolor": "white",
             "linecolor": "white",
             "minorgridcolor": "white",
             "startlinecolor": "#2a3f5f"
            },
            "baxis": {
             "endlinecolor": "#2a3f5f",
             "gridcolor": "white",
             "linecolor": "white",
             "minorgridcolor": "white",
             "startlinecolor": "#2a3f5f"
            },
            "type": "carpet"
           }
          ],
          "choropleth": [
           {
            "colorbar": {
             "outlinewidth": 0,
             "ticks": ""
            },
            "type": "choropleth"
           }
          ],
          "contour": [
           {
            "colorbar": {
             "outlinewidth": 0,
             "ticks": ""
            },
            "colorscale": [
             [
              0,
              "#0d0887"
             ],
             [
              0.1111111111111111,
              "#46039f"
             ],
             [
              0.2222222222222222,
              "#7201a8"
             ],
             [
              0.3333333333333333,
              "#9c179e"
             ],
             [
              0.4444444444444444,
              "#bd3786"
             ],
             [
              0.5555555555555556,
              "#d8576b"
             ],
             [
              0.6666666666666666,
              "#ed7953"
             ],
             [
              0.7777777777777778,
              "#fb9f3a"
             ],
             [
              0.8888888888888888,
              "#fdca26"
             ],
             [
              1,
              "#f0f921"
             ]
            ],
            "type": "contour"
           }
          ],
          "contourcarpet": [
           {
            "colorbar": {
             "outlinewidth": 0,
             "ticks": ""
            },
            "type": "contourcarpet"
           }
          ],
          "heatmap": [
           {
            "colorbar": {
             "outlinewidth": 0,
             "ticks": ""
            },
            "colorscale": [
             [
              0,
              "#0d0887"
             ],
             [
              0.1111111111111111,
              "#46039f"
             ],
             [
              0.2222222222222222,
              "#7201a8"
             ],
             [
              0.3333333333333333,
              "#9c179e"
             ],
             [
              0.4444444444444444,
              "#bd3786"
             ],
             [
              0.5555555555555556,
              "#d8576b"
             ],
             [
              0.6666666666666666,
              "#ed7953"
             ],
             [
              0.7777777777777778,
              "#fb9f3a"
             ],
             [
              0.8888888888888888,
              "#fdca26"
             ],
             [
              1,
              "#f0f921"
             ]
            ],
            "type": "heatmap"
           }
          ],
          "heatmapgl": [
           {
            "colorbar": {
             "outlinewidth": 0,
             "ticks": ""
            },
            "colorscale": [
             [
              0,
              "#0d0887"
             ],
             [
              0.1111111111111111,
              "#46039f"
             ],
             [
              0.2222222222222222,
              "#7201a8"
             ],
             [
              0.3333333333333333,
              "#9c179e"
             ],
             [
              0.4444444444444444,
              "#bd3786"
             ],
             [
              0.5555555555555556,
              "#d8576b"
             ],
             [
              0.6666666666666666,
              "#ed7953"
             ],
             [
              0.7777777777777778,
              "#fb9f3a"
             ],
             [
              0.8888888888888888,
              "#fdca26"
             ],
             [
              1,
              "#f0f921"
             ]
            ],
            "type": "heatmapgl"
           }
          ],
          "histogram": [
           {
            "marker": {
             "pattern": {
              "fillmode": "overlay",
              "size": 10,
              "solidity": 0.2
             }
            },
            "type": "histogram"
           }
          ],
          "histogram2d": [
           {
            "colorbar": {
             "outlinewidth": 0,
             "ticks": ""
            },
            "colorscale": [
             [
              0,
              "#0d0887"
             ],
             [
              0.1111111111111111,
              "#46039f"
             ],
             [
              0.2222222222222222,
              "#7201a8"
             ],
             [
              0.3333333333333333,
              "#9c179e"
             ],
             [
              0.4444444444444444,
              "#bd3786"
             ],
             [
              0.5555555555555556,
              "#d8576b"
             ],
             [
              0.6666666666666666,
              "#ed7953"
             ],
             [
              0.7777777777777778,
              "#fb9f3a"
             ],
             [
              0.8888888888888888,
              "#fdca26"
             ],
             [
              1,
              "#f0f921"
             ]
            ],
            "type": "histogram2d"
           }
          ],
          "histogram2dcontour": [
           {
            "colorbar": {
             "outlinewidth": 0,
             "ticks": ""
            },
            "colorscale": [
             [
              0,
              "#0d0887"
             ],
             [
              0.1111111111111111,
              "#46039f"
             ],
             [
              0.2222222222222222,
              "#7201a8"
             ],
             [
              0.3333333333333333,
              "#9c179e"
             ],
             [
              0.4444444444444444,
              "#bd3786"
             ],
             [
              0.5555555555555556,
              "#d8576b"
             ],
             [
              0.6666666666666666,
              "#ed7953"
             ],
             [
              0.7777777777777778,
              "#fb9f3a"
             ],
             [
              0.8888888888888888,
              "#fdca26"
             ],
             [
              1,
              "#f0f921"
             ]
            ],
            "type": "histogram2dcontour"
           }
          ],
          "mesh3d": [
           {
            "colorbar": {
             "outlinewidth": 0,
             "ticks": ""
            },
            "type": "mesh3d"
           }
          ],
          "parcoords": [
           {
            "line": {
             "colorbar": {
              "outlinewidth": 0,
              "ticks": ""
             }
            },
            "type": "parcoords"
           }
          ],
          "pie": [
           {
            "automargin": true,
            "type": "pie"
           }
          ],
          "scatter": [
           {
            "fillpattern": {
             "fillmode": "overlay",
             "size": 10,
             "solidity": 0.2
            },
            "type": "scatter"
           }
          ],
          "scatter3d": [
           {
            "line": {
             "colorbar": {
              "outlinewidth": 0,
              "ticks": ""
             }
            },
            "marker": {
             "colorbar": {
              "outlinewidth": 0,
              "ticks": ""
             }
            },
            "type": "scatter3d"
           }
          ],
          "scattercarpet": [
           {
            "marker": {
             "colorbar": {
              "outlinewidth": 0,
              "ticks": ""
             }
            },
            "type": "scattercarpet"
           }
          ],
          "scattergeo": [
           {
            "marker": {
             "colorbar": {
              "outlinewidth": 0,
              "ticks": ""
             }
            },
            "type": "scattergeo"
           }
          ],
          "scattergl": [
           {
            "marker": {
             "colorbar": {
              "outlinewidth": 0,
              "ticks": ""
             }
            },
            "type": "scattergl"
           }
          ],
          "scattermapbox": [
           {
            "marker": {
             "colorbar": {
              "outlinewidth": 0,
              "ticks": ""
             }
            },
            "type": "scattermapbox"
           }
          ],
          "scatterpolar": [
           {
            "marker": {
             "colorbar": {
              "outlinewidth": 0,
              "ticks": ""
             }
            },
            "type": "scatterpolar"
           }
          ],
          "scatterpolargl": [
           {
            "marker": {
             "colorbar": {
              "outlinewidth": 0,
              "ticks": ""
             }
            },
            "type": "scatterpolargl"
           }
          ],
          "scatterternary": [
           {
            "marker": {
             "colorbar": {
              "outlinewidth": 0,
              "ticks": ""
             }
            },
            "type": "scatterternary"
           }
          ],
          "surface": [
           {
            "colorbar": {
             "outlinewidth": 0,
             "ticks": ""
            },
            "colorscale": [
             [
              0,
              "#0d0887"
             ],
             [
              0.1111111111111111,
              "#46039f"
             ],
             [
              0.2222222222222222,
              "#7201a8"
             ],
             [
              0.3333333333333333,
              "#9c179e"
             ],
             [
              0.4444444444444444,
              "#bd3786"
             ],
             [
              0.5555555555555556,
              "#d8576b"
             ],
             [
              0.6666666666666666,
              "#ed7953"
             ],
             [
              0.7777777777777778,
              "#fb9f3a"
             ],
             [
              0.8888888888888888,
              "#fdca26"
             ],
             [
              1,
              "#f0f921"
             ]
            ],
            "type": "surface"
           }
          ],
          "table": [
           {
            "cells": {
             "fill": {
              "color": "#EBF0F8"
             },
             "line": {
              "color": "white"
             }
            },
            "header": {
             "fill": {
              "color": "#C8D4E3"
             },
             "line": {
              "color": "white"
             }
            },
            "type": "table"
           }
          ]
         },
         "layout": {
          "annotationdefaults": {
           "arrowcolor": "#2a3f5f",
           "arrowhead": 0,
           "arrowwidth": 1
          },
          "autotypenumbers": "strict",
          "coloraxis": {
           "colorbar": {
            "outlinewidth": 0,
            "ticks": ""
           }
          },
          "colorscale": {
           "diverging": [
            [
             0,
             "#8e0152"
            ],
            [
             0.1,
             "#c51b7d"
            ],
            [
             0.2,
             "#de77ae"
            ],
            [
             0.3,
             "#f1b6da"
            ],
            [
             0.4,
             "#fde0ef"
            ],
            [
             0.5,
             "#f7f7f7"
            ],
            [
             0.6,
             "#e6f5d0"
            ],
            [
             0.7,
             "#b8e186"
            ],
            [
             0.8,
             "#7fbc41"
            ],
            [
             0.9,
             "#4d9221"
            ],
            [
             1,
             "#276419"
            ]
           ],
           "sequential": [
            [
             0,
             "#0d0887"
            ],
            [
             0.1111111111111111,
             "#46039f"
            ],
            [
             0.2222222222222222,
             "#7201a8"
            ],
            [
             0.3333333333333333,
             "#9c179e"
            ],
            [
             0.4444444444444444,
             "#bd3786"
            ],
            [
             0.5555555555555556,
             "#d8576b"
            ],
            [
             0.6666666666666666,
             "#ed7953"
            ],
            [
             0.7777777777777778,
             "#fb9f3a"
            ],
            [
             0.8888888888888888,
             "#fdca26"
            ],
            [
             1,
             "#f0f921"
            ]
           ],
           "sequentialminus": [
            [
             0,
             "#0d0887"
            ],
            [
             0.1111111111111111,
             "#46039f"
            ],
            [
             0.2222222222222222,
             "#7201a8"
            ],
            [
             0.3333333333333333,
             "#9c179e"
            ],
            [
             0.4444444444444444,
             "#bd3786"
            ],
            [
             0.5555555555555556,
             "#d8576b"
            ],
            [
             0.6666666666666666,
             "#ed7953"
            ],
            [
             0.7777777777777778,
             "#fb9f3a"
            ],
            [
             0.8888888888888888,
             "#fdca26"
            ],
            [
             1,
             "#f0f921"
            ]
           ]
          },
          "colorway": [
           "#636efa",
           "#EF553B",
           "#00cc96",
           "#ab63fa",
           "#FFA15A",
           "#19d3f3",
           "#FF6692",
           "#B6E880",
           "#FF97FF",
           "#FECB52"
          ],
          "font": {
           "color": "#2a3f5f"
          },
          "geo": {
           "bgcolor": "white",
           "lakecolor": "white",
           "landcolor": "#E5ECF6",
           "showlakes": true,
           "showland": true,
           "subunitcolor": "white"
          },
          "hoverlabel": {
           "align": "left"
          },
          "hovermode": "closest",
          "mapbox": {
           "style": "light"
          },
          "paper_bgcolor": "white",
          "plot_bgcolor": "#E5ECF6",
          "polar": {
           "angularaxis": {
            "gridcolor": "white",
            "linecolor": "white",
            "ticks": ""
           },
           "bgcolor": "#E5ECF6",
           "radialaxis": {
            "gridcolor": "white",
            "linecolor": "white",
            "ticks": ""
           }
          },
          "scene": {
           "xaxis": {
            "backgroundcolor": "#E5ECF6",
            "gridcolor": "white",
            "gridwidth": 2,
            "linecolor": "white",
            "showbackground": true,
            "ticks": "",
            "zerolinecolor": "white"
           },
           "yaxis": {
            "backgroundcolor": "#E5ECF6",
            "gridcolor": "white",
            "gridwidth": 2,
            "linecolor": "white",
            "showbackground": true,
            "ticks": "",
            "zerolinecolor": "white"
           },
           "zaxis": {
            "backgroundcolor": "#E5ECF6",
            "gridcolor": "white",
            "gridwidth": 2,
            "linecolor": "white",
            "showbackground": true,
            "ticks": "",
            "zerolinecolor": "white"
           }
          },
          "shapedefaults": {
           "line": {
            "color": "#2a3f5f"
           }
          },
          "ternary": {
           "aaxis": {
            "gridcolor": "white",
            "linecolor": "white",
            "ticks": ""
           },
           "baxis": {
            "gridcolor": "white",
            "linecolor": "white",
            "ticks": ""
           },
           "bgcolor": "#E5ECF6",
           "caxis": {
            "gridcolor": "white",
            "linecolor": "white",
            "ticks": ""
           }
          },
          "title": {
           "x": 0.05
          },
          "xaxis": {
           "automargin": true,
           "gridcolor": "white",
           "linecolor": "white",
           "ticks": "",
           "title": {
            "standoff": 15
           },
           "zerolinecolor": "white",
           "zerolinewidth": 2
          },
          "yaxis": {
           "automargin": true,
           "gridcolor": "white",
           "linecolor": "white",
           "ticks": "",
           "title": {
            "standoff": 15
           },
           "zerolinecolor": "white",
           "zerolinewidth": 2
          }
         }
        },
        "title": {
         "text": "Slice Plot"
        },
        "width": 1500,
        "xaxis": {
         "anchor": "y",
         "domain": [
          0,
          0.16799999999999998
         ],
         "title": {
          "text": "alpha"
         },
         "type": "log"
        },
        "xaxis2": {
         "anchor": "y2",
         "domain": [
          0.208,
          0.376
         ],
         "title": {
          "text": "decay_end"
         }
        },
        "xaxis3": {
         "anchor": "y3",
         "domain": [
          0.416,
          0.584
         ],
         "title": {
          "text": "decay_steps"
         }
        },
        "xaxis4": {
         "anchor": "y4",
         "domain": [
          0.624,
          0.792
         ],
         "title": {
          "text": "epsilon"
         },
         "type": "log"
        },
        "xaxis5": {
         "anchor": "y5",
         "domain": [
          0.832,
          1
         ],
         "title": {
          "text": "gamma"
         }
        },
        "yaxis": {
         "anchor": "x",
         "domain": [
          0,
          1
         ],
         "title": {
          "text": "Objective Value"
         }
        },
        "yaxis2": {
         "anchor": "x2",
         "domain": [
          0,
          1
         ],
         "matches": "y",
         "showticklabels": false
        },
        "yaxis3": {
         "anchor": "x3",
         "domain": [
          0,
          1
         ],
         "matches": "y",
         "showticklabels": false
        },
        "yaxis4": {
         "anchor": "x4",
         "domain": [
          0,
          1
         ],
         "matches": "y",
         "showticklabels": false
        },
        "yaxis5": {
         "anchor": "x5",
         "domain": [
          0,
          1
         ],
         "matches": "y",
         "showticklabels": false
        }
       }
      },
      "text/html": [
       "<div>                            <div id=\"206cbf1b-82f7-437a-88f0-8cacb8ca675b\" class=\"plotly-graph-div\" style=\"height:525px; width:1500px;\"></div>            <script type=\"text/javascript\">                require([\"plotly\"], function(Plotly) {                    window.PLOTLYENV=window.PLOTLYENV || {};                                    if (document.getElementById(\"206cbf1b-82f7-437a-88f0-8cacb8ca675b\")) {                    Plotly.newPlot(                        \"206cbf1b-82f7-437a-88f0-8cacb8ca675b\",                        [{\"marker\":{\"color\":[0,1,2,3,4,5,6,7,8,9,10,11,12,13,14,15,16,17,18,19,20,21,22,23,24,25,26,27,28,29,30,31,32,33,34,35,36,37,38,39,40,41,42,43,44,45,46,47,48,49],\"colorbar\":{\"title\":{\"text\":\"#Trials\"},\"x\":1.0,\"xpad\":40},\"colorscale\":[[0.0,\"rgb(247,251,255)\"],[0.125,\"rgb(222,235,247)\"],[0.25,\"rgb(198,219,239)\"],[0.375,\"rgb(158,202,225)\"],[0.5,\"rgb(107,174,214)\"],[0.625,\"rgb(66,146,198)\"],[0.75,\"rgb(33,113,181)\"],[0.875,\"rgb(8,81,156)\"],[1.0,\"rgb(8,48,107)\"]],\"line\":{\"color\":\"Grey\",\"width\":0.5},\"showscale\":true},\"mode\":\"markers\",\"showlegend\":false,\"x\":[0.015887784939561177,0.014245282127494083,0.02251145536983653,0.025765312346332798,0.012440122278218066,0.09782255996645739,0.23694065523262592,0.020117006646742576,0.1145272849247403,0.09397743763187245,0.2969962092445243,0.2923240469314058,0.28285400731897864,0.15956140760091966,0.0479242501514361,0.18232884860529694,0.0621627428411589,0.16318174061250693,0.17043159054081547,0.05139022702279632,0.19510114130126385,0.29370858793994953,0.23965617221120253,0.1316973533083835,0.0739705649672864,0.25327971565318613,0.038248435692391565,0.2155954190186733,0.13087717123960577,0.2256767162435639,0.13990355472662527,0.2360335738970766,0.2399585836441919,0.24796811693622936,0.27447707938924126,0.1590450336876922,0.18905024042822785,0.09522975099303167,0.03288835281919143,0.11217580098969597,0.011664513961313468,0.28942793268080963,0.29696020189905153,0.20748346569747844,0.24342794759961509,0.25198690080574915,0.20730588955540533,0.0168290062170959,0.14984400518840874,0.2526665227436859],\"y\":[0.147,0.125,0.209,0.078,0.056,0.074,1.0,0.099,0.227,0.867,0.164,1.0,1.0,1.0,0.38,0.399,0.547,0.342,0.46799999999999997,0.165,0.256,1.0,1.0,0.53,0.304,1.0,0.359,0.449,0.228,0.144,0.776,0.861,0.436,1.0,0.753,0.571,0.145,0.631,0.19,0.662,0.148,1.0,0.544,0.462,1.0,1.0,0.639,0.073,0.616,0.387],\"type\":\"scatter\",\"xaxis\":\"x\",\"yaxis\":\"y\"},{\"marker\":{\"color\":[0,1,2,3,4,5,6,7,8,9,10,11,12,13,14,15,16,17,18,19,20,21,22,23,24,25,26,27,28,29,30,31,32,33,34,35,36,37,38,39,40,41,42,43,44,45,46,47,48,49],\"colorbar\":{\"title\":{\"text\":\"#Trials\"},\"x\":1.0,\"xpad\":40},\"colorscale\":[[0.0,\"rgb(247,251,255)\"],[0.125,\"rgb(222,235,247)\"],[0.25,\"rgb(198,219,239)\"],[0.375,\"rgb(158,202,225)\"],[0.5,\"rgb(107,174,214)\"],[0.625,\"rgb(66,146,198)\"],[0.75,\"rgb(33,113,181)\"],[0.875,\"rgb(8,81,156)\"],[1.0,\"rgb(8,48,107)\"]],\"line\":{\"color\":\"Grey\",\"width\":0.5},\"showscale\":false},\"mode\":\"markers\",\"showlegend\":false,\"x\":[0.005281461133483823,0.03386912508795687,0.11688950316213835,0.03360107804941037,0.014647539302236393,0.007334310843629711,0.017600229344677983,0.03005581095543262,0.00705068523199926,0.05393407002656955,0.08813308582354838,0.2153258202408247,0.22412643499751958,0.20114518339974005,0.10035773146551749,0.0551004275710639,0.15357105165893375,0.22774601271600767,0.2939397764455487,0.12305480622001556,0.05255821611599176,0.2061526803358517,0.16289975452615668,0.22308175841406183,0.18480618544289193,0.040694425815925736,0.1680875577300019,0.19027906641863584,0.13489051630236626,0.011391638552495087,0.2619557747481728,0.040197125039950404,0.09031433120657992,0.10063743568219757,0.09290696878012844,0.20123844326738163,0.008196645039460382,0.011890451574303726,0.02376787530833724,0.17038158691256589,0.13093493157406091,0.21503418903736482,0.2082047777871804,0.02388240085377949,0.16496603398286158,0.1300747722534384,0.17039370012320673,0.005792605331248911,0.08611913901110606,0.0373212589915116],\"y\":[0.147,0.125,0.209,0.078,0.056,0.074,1.0,0.099,0.227,0.867,0.164,1.0,1.0,1.0,0.38,0.399,0.547,0.342,0.46799999999999997,0.165,0.256,1.0,1.0,0.53,0.304,1.0,0.359,0.449,0.228,0.144,0.776,0.861,0.436,1.0,0.753,0.571,0.145,0.631,0.19,0.662,0.148,1.0,0.544,0.462,1.0,1.0,0.639,0.073,0.616,0.387],\"type\":\"scatter\",\"xaxis\":\"x2\",\"yaxis\":\"y2\"},{\"marker\":{\"color\":[0,1,2,3,4,5,6,7,8,9,10,11,12,13,14,15,16,17,18,19,20,21,22,23,24,25,26,27,28,29,30,31,32,33,34,35,36,37,38,39,40,41,42,43,44,45,46,47,48,49],\"colorbar\":{\"title\":{\"text\":\"#Trials\"},\"x\":1.0,\"xpad\":40},\"colorscale\":[[0.0,\"rgb(247,251,255)\"],[0.125,\"rgb(222,235,247)\"],[0.25,\"rgb(198,219,239)\"],[0.375,\"rgb(158,202,225)\"],[0.5,\"rgb(107,174,214)\"],[0.625,\"rgb(66,146,198)\"],[0.75,\"rgb(33,113,181)\"],[0.875,\"rgb(8,81,156)\"],[1.0,\"rgb(8,48,107)\"]],\"line\":{\"color\":\"Grey\",\"width\":0.5},\"showscale\":false},\"mode\":\"markers\",\"showlegend\":false,\"x\":[6116.695994087402,11395.284011015043,18134.937101731888,2757.005883713839,7768.250373331125,8599.250104203542,6278.965774396572,17787.656486605356,11130.02991343815,13587.554927071144,1008.2026501952696,14277.395992667232,14774.304279093782,5321.488753709817,15020.849835592098,19977.415515896675,3439.417180899676,3854.19273672948,9877.512463564033,16338.381963095739,5729.223705472655,12881.88535975931,12120.32430603922,14755.115694389375,13543.09074764771,12371.74683192607,16501.647334872625,10039.670625643232,11645.418836376704,7270.604913939907,5069.7563186968055,12266.47213895937,12688.162973486444,9476.58178372452,10370.121977402518,8504.75913915231,7006.438925750724,1683.6856597727424,9533.10837502329,15248.068438795752,10970.11166021564,14081.059901531058,13839.578713076906,16209.188395977422,12737.723335945917,8839.116770460862,11713.430895369966,8597.00869705726,6532.765203794343,9192.093907706761],\"y\":[0.147,0.125,0.209,0.078,0.056,0.074,1.0,0.099,0.227,0.867,0.164,1.0,1.0,1.0,0.38,0.399,0.547,0.342,0.46799999999999997,0.165,0.256,1.0,1.0,0.53,0.304,1.0,0.359,0.449,0.228,0.144,0.776,0.861,0.436,1.0,0.753,0.571,0.145,0.631,0.19,0.662,0.148,1.0,0.544,0.462,1.0,1.0,0.639,0.073,0.616,0.387],\"type\":\"scatter\",\"xaxis\":\"x3\",\"yaxis\":\"y3\"},{\"marker\":{\"color\":[0,1,2,3,4,5,6,7,8,9,10,11,12,13,14,15,16,17,18,19,20,21,22,23,24,25,26,27,28,29,30,31,32,33,34,35,36,37,38,39,40,41,42,43,44,45,46,47,48,49],\"colorbar\":{\"title\":{\"text\":\"#Trials\"},\"x\":1.0,\"xpad\":40},\"colorscale\":[[0.0,\"rgb(247,251,255)\"],[0.125,\"rgb(222,235,247)\"],[0.25,\"rgb(198,219,239)\"],[0.375,\"rgb(158,202,225)\"],[0.5,\"rgb(107,174,214)\"],[0.625,\"rgb(66,146,198)\"],[0.75,\"rgb(33,113,181)\"],[0.875,\"rgb(8,81,156)\"],[1.0,\"rgb(8,48,107)\"]],\"line\":{\"color\":\"Grey\",\"width\":0.5},\"showscale\":false},\"mode\":\"markers\",\"showlegend\":false,\"x\":[0.012461881350975547,0.044038252396981246,0.16259405727928136,0.09032895034969235,0.03299054953160372,0.045716906340364655,0.09473808641392292,0.032948658537848695,0.016804475129690136,0.06274274406968157,0.15758577320755757,0.2978645396841107,0.29251464882040523,0.29471309528657275,0.12655090493979249,0.08532311234968389,0.19290624456533786,0.23420353490295334,0.2987443276517694,0.12452206406380584,0.0814324383129743,0.22493700994035504,0.20119846222563398,0.26678474963018173,0.20002742841367568,0.1356761151151446,0.1945492185244023,0.2065231231364847,0.14036400003302052,0.10673400977698348,0.2937114599562246,0.06926603394937772,0.10204384633567419,0.15549497072406418,0.1578301257853984,0.2378446928755305,0.011086303672945712,0.12102068508464642,0.05274404440346277,0.22708939131288555,0.17470387926703718,0.2544470849143185,0.2506403885904268,0.02829028134974524,0.17066401287724187,0.14754403828791107,0.17776200814126786,0.017007724362736544,0.10721009862142183,0.07445773455981251],\"y\":[0.147,0.125,0.209,0.078,0.056,0.074,1.0,0.099,0.227,0.867,0.164,1.0,1.0,1.0,0.38,0.399,0.547,0.342,0.46799999999999997,0.165,0.256,1.0,1.0,0.53,0.304,1.0,0.359,0.449,0.228,0.144,0.776,0.861,0.436,1.0,0.753,0.571,0.145,0.631,0.19,0.662,0.148,1.0,0.544,0.462,1.0,1.0,0.639,0.073,0.616,0.387],\"type\":\"scatter\",\"xaxis\":\"x4\",\"yaxis\":\"y4\"},{\"marker\":{\"color\":[0,1,2,3,4,5,6,7,8,9,10,11,12,13,14,15,16,17,18,19,20,21,22,23,24,25,26,27,28,29,30,31,32,33,34,35,36,37,38,39,40,41,42,43,44,45,46,47,48,49],\"colorbar\":{\"title\":{\"text\":\"#Trials\"},\"x\":1.0,\"xpad\":40},\"colorscale\":[[0.0,\"rgb(247,251,255)\"],[0.125,\"rgb(222,235,247)\"],[0.25,\"rgb(198,219,239)\"],[0.375,\"rgb(158,202,225)\"],[0.5,\"rgb(107,174,214)\"],[0.625,\"rgb(66,146,198)\"],[0.75,\"rgb(33,113,181)\"],[0.875,\"rgb(8,81,156)\"],[1.0,\"rgb(8,48,107)\"]],\"line\":{\"color\":\"Grey\",\"width\":0.5},\"showscale\":false},\"mode\":\"markers\",\"showlegend\":false,\"x\":[0.9229460225549834,0.962122700132542,0.8759386045597057,0.8786988244083404,0.9484217161772432,0.9888562883907218,0.9613235873080813,0.8992516010246396,0.9525709027213521,0.9848635766074106,0.9219301485968923,0.9964510154425122,0.9943815608106136,0.9674300980017406,0.9746400863860956,0.9375888238807687,0.9757620370566445,0.8561162886053421,0.9988961806076,0.9352477978549804,0.9622264633156067,0.9948953744705571,0.9809131460384501,0.975124823012818,0.9979548990414675,0.9854819587083302,0.9827327644176411,0.9693595090168338,0.9491959366529279,0.9177840422031593,0.9902461355311633,0.9801397323195044,0.9591290533631357,0.9846237161687245,0.9847602361712169,0.9666911169749102,0.908511368513517,0.9391978523543941,0.9550538842528296,0.993789298574306,0.8881906522942679,0.9934218455013704,0.9701584491785731,0.9906712524141712,0.9782169040083118,0.9859981046208016,0.9797762619367143,0.9881772496923245,0.9611877150245821,0.9714710581126443],\"y\":[0.147,0.125,0.209,0.078,0.056,0.074,1.0,0.099,0.227,0.867,0.164,1.0,1.0,1.0,0.38,0.399,0.547,0.342,0.46799999999999997,0.165,0.256,1.0,1.0,0.53,0.304,1.0,0.359,0.449,0.228,0.144,0.776,0.861,0.436,1.0,0.753,0.571,0.145,0.631,0.19,0.662,0.148,1.0,0.544,0.462,1.0,1.0,0.639,0.073,0.616,0.387],\"type\":\"scatter\",\"xaxis\":\"x5\",\"yaxis\":\"y5\"}],                        {\"template\":{\"data\":{\"histogram2dcontour\":[{\"type\":\"histogram2dcontour\",\"colorbar\":{\"outlinewidth\":0,\"ticks\":\"\"},\"colorscale\":[[0.0,\"#0d0887\"],[0.1111111111111111,\"#46039f\"],[0.2222222222222222,\"#7201a8\"],[0.3333333333333333,\"#9c179e\"],[0.4444444444444444,\"#bd3786\"],[0.5555555555555556,\"#d8576b\"],[0.6666666666666666,\"#ed7953\"],[0.7777777777777778,\"#fb9f3a\"],[0.8888888888888888,\"#fdca26\"],[1.0,\"#f0f921\"]]}],\"choropleth\":[{\"type\":\"choropleth\",\"colorbar\":{\"outlinewidth\":0,\"ticks\":\"\"}}],\"histogram2d\":[{\"type\":\"histogram2d\",\"colorbar\":{\"outlinewidth\":0,\"ticks\":\"\"},\"colorscale\":[[0.0,\"#0d0887\"],[0.1111111111111111,\"#46039f\"],[0.2222222222222222,\"#7201a8\"],[0.3333333333333333,\"#9c179e\"],[0.4444444444444444,\"#bd3786\"],[0.5555555555555556,\"#d8576b\"],[0.6666666666666666,\"#ed7953\"],[0.7777777777777778,\"#fb9f3a\"],[0.8888888888888888,\"#fdca26\"],[1.0,\"#f0f921\"]]}],\"heatmap\":[{\"type\":\"heatmap\",\"colorbar\":{\"outlinewidth\":0,\"ticks\":\"\"},\"colorscale\":[[0.0,\"#0d0887\"],[0.1111111111111111,\"#46039f\"],[0.2222222222222222,\"#7201a8\"],[0.3333333333333333,\"#9c179e\"],[0.4444444444444444,\"#bd3786\"],[0.5555555555555556,\"#d8576b\"],[0.6666666666666666,\"#ed7953\"],[0.7777777777777778,\"#fb9f3a\"],[0.8888888888888888,\"#fdca26\"],[1.0,\"#f0f921\"]]}],\"heatmapgl\":[{\"type\":\"heatmapgl\",\"colorbar\":{\"outlinewidth\":0,\"ticks\":\"\"},\"colorscale\":[[0.0,\"#0d0887\"],[0.1111111111111111,\"#46039f\"],[0.2222222222222222,\"#7201a8\"],[0.3333333333333333,\"#9c179e\"],[0.4444444444444444,\"#bd3786\"],[0.5555555555555556,\"#d8576b\"],[0.6666666666666666,\"#ed7953\"],[0.7777777777777778,\"#fb9f3a\"],[0.8888888888888888,\"#fdca26\"],[1.0,\"#f0f921\"]]}],\"contourcarpet\":[{\"type\":\"contourcarpet\",\"colorbar\":{\"outlinewidth\":0,\"ticks\":\"\"}}],\"contour\":[{\"type\":\"contour\",\"colorbar\":{\"outlinewidth\":0,\"ticks\":\"\"},\"colorscale\":[[0.0,\"#0d0887\"],[0.1111111111111111,\"#46039f\"],[0.2222222222222222,\"#7201a8\"],[0.3333333333333333,\"#9c179e\"],[0.4444444444444444,\"#bd3786\"],[0.5555555555555556,\"#d8576b\"],[0.6666666666666666,\"#ed7953\"],[0.7777777777777778,\"#fb9f3a\"],[0.8888888888888888,\"#fdca26\"],[1.0,\"#f0f921\"]]}],\"surface\":[{\"type\":\"surface\",\"colorbar\":{\"outlinewidth\":0,\"ticks\":\"\"},\"colorscale\":[[0.0,\"#0d0887\"],[0.1111111111111111,\"#46039f\"],[0.2222222222222222,\"#7201a8\"],[0.3333333333333333,\"#9c179e\"],[0.4444444444444444,\"#bd3786\"],[0.5555555555555556,\"#d8576b\"],[0.6666666666666666,\"#ed7953\"],[0.7777777777777778,\"#fb9f3a\"],[0.8888888888888888,\"#fdca26\"],[1.0,\"#f0f921\"]]}],\"mesh3d\":[{\"type\":\"mesh3d\",\"colorbar\":{\"outlinewidth\":0,\"ticks\":\"\"}}],\"scatter\":[{\"fillpattern\":{\"fillmode\":\"overlay\",\"size\":10,\"solidity\":0.2},\"type\":\"scatter\"}],\"parcoords\":[{\"type\":\"parcoords\",\"line\":{\"colorbar\":{\"outlinewidth\":0,\"ticks\":\"\"}}}],\"scatterpolargl\":[{\"type\":\"scatterpolargl\",\"marker\":{\"colorbar\":{\"outlinewidth\":0,\"ticks\":\"\"}}}],\"bar\":[{\"error_x\":{\"color\":\"#2a3f5f\"},\"error_y\":{\"color\":\"#2a3f5f\"},\"marker\":{\"line\":{\"color\":\"#E5ECF6\",\"width\":0.5},\"pattern\":{\"fillmode\":\"overlay\",\"size\":10,\"solidity\":0.2}},\"type\":\"bar\"}],\"scattergeo\":[{\"type\":\"scattergeo\",\"marker\":{\"colorbar\":{\"outlinewidth\":0,\"ticks\":\"\"}}}],\"scatterpolar\":[{\"type\":\"scatterpolar\",\"marker\":{\"colorbar\":{\"outlinewidth\":0,\"ticks\":\"\"}}}],\"histogram\":[{\"marker\":{\"pattern\":{\"fillmode\":\"overlay\",\"size\":10,\"solidity\":0.2}},\"type\":\"histogram\"}],\"scattergl\":[{\"type\":\"scattergl\",\"marker\":{\"colorbar\":{\"outlinewidth\":0,\"ticks\":\"\"}}}],\"scatter3d\":[{\"type\":\"scatter3d\",\"line\":{\"colorbar\":{\"outlinewidth\":0,\"ticks\":\"\"}},\"marker\":{\"colorbar\":{\"outlinewidth\":0,\"ticks\":\"\"}}}],\"scattermapbox\":[{\"type\":\"scattermapbox\",\"marker\":{\"colorbar\":{\"outlinewidth\":0,\"ticks\":\"\"}}}],\"scatterternary\":[{\"type\":\"scatterternary\",\"marker\":{\"colorbar\":{\"outlinewidth\":0,\"ticks\":\"\"}}}],\"scattercarpet\":[{\"type\":\"scattercarpet\",\"marker\":{\"colorbar\":{\"outlinewidth\":0,\"ticks\":\"\"}}}],\"carpet\":[{\"aaxis\":{\"endlinecolor\":\"#2a3f5f\",\"gridcolor\":\"white\",\"linecolor\":\"white\",\"minorgridcolor\":\"white\",\"startlinecolor\":\"#2a3f5f\"},\"baxis\":{\"endlinecolor\":\"#2a3f5f\",\"gridcolor\":\"white\",\"linecolor\":\"white\",\"minorgridcolor\":\"white\",\"startlinecolor\":\"#2a3f5f\"},\"type\":\"carpet\"}],\"table\":[{\"cells\":{\"fill\":{\"color\":\"#EBF0F8\"},\"line\":{\"color\":\"white\"}},\"header\":{\"fill\":{\"color\":\"#C8D4E3\"},\"line\":{\"color\":\"white\"}},\"type\":\"table\"}],\"barpolar\":[{\"marker\":{\"line\":{\"color\":\"#E5ECF6\",\"width\":0.5},\"pattern\":{\"fillmode\":\"overlay\",\"size\":10,\"solidity\":0.2}},\"type\":\"barpolar\"}],\"pie\":[{\"automargin\":true,\"type\":\"pie\"}]},\"layout\":{\"autotypenumbers\":\"strict\",\"colorway\":[\"#636efa\",\"#EF553B\",\"#00cc96\",\"#ab63fa\",\"#FFA15A\",\"#19d3f3\",\"#FF6692\",\"#B6E880\",\"#FF97FF\",\"#FECB52\"],\"font\":{\"color\":\"#2a3f5f\"},\"hovermode\":\"closest\",\"hoverlabel\":{\"align\":\"left\"},\"paper_bgcolor\":\"white\",\"plot_bgcolor\":\"#E5ECF6\",\"polar\":{\"bgcolor\":\"#E5ECF6\",\"angularaxis\":{\"gridcolor\":\"white\",\"linecolor\":\"white\",\"ticks\":\"\"},\"radialaxis\":{\"gridcolor\":\"white\",\"linecolor\":\"white\",\"ticks\":\"\"}},\"ternary\":{\"bgcolor\":\"#E5ECF6\",\"aaxis\":{\"gridcolor\":\"white\",\"linecolor\":\"white\",\"ticks\":\"\"},\"baxis\":{\"gridcolor\":\"white\",\"linecolor\":\"white\",\"ticks\":\"\"},\"caxis\":{\"gridcolor\":\"white\",\"linecolor\":\"white\",\"ticks\":\"\"}},\"coloraxis\":{\"colorbar\":{\"outlinewidth\":0,\"ticks\":\"\"}},\"colorscale\":{\"sequential\":[[0.0,\"#0d0887\"],[0.1111111111111111,\"#46039f\"],[0.2222222222222222,\"#7201a8\"],[0.3333333333333333,\"#9c179e\"],[0.4444444444444444,\"#bd3786\"],[0.5555555555555556,\"#d8576b\"],[0.6666666666666666,\"#ed7953\"],[0.7777777777777778,\"#fb9f3a\"],[0.8888888888888888,\"#fdca26\"],[1.0,\"#f0f921\"]],\"sequentialminus\":[[0.0,\"#0d0887\"],[0.1111111111111111,\"#46039f\"],[0.2222222222222222,\"#7201a8\"],[0.3333333333333333,\"#9c179e\"],[0.4444444444444444,\"#bd3786\"],[0.5555555555555556,\"#d8576b\"],[0.6666666666666666,\"#ed7953\"],[0.7777777777777778,\"#fb9f3a\"],[0.8888888888888888,\"#fdca26\"],[1.0,\"#f0f921\"]],\"diverging\":[[0,\"#8e0152\"],[0.1,\"#c51b7d\"],[0.2,\"#de77ae\"],[0.3,\"#f1b6da\"],[0.4,\"#fde0ef\"],[0.5,\"#f7f7f7\"],[0.6,\"#e6f5d0\"],[0.7,\"#b8e186\"],[0.8,\"#7fbc41\"],[0.9,\"#4d9221\"],[1,\"#276419\"]]},\"xaxis\":{\"gridcolor\":\"white\",\"linecolor\":\"white\",\"ticks\":\"\",\"title\":{\"standoff\":15},\"zerolinecolor\":\"white\",\"automargin\":true,\"zerolinewidth\":2},\"yaxis\":{\"gridcolor\":\"white\",\"linecolor\":\"white\",\"ticks\":\"\",\"title\":{\"standoff\":15},\"zerolinecolor\":\"white\",\"automargin\":true,\"zerolinewidth\":2},\"scene\":{\"xaxis\":{\"backgroundcolor\":\"#E5ECF6\",\"gridcolor\":\"white\",\"linecolor\":\"white\",\"showbackground\":true,\"ticks\":\"\",\"zerolinecolor\":\"white\",\"gridwidth\":2},\"yaxis\":{\"backgroundcolor\":\"#E5ECF6\",\"gridcolor\":\"white\",\"linecolor\":\"white\",\"showbackground\":true,\"ticks\":\"\",\"zerolinecolor\":\"white\",\"gridwidth\":2},\"zaxis\":{\"backgroundcolor\":\"#E5ECF6\",\"gridcolor\":\"white\",\"linecolor\":\"white\",\"showbackground\":true,\"ticks\":\"\",\"zerolinecolor\":\"white\",\"gridwidth\":2}},\"shapedefaults\":{\"line\":{\"color\":\"#2a3f5f\"}},\"annotationdefaults\":{\"arrowcolor\":\"#2a3f5f\",\"arrowhead\":0,\"arrowwidth\":1},\"geo\":{\"bgcolor\":\"white\",\"landcolor\":\"#E5ECF6\",\"subunitcolor\":\"white\",\"showland\":true,\"showlakes\":true,\"lakecolor\":\"white\"},\"title\":{\"x\":0.05},\"mapbox\":{\"style\":\"light\"}}},\"xaxis\":{\"anchor\":\"y\",\"domain\":[0.0,0.16799999999999998],\"title\":{\"text\":\"alpha\"},\"type\":\"log\"},\"yaxis\":{\"anchor\":\"x\",\"domain\":[0.0,1.0],\"title\":{\"text\":\"Objective Value\"}},\"xaxis2\":{\"anchor\":\"y2\",\"domain\":[0.208,0.376],\"title\":{\"text\":\"decay_end\"}},\"yaxis2\":{\"anchor\":\"x2\",\"domain\":[0.0,1.0],\"matches\":\"y\",\"showticklabels\":false},\"xaxis3\":{\"anchor\":\"y3\",\"domain\":[0.416,0.584],\"title\":{\"text\":\"decay_steps\"}},\"yaxis3\":{\"anchor\":\"x3\",\"domain\":[0.0,1.0],\"matches\":\"y\",\"showticklabels\":false},\"xaxis4\":{\"anchor\":\"y4\",\"domain\":[0.624,0.792],\"title\":{\"text\":\"epsilon\"},\"type\":\"log\"},\"yaxis4\":{\"anchor\":\"x4\",\"domain\":[0.0,1.0],\"matches\":\"y\",\"showticklabels\":false},\"xaxis5\":{\"anchor\":\"y5\",\"domain\":[0.832,1.0],\"title\":{\"text\":\"gamma\"}},\"yaxis5\":{\"anchor\":\"x5\",\"domain\":[0.0,1.0],\"matches\":\"y\",\"showticklabels\":false},\"title\":{\"text\":\"Slice Plot\"},\"width\":1500},                        {\"responsive\": true}                    ).then(function(){\n",
       "                            \n",
       "var gd = document.getElementById('206cbf1b-82f7-437a-88f0-8cacb8ca675b');\n",
       "var x = new MutationObserver(function (mutations, observer) {{\n",
       "        var display = window.getComputedStyle(gd).display;\n",
       "        if (!display || display === 'none') {{\n",
       "            console.log([gd, 'removed!']);\n",
       "            Plotly.purge(gd);\n",
       "            observer.disconnect();\n",
       "        }}\n",
       "}});\n",
       "\n",
       "// Listen for the removal of the full notebook cells\n",
       "var notebookContainer = gd.closest('#notebook-container');\n",
       "if (notebookContainer) {{\n",
       "    x.observe(notebookContainer, {childList: true});\n",
       "}}\n",
       "\n",
       "// Listen for the clearing of the current output cell\n",
       "var outputEl = gd.closest('.output');\n",
       "if (outputEl) {{\n",
       "    x.observe(outputEl, {childList: true});\n",
       "}}\n",
       "\n",
       "                        })                };                });            </script>        </div>"
      ]
     },
     "metadata": {},
     "output_type": "display_data"
    }
   ],
   "source": [
    "fig = optuna.visualization.plot_slice(study, params=[\"alpha\", \"gamma\",\"epsilon\", 'decay_steps', 'decay_end'])\n",
    "fig.show()"
   ]
  },
  {
   "cell_type": "code",
   "execution_count": 13,
   "id": "ff683eb6",
   "metadata": {
    "scrolled": false
   },
   "outputs": [
    {
     "data": {
      "application/vnd.plotly.v1+json": {
       "config": {
        "plotlyServerURL": "https://plot.ly"
       },
       "data": [
        {
         "dimensions": [
          {
           "label": "Objective Value",
           "range": [
            0.056,
            1
           ],
           "values": [
            0.147,
            0.125,
            0.209,
            0.078,
            0.056,
            0.074,
            1,
            0.099,
            0.227,
            0.867,
            0.164,
            1,
            1,
            1,
            0.38,
            0.399,
            0.547,
            0.342,
            0.46799999999999997,
            0.165,
            0.256,
            1,
            1,
            0.53,
            0.304,
            1,
            0.359,
            0.449,
            0.228,
            0.144,
            0.776,
            0.861,
            0.436,
            1,
            0.753,
            0.571,
            0.145,
            0.631,
            0.19,
            0.662,
            0.148,
            1,
            0.544,
            0.462,
            1,
            1,
            0.639,
            0.073,
            0.616,
            0.387
           ]
          },
          {
           "label": "alpha",
           "range": [
            -1.9331333527396868,
            -0.5272490938298978
           ],
           "ticktext": [
            "0.0117",
            "0.1",
            "0.297"
           ],
           "tickvals": [
            -1.9331333527396868,
            -1,
            -0.5272490938298978
           ],
           "values": [
            -1.7989366475114579,
            -1.8463289451468246,
            -1.6475964268716559,
            -1.5889645883293746,
            -1.9051753507951703,
            -1.0095609761011317,
            -0.6253604148858039,
            -1.6964366405900266,
            -0.9410910348908244,
            -1.0269764005293816,
            -0.5272490938298978,
            -0.5341354575811231,
            -0.5484376640362063,
            -0.7970721411349749,
            -1.3194446736015166,
            -0.7391446105613274,
            -1.2064698311682158,
            -0.7873284386880377,
            -0.768449902961501,
            -1.2891194637600512,
            -0.7097401900652907,
            -0.53208335466752,
            -0.6204113815157236,
            -0.8804229528674821,
            -1.1309410642609428,
            -0.5963995900461599,
            -1.417386322184999,
            -0.6663604712962831,
            -0.8831361003499085,
            -0.646513246099746,
            -0.8541712506365131,
            -0.6270262177028826,
            -0.6198637101506821,
            -0.6056041559834818,
            -0.5614939160969012,
            -0.7984798875481609,
            -0.7234227659788524,
            -1.0212273512625867,
            -1.4829578771847107,
            -0.9501008207103055,
            -1.9331333527396868,
            -0.5384595574473203,
            -0.5273017501904407,
            -0.683016506385411,
            -0.6136295625417585,
            -0.5986220348360869,
            -0.6833883594349404,
            -1.773941529132579,
            -0.8243606271973011,
            -0.5974522964687732
           ]
          },
          {
           "label": "decay_end",
           "range": [
            0.005281461133483823,
            0.2939397764455487
           ],
           "values": [
            0.005281461133483823,
            0.03386912508795687,
            0.11688950316213835,
            0.03360107804941037,
            0.014647539302236393,
            0.007334310843629711,
            0.017600229344677983,
            0.03005581095543262,
            0.00705068523199926,
            0.05393407002656955,
            0.08813308582354838,
            0.2153258202408247,
            0.22412643499751958,
            0.20114518339974005,
            0.10035773146551749,
            0.0551004275710639,
            0.15357105165893375,
            0.22774601271600767,
            0.2939397764455487,
            0.12305480622001556,
            0.05255821611599176,
            0.2061526803358517,
            0.16289975452615668,
            0.22308175841406183,
            0.18480618544289193,
            0.040694425815925736,
            0.1680875577300019,
            0.19027906641863584,
            0.13489051630236626,
            0.011391638552495087,
            0.2619557747481728,
            0.040197125039950404,
            0.09031433120657992,
            0.10063743568219757,
            0.09290696878012844,
            0.20123844326738163,
            0.008196645039460382,
            0.011890451574303726,
            0.02376787530833724,
            0.17038158691256589,
            0.13093493157406091,
            0.21503418903736482,
            0.2082047777871804,
            0.02388240085377949,
            0.16496603398286158,
            0.1300747722534384,
            0.17039370012320673,
            0.005792605331248911,
            0.08611913901110606,
            0.0373212589915116
           ]
          },
          {
           "label": "decay_steps",
           "range": [
            1008.2026501952696,
            19977.415515896675
           ],
           "values": [
            6116.695994087402,
            11395.284011015043,
            18134.937101731888,
            2757.005883713839,
            7768.250373331125,
            8599.250104203542,
            6278.965774396572,
            17787.656486605356,
            11130.02991343815,
            13587.554927071144,
            1008.2026501952696,
            14277.395992667232,
            14774.304279093782,
            5321.488753709817,
            15020.849835592098,
            19977.415515896675,
            3439.417180899676,
            3854.19273672948,
            9877.512463564033,
            16338.381963095739,
            5729.223705472655,
            12881.88535975931,
            12120.32430603922,
            14755.115694389375,
            13543.09074764771,
            12371.74683192607,
            16501.647334872625,
            10039.670625643232,
            11645.418836376704,
            7270.604913939907,
            5069.7563186968055,
            12266.47213895937,
            12688.162973486444,
            9476.58178372452,
            10370.121977402518,
            8504.75913915231,
            7006.438925750724,
            1683.6856597727424,
            9533.10837502329,
            15248.068438795752,
            10970.11166021564,
            14081.059901531058,
            13839.578713076906,
            16209.188395977422,
            12737.723335945917,
            8839.116770460862,
            11713.430895369966,
            8597.00869705726,
            6532.765203794343,
            9192.093907706761
           ]
          },
          {
           "label": "epsilon",
           "range": [
            -1.9552132295070113,
            -0.5247003320452224
           ],
           "ticktext": [
            "0.0111",
            "0.1",
            "0.299"
           ],
           "tickvals": [
            -1.9552132295070113,
            -1,
            -0.5247003320452224
           ],
           "values": [
            -1.9044163879602416,
            -1.3561699237921767,
            -0.7888953316692573,
            -1.0441730363742996,
            -1.4816104502456406,
            -1.3399231659575688,
            -1.023475391702922,
            -1.4821622624499267,
            -1.774575047719295,
            -1.2024364912445873,
            -0.8024829930415543,
            -0.525981195798609,
            -0.5338523800345628,
            -0.5306005662731057,
            -0.8977347449430785,
            -1.0689333110796122,
            -0.7146537135879822,
            -0.6304065542796202,
            -0.5247003320452224,
            -0.904753689113103,
            -1.089202561031603,
            -0.6479390821788689,
            -0.6963753429474908,
            -0.5738389998707696,
            -0.6989104483762056,
            -0.8674966002893831,
            -0.7109705093537955,
            -0.6850313159767144,
            -0.8527442639425595,
            -0.9716971747177652,
            -0.5320791079591392,
            -1.15947967858535,
            -0.9912131799046967,
            -0.8082836530815734,
            -0.8018100973646797,
            -0.6237065347237358,
            -1.9552132295070113,
            -0.9171403929038435,
            -1.2778265716460704,
            -0.6438031537674481,
            -0.7576974514820763,
            -0.5944025202785141,
            -0.600948944799878,
            -1.5483627334184333,
            -0.7678580468789726,
            -0.8310783340526764,
            -0.7501610522390234,
            -1.7693537911975745,
            -0.9697643044847276,
            -1.1280901816972648
           ]
          },
          {
           "label": "gamma",
           "range": [
            0.8561162886053421,
            0.9988961806076
           ],
           "values": [
            0.9229460225549834,
            0.962122700132542,
            0.8759386045597057,
            0.8786988244083404,
            0.9484217161772432,
            0.9888562883907218,
            0.9613235873080813,
            0.8992516010246396,
            0.9525709027213521,
            0.9848635766074106,
            0.9219301485968923,
            0.9964510154425122,
            0.9943815608106136,
            0.9674300980017406,
            0.9746400863860956,
            0.9375888238807687,
            0.9757620370566445,
            0.8561162886053421,
            0.9988961806076,
            0.9352477978549804,
            0.9622264633156067,
            0.9948953744705571,
            0.9809131460384501,
            0.975124823012818,
            0.9979548990414675,
            0.9854819587083302,
            0.9827327644176411,
            0.9693595090168338,
            0.9491959366529279,
            0.9177840422031593,
            0.9902461355311633,
            0.9801397323195044,
            0.9591290533631357,
            0.9846237161687245,
            0.9847602361712169,
            0.9666911169749102,
            0.908511368513517,
            0.9391978523543941,
            0.9550538842528296,
            0.993789298574306,
            0.8881906522942679,
            0.9934218455013704,
            0.9701584491785731,
            0.9906712524141712,
            0.9782169040083118,
            0.9859981046208016,
            0.9797762619367143,
            0.9881772496923245,
            0.9611877150245821,
            0.9714710581126443
           ]
          }
         ],
         "labelangle": 30,
         "labelside": "bottom",
         "line": {
          "color": [
           0.147,
           0.125,
           0.209,
           0.078,
           0.056,
           0.074,
           1,
           0.099,
           0.227,
           0.867,
           0.164,
           1,
           1,
           1,
           0.38,
           0.399,
           0.547,
           0.342,
           0.46799999999999997,
           0.165,
           0.256,
           1,
           1,
           0.53,
           0.304,
           1,
           0.359,
           0.449,
           0.228,
           0.144,
           0.776,
           0.861,
           0.436,
           1,
           0.753,
           0.571,
           0.145,
           0.631,
           0.19,
           0.662,
           0.148,
           1,
           0.544,
           0.462,
           1,
           1,
           0.639,
           0.073,
           0.616,
           0.387
          ],
          "colorbar": {
           "title": {
            "text": "Objective Value"
           }
          },
          "colorscale": [
           [
            0,
            "rgb(247,251,255)"
           ],
           [
            0.125,
            "rgb(222,235,247)"
           ],
           [
            0.25,
            "rgb(198,219,239)"
           ],
           [
            0.375,
            "rgb(158,202,225)"
           ],
           [
            0.5,
            "rgb(107,174,214)"
           ],
           [
            0.625,
            "rgb(66,146,198)"
           ],
           [
            0.75,
            "rgb(33,113,181)"
           ],
           [
            0.875,
            "rgb(8,81,156)"
           ],
           [
            1,
            "rgb(8,48,107)"
           ]
          ],
          "reversescale": false,
          "showscale": true
         },
         "type": "parcoords"
        }
       ],
       "layout": {
        "template": {
         "data": {
          "bar": [
           {
            "error_x": {
             "color": "#2a3f5f"
            },
            "error_y": {
             "color": "#2a3f5f"
            },
            "marker": {
             "line": {
              "color": "#E5ECF6",
              "width": 0.5
             },
             "pattern": {
              "fillmode": "overlay",
              "size": 10,
              "solidity": 0.2
             }
            },
            "type": "bar"
           }
          ],
          "barpolar": [
           {
            "marker": {
             "line": {
              "color": "#E5ECF6",
              "width": 0.5
             },
             "pattern": {
              "fillmode": "overlay",
              "size": 10,
              "solidity": 0.2
             }
            },
            "type": "barpolar"
           }
          ],
          "carpet": [
           {
            "aaxis": {
             "endlinecolor": "#2a3f5f",
             "gridcolor": "white",
             "linecolor": "white",
             "minorgridcolor": "white",
             "startlinecolor": "#2a3f5f"
            },
            "baxis": {
             "endlinecolor": "#2a3f5f",
             "gridcolor": "white",
             "linecolor": "white",
             "minorgridcolor": "white",
             "startlinecolor": "#2a3f5f"
            },
            "type": "carpet"
           }
          ],
          "choropleth": [
           {
            "colorbar": {
             "outlinewidth": 0,
             "ticks": ""
            },
            "type": "choropleth"
           }
          ],
          "contour": [
           {
            "colorbar": {
             "outlinewidth": 0,
             "ticks": ""
            },
            "colorscale": [
             [
              0,
              "#0d0887"
             ],
             [
              0.1111111111111111,
              "#46039f"
             ],
             [
              0.2222222222222222,
              "#7201a8"
             ],
             [
              0.3333333333333333,
              "#9c179e"
             ],
             [
              0.4444444444444444,
              "#bd3786"
             ],
             [
              0.5555555555555556,
              "#d8576b"
             ],
             [
              0.6666666666666666,
              "#ed7953"
             ],
             [
              0.7777777777777778,
              "#fb9f3a"
             ],
             [
              0.8888888888888888,
              "#fdca26"
             ],
             [
              1,
              "#f0f921"
             ]
            ],
            "type": "contour"
           }
          ],
          "contourcarpet": [
           {
            "colorbar": {
             "outlinewidth": 0,
             "ticks": ""
            },
            "type": "contourcarpet"
           }
          ],
          "heatmap": [
           {
            "colorbar": {
             "outlinewidth": 0,
             "ticks": ""
            },
            "colorscale": [
             [
              0,
              "#0d0887"
             ],
             [
              0.1111111111111111,
              "#46039f"
             ],
             [
              0.2222222222222222,
              "#7201a8"
             ],
             [
              0.3333333333333333,
              "#9c179e"
             ],
             [
              0.4444444444444444,
              "#bd3786"
             ],
             [
              0.5555555555555556,
              "#d8576b"
             ],
             [
              0.6666666666666666,
              "#ed7953"
             ],
             [
              0.7777777777777778,
              "#fb9f3a"
             ],
             [
              0.8888888888888888,
              "#fdca26"
             ],
             [
              1,
              "#f0f921"
             ]
            ],
            "type": "heatmap"
           }
          ],
          "heatmapgl": [
           {
            "colorbar": {
             "outlinewidth": 0,
             "ticks": ""
            },
            "colorscale": [
             [
              0,
              "#0d0887"
             ],
             [
              0.1111111111111111,
              "#46039f"
             ],
             [
              0.2222222222222222,
              "#7201a8"
             ],
             [
              0.3333333333333333,
              "#9c179e"
             ],
             [
              0.4444444444444444,
              "#bd3786"
             ],
             [
              0.5555555555555556,
              "#d8576b"
             ],
             [
              0.6666666666666666,
              "#ed7953"
             ],
             [
              0.7777777777777778,
              "#fb9f3a"
             ],
             [
              0.8888888888888888,
              "#fdca26"
             ],
             [
              1,
              "#f0f921"
             ]
            ],
            "type": "heatmapgl"
           }
          ],
          "histogram": [
           {
            "marker": {
             "pattern": {
              "fillmode": "overlay",
              "size": 10,
              "solidity": 0.2
             }
            },
            "type": "histogram"
           }
          ],
          "histogram2d": [
           {
            "colorbar": {
             "outlinewidth": 0,
             "ticks": ""
            },
            "colorscale": [
             [
              0,
              "#0d0887"
             ],
             [
              0.1111111111111111,
              "#46039f"
             ],
             [
              0.2222222222222222,
              "#7201a8"
             ],
             [
              0.3333333333333333,
              "#9c179e"
             ],
             [
              0.4444444444444444,
              "#bd3786"
             ],
             [
              0.5555555555555556,
              "#d8576b"
             ],
             [
              0.6666666666666666,
              "#ed7953"
             ],
             [
              0.7777777777777778,
              "#fb9f3a"
             ],
             [
              0.8888888888888888,
              "#fdca26"
             ],
             [
              1,
              "#f0f921"
             ]
            ],
            "type": "histogram2d"
           }
          ],
          "histogram2dcontour": [
           {
            "colorbar": {
             "outlinewidth": 0,
             "ticks": ""
            },
            "colorscale": [
             [
              0,
              "#0d0887"
             ],
             [
              0.1111111111111111,
              "#46039f"
             ],
             [
              0.2222222222222222,
              "#7201a8"
             ],
             [
              0.3333333333333333,
              "#9c179e"
             ],
             [
              0.4444444444444444,
              "#bd3786"
             ],
             [
              0.5555555555555556,
              "#d8576b"
             ],
             [
              0.6666666666666666,
              "#ed7953"
             ],
             [
              0.7777777777777778,
              "#fb9f3a"
             ],
             [
              0.8888888888888888,
              "#fdca26"
             ],
             [
              1,
              "#f0f921"
             ]
            ],
            "type": "histogram2dcontour"
           }
          ],
          "mesh3d": [
           {
            "colorbar": {
             "outlinewidth": 0,
             "ticks": ""
            },
            "type": "mesh3d"
           }
          ],
          "parcoords": [
           {
            "line": {
             "colorbar": {
              "outlinewidth": 0,
              "ticks": ""
             }
            },
            "type": "parcoords"
           }
          ],
          "pie": [
           {
            "automargin": true,
            "type": "pie"
           }
          ],
          "scatter": [
           {
            "fillpattern": {
             "fillmode": "overlay",
             "size": 10,
             "solidity": 0.2
            },
            "type": "scatter"
           }
          ],
          "scatter3d": [
           {
            "line": {
             "colorbar": {
              "outlinewidth": 0,
              "ticks": ""
             }
            },
            "marker": {
             "colorbar": {
              "outlinewidth": 0,
              "ticks": ""
             }
            },
            "type": "scatter3d"
           }
          ],
          "scattercarpet": [
           {
            "marker": {
             "colorbar": {
              "outlinewidth": 0,
              "ticks": ""
             }
            },
            "type": "scattercarpet"
           }
          ],
          "scattergeo": [
           {
            "marker": {
             "colorbar": {
              "outlinewidth": 0,
              "ticks": ""
             }
            },
            "type": "scattergeo"
           }
          ],
          "scattergl": [
           {
            "marker": {
             "colorbar": {
              "outlinewidth": 0,
              "ticks": ""
             }
            },
            "type": "scattergl"
           }
          ],
          "scattermapbox": [
           {
            "marker": {
             "colorbar": {
              "outlinewidth": 0,
              "ticks": ""
             }
            },
            "type": "scattermapbox"
           }
          ],
          "scatterpolar": [
           {
            "marker": {
             "colorbar": {
              "outlinewidth": 0,
              "ticks": ""
             }
            },
            "type": "scatterpolar"
           }
          ],
          "scatterpolargl": [
           {
            "marker": {
             "colorbar": {
              "outlinewidth": 0,
              "ticks": ""
             }
            },
            "type": "scatterpolargl"
           }
          ],
          "scatterternary": [
           {
            "marker": {
             "colorbar": {
              "outlinewidth": 0,
              "ticks": ""
             }
            },
            "type": "scatterternary"
           }
          ],
          "surface": [
           {
            "colorbar": {
             "outlinewidth": 0,
             "ticks": ""
            },
            "colorscale": [
             [
              0,
              "#0d0887"
             ],
             [
              0.1111111111111111,
              "#46039f"
             ],
             [
              0.2222222222222222,
              "#7201a8"
             ],
             [
              0.3333333333333333,
              "#9c179e"
             ],
             [
              0.4444444444444444,
              "#bd3786"
             ],
             [
              0.5555555555555556,
              "#d8576b"
             ],
             [
              0.6666666666666666,
              "#ed7953"
             ],
             [
              0.7777777777777778,
              "#fb9f3a"
             ],
             [
              0.8888888888888888,
              "#fdca26"
             ],
             [
              1,
              "#f0f921"
             ]
            ],
            "type": "surface"
           }
          ],
          "table": [
           {
            "cells": {
             "fill": {
              "color": "#EBF0F8"
             },
             "line": {
              "color": "white"
             }
            },
            "header": {
             "fill": {
              "color": "#C8D4E3"
             },
             "line": {
              "color": "white"
             }
            },
            "type": "table"
           }
          ]
         },
         "layout": {
          "annotationdefaults": {
           "arrowcolor": "#2a3f5f",
           "arrowhead": 0,
           "arrowwidth": 1
          },
          "autotypenumbers": "strict",
          "coloraxis": {
           "colorbar": {
            "outlinewidth": 0,
            "ticks": ""
           }
          },
          "colorscale": {
           "diverging": [
            [
             0,
             "#8e0152"
            ],
            [
             0.1,
             "#c51b7d"
            ],
            [
             0.2,
             "#de77ae"
            ],
            [
             0.3,
             "#f1b6da"
            ],
            [
             0.4,
             "#fde0ef"
            ],
            [
             0.5,
             "#f7f7f7"
            ],
            [
             0.6,
             "#e6f5d0"
            ],
            [
             0.7,
             "#b8e186"
            ],
            [
             0.8,
             "#7fbc41"
            ],
            [
             0.9,
             "#4d9221"
            ],
            [
             1,
             "#276419"
            ]
           ],
           "sequential": [
            [
             0,
             "#0d0887"
            ],
            [
             0.1111111111111111,
             "#46039f"
            ],
            [
             0.2222222222222222,
             "#7201a8"
            ],
            [
             0.3333333333333333,
             "#9c179e"
            ],
            [
             0.4444444444444444,
             "#bd3786"
            ],
            [
             0.5555555555555556,
             "#d8576b"
            ],
            [
             0.6666666666666666,
             "#ed7953"
            ],
            [
             0.7777777777777778,
             "#fb9f3a"
            ],
            [
             0.8888888888888888,
             "#fdca26"
            ],
            [
             1,
             "#f0f921"
            ]
           ],
           "sequentialminus": [
            [
             0,
             "#0d0887"
            ],
            [
             0.1111111111111111,
             "#46039f"
            ],
            [
             0.2222222222222222,
             "#7201a8"
            ],
            [
             0.3333333333333333,
             "#9c179e"
            ],
            [
             0.4444444444444444,
             "#bd3786"
            ],
            [
             0.5555555555555556,
             "#d8576b"
            ],
            [
             0.6666666666666666,
             "#ed7953"
            ],
            [
             0.7777777777777778,
             "#fb9f3a"
            ],
            [
             0.8888888888888888,
             "#fdca26"
            ],
            [
             1,
             "#f0f921"
            ]
           ]
          },
          "colorway": [
           "#636efa",
           "#EF553B",
           "#00cc96",
           "#ab63fa",
           "#FFA15A",
           "#19d3f3",
           "#FF6692",
           "#B6E880",
           "#FF97FF",
           "#FECB52"
          ],
          "font": {
           "color": "#2a3f5f"
          },
          "geo": {
           "bgcolor": "white",
           "lakecolor": "white",
           "landcolor": "#E5ECF6",
           "showlakes": true,
           "showland": true,
           "subunitcolor": "white"
          },
          "hoverlabel": {
           "align": "left"
          },
          "hovermode": "closest",
          "mapbox": {
           "style": "light"
          },
          "paper_bgcolor": "white",
          "plot_bgcolor": "#E5ECF6",
          "polar": {
           "angularaxis": {
            "gridcolor": "white",
            "linecolor": "white",
            "ticks": ""
           },
           "bgcolor": "#E5ECF6",
           "radialaxis": {
            "gridcolor": "white",
            "linecolor": "white",
            "ticks": ""
           }
          },
          "scene": {
           "xaxis": {
            "backgroundcolor": "#E5ECF6",
            "gridcolor": "white",
            "gridwidth": 2,
            "linecolor": "white",
            "showbackground": true,
            "ticks": "",
            "zerolinecolor": "white"
           },
           "yaxis": {
            "backgroundcolor": "#E5ECF6",
            "gridcolor": "white",
            "gridwidth": 2,
            "linecolor": "white",
            "showbackground": true,
            "ticks": "",
            "zerolinecolor": "white"
           },
           "zaxis": {
            "backgroundcolor": "#E5ECF6",
            "gridcolor": "white",
            "gridwidth": 2,
            "linecolor": "white",
            "showbackground": true,
            "ticks": "",
            "zerolinecolor": "white"
           }
          },
          "shapedefaults": {
           "line": {
            "color": "#2a3f5f"
           }
          },
          "ternary": {
           "aaxis": {
            "gridcolor": "white",
            "linecolor": "white",
            "ticks": ""
           },
           "baxis": {
            "gridcolor": "white",
            "linecolor": "white",
            "ticks": ""
           },
           "bgcolor": "#E5ECF6",
           "caxis": {
            "gridcolor": "white",
            "linecolor": "white",
            "ticks": ""
           }
          },
          "title": {
           "x": 0.05
          },
          "xaxis": {
           "automargin": true,
           "gridcolor": "white",
           "linecolor": "white",
           "ticks": "",
           "title": {
            "standoff": 15
           },
           "zerolinecolor": "white",
           "zerolinewidth": 2
          },
          "yaxis": {
           "automargin": true,
           "gridcolor": "white",
           "linecolor": "white",
           "ticks": "",
           "title": {
            "standoff": 15
           },
           "zerolinecolor": "white",
           "zerolinewidth": 2
          }
         }
        },
        "title": {
         "text": "Parallel Coordinate Plot"
        }
       }
      },
      "text/html": [
       "<div>                            <div id=\"baf90663-c308-47bd-a325-cbafd746ffb0\" class=\"plotly-graph-div\" style=\"height:525px; width:100%;\"></div>            <script type=\"text/javascript\">                require([\"plotly\"], function(Plotly) {                    window.PLOTLYENV=window.PLOTLYENV || {};                                    if (document.getElementById(\"baf90663-c308-47bd-a325-cbafd746ffb0\")) {                    Plotly.newPlot(                        \"baf90663-c308-47bd-a325-cbafd746ffb0\",                        [{\"dimensions\":[{\"label\":\"Objective Value\",\"range\":[0.056,1.0],\"values\":[0.147,0.125,0.209,0.078,0.056,0.074,1.0,0.099,0.227,0.867,0.164,1.0,1.0,1.0,0.38,0.399,0.547,0.342,0.46799999999999997,0.165,0.256,1.0,1.0,0.53,0.304,1.0,0.359,0.449,0.228,0.144,0.776,0.861,0.436,1.0,0.753,0.571,0.145,0.631,0.19,0.662,0.148,1.0,0.544,0.462,1.0,1.0,0.639,0.073,0.616,0.387]},{\"label\":\"alpha\",\"range\":[-1.9331333527396868,-0.5272490938298978],\"ticktext\":[\"0.0117\",\"0.1\",\"0.297\"],\"tickvals\":[-1.9331333527396868,-1,-0.5272490938298978],\"values\":[-1.7989366475114579,-1.8463289451468246,-1.6475964268716559,-1.5889645883293746,-1.9051753507951703,-1.0095609761011317,-0.6253604148858039,-1.6964366405900266,-0.9410910348908244,-1.0269764005293816,-0.5272490938298978,-0.5341354575811231,-0.5484376640362063,-0.7970721411349749,-1.3194446736015166,-0.7391446105613274,-1.2064698311682158,-0.7873284386880377,-0.768449902961501,-1.2891194637600512,-0.7097401900652907,-0.53208335466752,-0.6204113815157236,-0.8804229528674821,-1.1309410642609428,-0.5963995900461599,-1.417386322184999,-0.6663604712962831,-0.8831361003499085,-0.646513246099746,-0.8541712506365131,-0.6270262177028826,-0.6198637101506821,-0.6056041559834818,-0.5614939160969012,-0.7984798875481609,-0.7234227659788524,-1.0212273512625867,-1.4829578771847107,-0.9501008207103055,-1.9331333527396868,-0.5384595574473203,-0.5273017501904407,-0.683016506385411,-0.6136295625417585,-0.5986220348360869,-0.6833883594349404,-1.773941529132579,-0.8243606271973011,-0.5974522964687732]},{\"label\":\"decay_end\",\"range\":[0.005281461133483823,0.2939397764455487],\"values\":[0.005281461133483823,0.03386912508795687,0.11688950316213835,0.03360107804941037,0.014647539302236393,0.007334310843629711,0.017600229344677983,0.03005581095543262,0.00705068523199926,0.05393407002656955,0.08813308582354838,0.2153258202408247,0.22412643499751958,0.20114518339974005,0.10035773146551749,0.0551004275710639,0.15357105165893375,0.22774601271600767,0.2939397764455487,0.12305480622001556,0.05255821611599176,0.2061526803358517,0.16289975452615668,0.22308175841406183,0.18480618544289193,0.040694425815925736,0.1680875577300019,0.19027906641863584,0.13489051630236626,0.011391638552495087,0.2619557747481728,0.040197125039950404,0.09031433120657992,0.10063743568219757,0.09290696878012844,0.20123844326738163,0.008196645039460382,0.011890451574303726,0.02376787530833724,0.17038158691256589,0.13093493157406091,0.21503418903736482,0.2082047777871804,0.02388240085377949,0.16496603398286158,0.1300747722534384,0.17039370012320673,0.005792605331248911,0.08611913901110606,0.0373212589915116]},{\"label\":\"decay_steps\",\"range\":[1008.2026501952696,19977.415515896675],\"values\":[6116.695994087402,11395.284011015043,18134.937101731888,2757.005883713839,7768.250373331125,8599.250104203542,6278.965774396572,17787.656486605356,11130.02991343815,13587.554927071144,1008.2026501952696,14277.395992667232,14774.304279093782,5321.488753709817,15020.849835592098,19977.415515896675,3439.417180899676,3854.19273672948,9877.512463564033,16338.381963095739,5729.223705472655,12881.88535975931,12120.32430603922,14755.115694389375,13543.09074764771,12371.74683192607,16501.647334872625,10039.670625643232,11645.418836376704,7270.604913939907,5069.7563186968055,12266.47213895937,12688.162973486444,9476.58178372452,10370.121977402518,8504.75913915231,7006.438925750724,1683.6856597727424,9533.10837502329,15248.068438795752,10970.11166021564,14081.059901531058,13839.578713076906,16209.188395977422,12737.723335945917,8839.116770460862,11713.430895369966,8597.00869705726,6532.765203794343,9192.093907706761]},{\"label\":\"epsilon\",\"range\":[-1.9552132295070113,-0.5247003320452224],\"ticktext\":[\"0.0111\",\"0.1\",\"0.299\"],\"tickvals\":[-1.9552132295070113,-1,-0.5247003320452224],\"values\":[-1.9044163879602416,-1.3561699237921767,-0.7888953316692573,-1.0441730363742996,-1.4816104502456406,-1.3399231659575688,-1.023475391702922,-1.4821622624499267,-1.774575047719295,-1.2024364912445873,-0.8024829930415543,-0.525981195798609,-0.5338523800345628,-0.5306005662731057,-0.8977347449430785,-1.0689333110796122,-0.7146537135879822,-0.6304065542796202,-0.5247003320452224,-0.904753689113103,-1.089202561031603,-0.6479390821788689,-0.6963753429474908,-0.5738389998707696,-0.6989104483762056,-0.8674966002893831,-0.7109705093537955,-0.6850313159767144,-0.8527442639425595,-0.9716971747177652,-0.5320791079591392,-1.15947967858535,-0.9912131799046967,-0.8082836530815734,-0.8018100973646797,-0.6237065347237358,-1.9552132295070113,-0.9171403929038435,-1.2778265716460704,-0.6438031537674481,-0.7576974514820763,-0.5944025202785141,-0.600948944799878,-1.5483627334184333,-0.7678580468789726,-0.8310783340526764,-0.7501610522390234,-1.7693537911975745,-0.9697643044847276,-1.1280901816972648]},{\"label\":\"gamma\",\"range\":[0.8561162886053421,0.9988961806076],\"values\":[0.9229460225549834,0.962122700132542,0.8759386045597057,0.8786988244083404,0.9484217161772432,0.9888562883907218,0.9613235873080813,0.8992516010246396,0.9525709027213521,0.9848635766074106,0.9219301485968923,0.9964510154425122,0.9943815608106136,0.9674300980017406,0.9746400863860956,0.9375888238807687,0.9757620370566445,0.8561162886053421,0.9988961806076,0.9352477978549804,0.9622264633156067,0.9948953744705571,0.9809131460384501,0.975124823012818,0.9979548990414675,0.9854819587083302,0.9827327644176411,0.9693595090168338,0.9491959366529279,0.9177840422031593,0.9902461355311633,0.9801397323195044,0.9591290533631357,0.9846237161687245,0.9847602361712169,0.9666911169749102,0.908511368513517,0.9391978523543941,0.9550538842528296,0.993789298574306,0.8881906522942679,0.9934218455013704,0.9701584491785731,0.9906712524141712,0.9782169040083118,0.9859981046208016,0.9797762619367143,0.9881772496923245,0.9611877150245821,0.9714710581126443]}],\"labelangle\":30,\"labelside\":\"bottom\",\"line\":{\"color\":[0.147,0.125,0.209,0.078,0.056,0.074,1.0,0.099,0.227,0.867,0.164,1.0,1.0,1.0,0.38,0.399,0.547,0.342,0.46799999999999997,0.165,0.256,1.0,1.0,0.53,0.304,1.0,0.359,0.449,0.228,0.144,0.776,0.861,0.436,1.0,0.753,0.571,0.145,0.631,0.19,0.662,0.148,1.0,0.544,0.462,1.0,1.0,0.639,0.073,0.616,0.387],\"colorbar\":{\"title\":{\"text\":\"Objective Value\"}},\"colorscale\":[[0.0,\"rgb(247,251,255)\"],[0.125,\"rgb(222,235,247)\"],[0.25,\"rgb(198,219,239)\"],[0.375,\"rgb(158,202,225)\"],[0.5,\"rgb(107,174,214)\"],[0.625,\"rgb(66,146,198)\"],[0.75,\"rgb(33,113,181)\"],[0.875,\"rgb(8,81,156)\"],[1.0,\"rgb(8,48,107)\"]],\"reversescale\":false,\"showscale\":true},\"type\":\"parcoords\"}],                        {\"title\":{\"text\":\"Parallel Coordinate Plot\"},\"template\":{\"data\":{\"histogram2dcontour\":[{\"type\":\"histogram2dcontour\",\"colorbar\":{\"outlinewidth\":0,\"ticks\":\"\"},\"colorscale\":[[0.0,\"#0d0887\"],[0.1111111111111111,\"#46039f\"],[0.2222222222222222,\"#7201a8\"],[0.3333333333333333,\"#9c179e\"],[0.4444444444444444,\"#bd3786\"],[0.5555555555555556,\"#d8576b\"],[0.6666666666666666,\"#ed7953\"],[0.7777777777777778,\"#fb9f3a\"],[0.8888888888888888,\"#fdca26\"],[1.0,\"#f0f921\"]]}],\"choropleth\":[{\"type\":\"choropleth\",\"colorbar\":{\"outlinewidth\":0,\"ticks\":\"\"}}],\"histogram2d\":[{\"type\":\"histogram2d\",\"colorbar\":{\"outlinewidth\":0,\"ticks\":\"\"},\"colorscale\":[[0.0,\"#0d0887\"],[0.1111111111111111,\"#46039f\"],[0.2222222222222222,\"#7201a8\"],[0.3333333333333333,\"#9c179e\"],[0.4444444444444444,\"#bd3786\"],[0.5555555555555556,\"#d8576b\"],[0.6666666666666666,\"#ed7953\"],[0.7777777777777778,\"#fb9f3a\"],[0.8888888888888888,\"#fdca26\"],[1.0,\"#f0f921\"]]}],\"heatmap\":[{\"type\":\"heatmap\",\"colorbar\":{\"outlinewidth\":0,\"ticks\":\"\"},\"colorscale\":[[0.0,\"#0d0887\"],[0.1111111111111111,\"#46039f\"],[0.2222222222222222,\"#7201a8\"],[0.3333333333333333,\"#9c179e\"],[0.4444444444444444,\"#bd3786\"],[0.5555555555555556,\"#d8576b\"],[0.6666666666666666,\"#ed7953\"],[0.7777777777777778,\"#fb9f3a\"],[0.8888888888888888,\"#fdca26\"],[1.0,\"#f0f921\"]]}],\"heatmapgl\":[{\"type\":\"heatmapgl\",\"colorbar\":{\"outlinewidth\":0,\"ticks\":\"\"},\"colorscale\":[[0.0,\"#0d0887\"],[0.1111111111111111,\"#46039f\"],[0.2222222222222222,\"#7201a8\"],[0.3333333333333333,\"#9c179e\"],[0.4444444444444444,\"#bd3786\"],[0.5555555555555556,\"#d8576b\"],[0.6666666666666666,\"#ed7953\"],[0.7777777777777778,\"#fb9f3a\"],[0.8888888888888888,\"#fdca26\"],[1.0,\"#f0f921\"]]}],\"contourcarpet\":[{\"type\":\"contourcarpet\",\"colorbar\":{\"outlinewidth\":0,\"ticks\":\"\"}}],\"contour\":[{\"type\":\"contour\",\"colorbar\":{\"outlinewidth\":0,\"ticks\":\"\"},\"colorscale\":[[0.0,\"#0d0887\"],[0.1111111111111111,\"#46039f\"],[0.2222222222222222,\"#7201a8\"],[0.3333333333333333,\"#9c179e\"],[0.4444444444444444,\"#bd3786\"],[0.5555555555555556,\"#d8576b\"],[0.6666666666666666,\"#ed7953\"],[0.7777777777777778,\"#fb9f3a\"],[0.8888888888888888,\"#fdca26\"],[1.0,\"#f0f921\"]]}],\"surface\":[{\"type\":\"surface\",\"colorbar\":{\"outlinewidth\":0,\"ticks\":\"\"},\"colorscale\":[[0.0,\"#0d0887\"],[0.1111111111111111,\"#46039f\"],[0.2222222222222222,\"#7201a8\"],[0.3333333333333333,\"#9c179e\"],[0.4444444444444444,\"#bd3786\"],[0.5555555555555556,\"#d8576b\"],[0.6666666666666666,\"#ed7953\"],[0.7777777777777778,\"#fb9f3a\"],[0.8888888888888888,\"#fdca26\"],[1.0,\"#f0f921\"]]}],\"mesh3d\":[{\"type\":\"mesh3d\",\"colorbar\":{\"outlinewidth\":0,\"ticks\":\"\"}}],\"scatter\":[{\"fillpattern\":{\"fillmode\":\"overlay\",\"size\":10,\"solidity\":0.2},\"type\":\"scatter\"}],\"parcoords\":[{\"type\":\"parcoords\",\"line\":{\"colorbar\":{\"outlinewidth\":0,\"ticks\":\"\"}}}],\"scatterpolargl\":[{\"type\":\"scatterpolargl\",\"marker\":{\"colorbar\":{\"outlinewidth\":0,\"ticks\":\"\"}}}],\"bar\":[{\"error_x\":{\"color\":\"#2a3f5f\"},\"error_y\":{\"color\":\"#2a3f5f\"},\"marker\":{\"line\":{\"color\":\"#E5ECF6\",\"width\":0.5},\"pattern\":{\"fillmode\":\"overlay\",\"size\":10,\"solidity\":0.2}},\"type\":\"bar\"}],\"scattergeo\":[{\"type\":\"scattergeo\",\"marker\":{\"colorbar\":{\"outlinewidth\":0,\"ticks\":\"\"}}}],\"scatterpolar\":[{\"type\":\"scatterpolar\",\"marker\":{\"colorbar\":{\"outlinewidth\":0,\"ticks\":\"\"}}}],\"histogram\":[{\"marker\":{\"pattern\":{\"fillmode\":\"overlay\",\"size\":10,\"solidity\":0.2}},\"type\":\"histogram\"}],\"scattergl\":[{\"type\":\"scattergl\",\"marker\":{\"colorbar\":{\"outlinewidth\":0,\"ticks\":\"\"}}}],\"scatter3d\":[{\"type\":\"scatter3d\",\"line\":{\"colorbar\":{\"outlinewidth\":0,\"ticks\":\"\"}},\"marker\":{\"colorbar\":{\"outlinewidth\":0,\"ticks\":\"\"}}}],\"scattermapbox\":[{\"type\":\"scattermapbox\",\"marker\":{\"colorbar\":{\"outlinewidth\":0,\"ticks\":\"\"}}}],\"scatterternary\":[{\"type\":\"scatterternary\",\"marker\":{\"colorbar\":{\"outlinewidth\":0,\"ticks\":\"\"}}}],\"scattercarpet\":[{\"type\":\"scattercarpet\",\"marker\":{\"colorbar\":{\"outlinewidth\":0,\"ticks\":\"\"}}}],\"carpet\":[{\"aaxis\":{\"endlinecolor\":\"#2a3f5f\",\"gridcolor\":\"white\",\"linecolor\":\"white\",\"minorgridcolor\":\"white\",\"startlinecolor\":\"#2a3f5f\"},\"baxis\":{\"endlinecolor\":\"#2a3f5f\",\"gridcolor\":\"white\",\"linecolor\":\"white\",\"minorgridcolor\":\"white\",\"startlinecolor\":\"#2a3f5f\"},\"type\":\"carpet\"}],\"table\":[{\"cells\":{\"fill\":{\"color\":\"#EBF0F8\"},\"line\":{\"color\":\"white\"}},\"header\":{\"fill\":{\"color\":\"#C8D4E3\"},\"line\":{\"color\":\"white\"}},\"type\":\"table\"}],\"barpolar\":[{\"marker\":{\"line\":{\"color\":\"#E5ECF6\",\"width\":0.5},\"pattern\":{\"fillmode\":\"overlay\",\"size\":10,\"solidity\":0.2}},\"type\":\"barpolar\"}],\"pie\":[{\"automargin\":true,\"type\":\"pie\"}]},\"layout\":{\"autotypenumbers\":\"strict\",\"colorway\":[\"#636efa\",\"#EF553B\",\"#00cc96\",\"#ab63fa\",\"#FFA15A\",\"#19d3f3\",\"#FF6692\",\"#B6E880\",\"#FF97FF\",\"#FECB52\"],\"font\":{\"color\":\"#2a3f5f\"},\"hovermode\":\"closest\",\"hoverlabel\":{\"align\":\"left\"},\"paper_bgcolor\":\"white\",\"plot_bgcolor\":\"#E5ECF6\",\"polar\":{\"bgcolor\":\"#E5ECF6\",\"angularaxis\":{\"gridcolor\":\"white\",\"linecolor\":\"white\",\"ticks\":\"\"},\"radialaxis\":{\"gridcolor\":\"white\",\"linecolor\":\"white\",\"ticks\":\"\"}},\"ternary\":{\"bgcolor\":\"#E5ECF6\",\"aaxis\":{\"gridcolor\":\"white\",\"linecolor\":\"white\",\"ticks\":\"\"},\"baxis\":{\"gridcolor\":\"white\",\"linecolor\":\"white\",\"ticks\":\"\"},\"caxis\":{\"gridcolor\":\"white\",\"linecolor\":\"white\",\"ticks\":\"\"}},\"coloraxis\":{\"colorbar\":{\"outlinewidth\":0,\"ticks\":\"\"}},\"colorscale\":{\"sequential\":[[0.0,\"#0d0887\"],[0.1111111111111111,\"#46039f\"],[0.2222222222222222,\"#7201a8\"],[0.3333333333333333,\"#9c179e\"],[0.4444444444444444,\"#bd3786\"],[0.5555555555555556,\"#d8576b\"],[0.6666666666666666,\"#ed7953\"],[0.7777777777777778,\"#fb9f3a\"],[0.8888888888888888,\"#fdca26\"],[1.0,\"#f0f921\"]],\"sequentialminus\":[[0.0,\"#0d0887\"],[0.1111111111111111,\"#46039f\"],[0.2222222222222222,\"#7201a8\"],[0.3333333333333333,\"#9c179e\"],[0.4444444444444444,\"#bd3786\"],[0.5555555555555556,\"#d8576b\"],[0.6666666666666666,\"#ed7953\"],[0.7777777777777778,\"#fb9f3a\"],[0.8888888888888888,\"#fdca26\"],[1.0,\"#f0f921\"]],\"diverging\":[[0,\"#8e0152\"],[0.1,\"#c51b7d\"],[0.2,\"#de77ae\"],[0.3,\"#f1b6da\"],[0.4,\"#fde0ef\"],[0.5,\"#f7f7f7\"],[0.6,\"#e6f5d0\"],[0.7,\"#b8e186\"],[0.8,\"#7fbc41\"],[0.9,\"#4d9221\"],[1,\"#276419\"]]},\"xaxis\":{\"gridcolor\":\"white\",\"linecolor\":\"white\",\"ticks\":\"\",\"title\":{\"standoff\":15},\"zerolinecolor\":\"white\",\"automargin\":true,\"zerolinewidth\":2},\"yaxis\":{\"gridcolor\":\"white\",\"linecolor\":\"white\",\"ticks\":\"\",\"title\":{\"standoff\":15},\"zerolinecolor\":\"white\",\"automargin\":true,\"zerolinewidth\":2},\"scene\":{\"xaxis\":{\"backgroundcolor\":\"#E5ECF6\",\"gridcolor\":\"white\",\"linecolor\":\"white\",\"showbackground\":true,\"ticks\":\"\",\"zerolinecolor\":\"white\",\"gridwidth\":2},\"yaxis\":{\"backgroundcolor\":\"#E5ECF6\",\"gridcolor\":\"white\",\"linecolor\":\"white\",\"showbackground\":true,\"ticks\":\"\",\"zerolinecolor\":\"white\",\"gridwidth\":2},\"zaxis\":{\"backgroundcolor\":\"#E5ECF6\",\"gridcolor\":\"white\",\"linecolor\":\"white\",\"showbackground\":true,\"ticks\":\"\",\"zerolinecolor\":\"white\",\"gridwidth\":2}},\"shapedefaults\":{\"line\":{\"color\":\"#2a3f5f\"}},\"annotationdefaults\":{\"arrowcolor\":\"#2a3f5f\",\"arrowhead\":0,\"arrowwidth\":1},\"geo\":{\"bgcolor\":\"white\",\"landcolor\":\"#E5ECF6\",\"subunitcolor\":\"white\",\"showland\":true,\"showlakes\":true,\"lakecolor\":\"white\"},\"title\":{\"x\":0.05},\"mapbox\":{\"style\":\"light\"}}}},                        {\"responsive\": true}                    ).then(function(){\n",
       "                            \n",
       "var gd = document.getElementById('baf90663-c308-47bd-a325-cbafd746ffb0');\n",
       "var x = new MutationObserver(function (mutations, observer) {{\n",
       "        var display = window.getComputedStyle(gd).display;\n",
       "        if (!display || display === 'none') {{\n",
       "            console.log([gd, 'removed!']);\n",
       "            Plotly.purge(gd);\n",
       "            observer.disconnect();\n",
       "        }}\n",
       "}});\n",
       "\n",
       "// Listen for the removal of the full notebook cells\n",
       "var notebookContainer = gd.closest('#notebook-container');\n",
       "if (notebookContainer) {{\n",
       "    x.observe(notebookContainer, {childList: true});\n",
       "}}\n",
       "\n",
       "// Listen for the clearing of the current output cell\n",
       "var outputEl = gd.closest('.output');\n",
       "if (outputEl) {{\n",
       "    x.observe(outputEl, {childList: true});\n",
       "}}\n",
       "\n",
       "                        })                };                });            </script>        </div>"
      ]
     },
     "metadata": {},
     "output_type": "display_data"
    }
   ],
   "source": [
    "fig = optuna.visualization.plot_parallel_coordinate(study, params=[\"alpha\", \"gamma\",\"epsilon\",'decay_steps', 'decay_end'])\n",
    "fig.show()"
   ]
  },
  {
   "cell_type": "code",
   "execution_count": 14,
   "id": "c3bbc770",
   "metadata": {},
   "outputs": [
    {
     "data": {
      "application/vnd.plotly.v1+json": {
       "config": {
        "plotlyServerURL": "https://plot.ly"
       },
       "data": [
        {
         "cliponaxis": false,
         "hovertemplate": [
          "decay_steps (UniformDistribution): 0.05076895495387951<extra></extra>",
          "epsilon (LogUniformDistribution): 0.17799780782773103<extra></extra>",
          "alpha (LogUniformDistribution): 0.32504555751681224<extra></extra>",
          "gamma (UniformDistribution): 0.4461876797015773<extra></extra>"
         ],
         "marker": {
          "color": "rgb(66,146,198)"
         },
         "orientation": "h",
         "text": [
          "0.05076895495387951",
          "0.17799780782773103",
          "0.32504555751681224",
          "0.4461876797015773"
         ],
         "textposition": "outside",
         "texttemplate": "%{text:.2f}",
         "type": "bar",
         "x": [
          0.05076895495387951,
          0.17799780782773103,
          0.32504555751681224,
          0.4461876797015773
         ],
         "y": [
          "decay_steps",
          "epsilon",
          "alpha",
          "gamma"
         ]
        }
       ],
       "layout": {
        "showlegend": false,
        "template": {
         "data": {
          "bar": [
           {
            "error_x": {
             "color": "#2a3f5f"
            },
            "error_y": {
             "color": "#2a3f5f"
            },
            "marker": {
             "line": {
              "color": "#E5ECF6",
              "width": 0.5
             },
             "pattern": {
              "fillmode": "overlay",
              "size": 10,
              "solidity": 0.2
             }
            },
            "type": "bar"
           }
          ],
          "barpolar": [
           {
            "marker": {
             "line": {
              "color": "#E5ECF6",
              "width": 0.5
             },
             "pattern": {
              "fillmode": "overlay",
              "size": 10,
              "solidity": 0.2
             }
            },
            "type": "barpolar"
           }
          ],
          "carpet": [
           {
            "aaxis": {
             "endlinecolor": "#2a3f5f",
             "gridcolor": "white",
             "linecolor": "white",
             "minorgridcolor": "white",
             "startlinecolor": "#2a3f5f"
            },
            "baxis": {
             "endlinecolor": "#2a3f5f",
             "gridcolor": "white",
             "linecolor": "white",
             "minorgridcolor": "white",
             "startlinecolor": "#2a3f5f"
            },
            "type": "carpet"
           }
          ],
          "choropleth": [
           {
            "colorbar": {
             "outlinewidth": 0,
             "ticks": ""
            },
            "type": "choropleth"
           }
          ],
          "contour": [
           {
            "colorbar": {
             "outlinewidth": 0,
             "ticks": ""
            },
            "colorscale": [
             [
              0,
              "#0d0887"
             ],
             [
              0.1111111111111111,
              "#46039f"
             ],
             [
              0.2222222222222222,
              "#7201a8"
             ],
             [
              0.3333333333333333,
              "#9c179e"
             ],
             [
              0.4444444444444444,
              "#bd3786"
             ],
             [
              0.5555555555555556,
              "#d8576b"
             ],
             [
              0.6666666666666666,
              "#ed7953"
             ],
             [
              0.7777777777777778,
              "#fb9f3a"
             ],
             [
              0.8888888888888888,
              "#fdca26"
             ],
             [
              1,
              "#f0f921"
             ]
            ],
            "type": "contour"
           }
          ],
          "contourcarpet": [
           {
            "colorbar": {
             "outlinewidth": 0,
             "ticks": ""
            },
            "type": "contourcarpet"
           }
          ],
          "heatmap": [
           {
            "colorbar": {
             "outlinewidth": 0,
             "ticks": ""
            },
            "colorscale": [
             [
              0,
              "#0d0887"
             ],
             [
              0.1111111111111111,
              "#46039f"
             ],
             [
              0.2222222222222222,
              "#7201a8"
             ],
             [
              0.3333333333333333,
              "#9c179e"
             ],
             [
              0.4444444444444444,
              "#bd3786"
             ],
             [
              0.5555555555555556,
              "#d8576b"
             ],
             [
              0.6666666666666666,
              "#ed7953"
             ],
             [
              0.7777777777777778,
              "#fb9f3a"
             ],
             [
              0.8888888888888888,
              "#fdca26"
             ],
             [
              1,
              "#f0f921"
             ]
            ],
            "type": "heatmap"
           }
          ],
          "heatmapgl": [
           {
            "colorbar": {
             "outlinewidth": 0,
             "ticks": ""
            },
            "colorscale": [
             [
              0,
              "#0d0887"
             ],
             [
              0.1111111111111111,
              "#46039f"
             ],
             [
              0.2222222222222222,
              "#7201a8"
             ],
             [
              0.3333333333333333,
              "#9c179e"
             ],
             [
              0.4444444444444444,
              "#bd3786"
             ],
             [
              0.5555555555555556,
              "#d8576b"
             ],
             [
              0.6666666666666666,
              "#ed7953"
             ],
             [
              0.7777777777777778,
              "#fb9f3a"
             ],
             [
              0.8888888888888888,
              "#fdca26"
             ],
             [
              1,
              "#f0f921"
             ]
            ],
            "type": "heatmapgl"
           }
          ],
          "histogram": [
           {
            "marker": {
             "pattern": {
              "fillmode": "overlay",
              "size": 10,
              "solidity": 0.2
             }
            },
            "type": "histogram"
           }
          ],
          "histogram2d": [
           {
            "colorbar": {
             "outlinewidth": 0,
             "ticks": ""
            },
            "colorscale": [
             [
              0,
              "#0d0887"
             ],
             [
              0.1111111111111111,
              "#46039f"
             ],
             [
              0.2222222222222222,
              "#7201a8"
             ],
             [
              0.3333333333333333,
              "#9c179e"
             ],
             [
              0.4444444444444444,
              "#bd3786"
             ],
             [
              0.5555555555555556,
              "#d8576b"
             ],
             [
              0.6666666666666666,
              "#ed7953"
             ],
             [
              0.7777777777777778,
              "#fb9f3a"
             ],
             [
              0.8888888888888888,
              "#fdca26"
             ],
             [
              1,
              "#f0f921"
             ]
            ],
            "type": "histogram2d"
           }
          ],
          "histogram2dcontour": [
           {
            "colorbar": {
             "outlinewidth": 0,
             "ticks": ""
            },
            "colorscale": [
             [
              0,
              "#0d0887"
             ],
             [
              0.1111111111111111,
              "#46039f"
             ],
             [
              0.2222222222222222,
              "#7201a8"
             ],
             [
              0.3333333333333333,
              "#9c179e"
             ],
             [
              0.4444444444444444,
              "#bd3786"
             ],
             [
              0.5555555555555556,
              "#d8576b"
             ],
             [
              0.6666666666666666,
              "#ed7953"
             ],
             [
              0.7777777777777778,
              "#fb9f3a"
             ],
             [
              0.8888888888888888,
              "#fdca26"
             ],
             [
              1,
              "#f0f921"
             ]
            ],
            "type": "histogram2dcontour"
           }
          ],
          "mesh3d": [
           {
            "colorbar": {
             "outlinewidth": 0,
             "ticks": ""
            },
            "type": "mesh3d"
           }
          ],
          "parcoords": [
           {
            "line": {
             "colorbar": {
              "outlinewidth": 0,
              "ticks": ""
             }
            },
            "type": "parcoords"
           }
          ],
          "pie": [
           {
            "automargin": true,
            "type": "pie"
           }
          ],
          "scatter": [
           {
            "fillpattern": {
             "fillmode": "overlay",
             "size": 10,
             "solidity": 0.2
            },
            "type": "scatter"
           }
          ],
          "scatter3d": [
           {
            "line": {
             "colorbar": {
              "outlinewidth": 0,
              "ticks": ""
             }
            },
            "marker": {
             "colorbar": {
              "outlinewidth": 0,
              "ticks": ""
             }
            },
            "type": "scatter3d"
           }
          ],
          "scattercarpet": [
           {
            "marker": {
             "colorbar": {
              "outlinewidth": 0,
              "ticks": ""
             }
            },
            "type": "scattercarpet"
           }
          ],
          "scattergeo": [
           {
            "marker": {
             "colorbar": {
              "outlinewidth": 0,
              "ticks": ""
             }
            },
            "type": "scattergeo"
           }
          ],
          "scattergl": [
           {
            "marker": {
             "colorbar": {
              "outlinewidth": 0,
              "ticks": ""
             }
            },
            "type": "scattergl"
           }
          ],
          "scattermapbox": [
           {
            "marker": {
             "colorbar": {
              "outlinewidth": 0,
              "ticks": ""
             }
            },
            "type": "scattermapbox"
           }
          ],
          "scatterpolar": [
           {
            "marker": {
             "colorbar": {
              "outlinewidth": 0,
              "ticks": ""
             }
            },
            "type": "scatterpolar"
           }
          ],
          "scatterpolargl": [
           {
            "marker": {
             "colorbar": {
              "outlinewidth": 0,
              "ticks": ""
             }
            },
            "type": "scatterpolargl"
           }
          ],
          "scatterternary": [
           {
            "marker": {
             "colorbar": {
              "outlinewidth": 0,
              "ticks": ""
             }
            },
            "type": "scatterternary"
           }
          ],
          "surface": [
           {
            "colorbar": {
             "outlinewidth": 0,
             "ticks": ""
            },
            "colorscale": [
             [
              0,
              "#0d0887"
             ],
             [
              0.1111111111111111,
              "#46039f"
             ],
             [
              0.2222222222222222,
              "#7201a8"
             ],
             [
              0.3333333333333333,
              "#9c179e"
             ],
             [
              0.4444444444444444,
              "#bd3786"
             ],
             [
              0.5555555555555556,
              "#d8576b"
             ],
             [
              0.6666666666666666,
              "#ed7953"
             ],
             [
              0.7777777777777778,
              "#fb9f3a"
             ],
             [
              0.8888888888888888,
              "#fdca26"
             ],
             [
              1,
              "#f0f921"
             ]
            ],
            "type": "surface"
           }
          ],
          "table": [
           {
            "cells": {
             "fill": {
              "color": "#EBF0F8"
             },
             "line": {
              "color": "white"
             }
            },
            "header": {
             "fill": {
              "color": "#C8D4E3"
             },
             "line": {
              "color": "white"
             }
            },
            "type": "table"
           }
          ]
         },
         "layout": {
          "annotationdefaults": {
           "arrowcolor": "#2a3f5f",
           "arrowhead": 0,
           "arrowwidth": 1
          },
          "autotypenumbers": "strict",
          "coloraxis": {
           "colorbar": {
            "outlinewidth": 0,
            "ticks": ""
           }
          },
          "colorscale": {
           "diverging": [
            [
             0,
             "#8e0152"
            ],
            [
             0.1,
             "#c51b7d"
            ],
            [
             0.2,
             "#de77ae"
            ],
            [
             0.3,
             "#f1b6da"
            ],
            [
             0.4,
             "#fde0ef"
            ],
            [
             0.5,
             "#f7f7f7"
            ],
            [
             0.6,
             "#e6f5d0"
            ],
            [
             0.7,
             "#b8e186"
            ],
            [
             0.8,
             "#7fbc41"
            ],
            [
             0.9,
             "#4d9221"
            ],
            [
             1,
             "#276419"
            ]
           ],
           "sequential": [
            [
             0,
             "#0d0887"
            ],
            [
             0.1111111111111111,
             "#46039f"
            ],
            [
             0.2222222222222222,
             "#7201a8"
            ],
            [
             0.3333333333333333,
             "#9c179e"
            ],
            [
             0.4444444444444444,
             "#bd3786"
            ],
            [
             0.5555555555555556,
             "#d8576b"
            ],
            [
             0.6666666666666666,
             "#ed7953"
            ],
            [
             0.7777777777777778,
             "#fb9f3a"
            ],
            [
             0.8888888888888888,
             "#fdca26"
            ],
            [
             1,
             "#f0f921"
            ]
           ],
           "sequentialminus": [
            [
             0,
             "#0d0887"
            ],
            [
             0.1111111111111111,
             "#46039f"
            ],
            [
             0.2222222222222222,
             "#7201a8"
            ],
            [
             0.3333333333333333,
             "#9c179e"
            ],
            [
             0.4444444444444444,
             "#bd3786"
            ],
            [
             0.5555555555555556,
             "#d8576b"
            ],
            [
             0.6666666666666666,
             "#ed7953"
            ],
            [
             0.7777777777777778,
             "#fb9f3a"
            ],
            [
             0.8888888888888888,
             "#fdca26"
            ],
            [
             1,
             "#f0f921"
            ]
           ]
          },
          "colorway": [
           "#636efa",
           "#EF553B",
           "#00cc96",
           "#ab63fa",
           "#FFA15A",
           "#19d3f3",
           "#FF6692",
           "#B6E880",
           "#FF97FF",
           "#FECB52"
          ],
          "font": {
           "color": "#2a3f5f"
          },
          "geo": {
           "bgcolor": "white",
           "lakecolor": "white",
           "landcolor": "#E5ECF6",
           "showlakes": true,
           "showland": true,
           "subunitcolor": "white"
          },
          "hoverlabel": {
           "align": "left"
          },
          "hovermode": "closest",
          "mapbox": {
           "style": "light"
          },
          "paper_bgcolor": "white",
          "plot_bgcolor": "#E5ECF6",
          "polar": {
           "angularaxis": {
            "gridcolor": "white",
            "linecolor": "white",
            "ticks": ""
           },
           "bgcolor": "#E5ECF6",
           "radialaxis": {
            "gridcolor": "white",
            "linecolor": "white",
            "ticks": ""
           }
          },
          "scene": {
           "xaxis": {
            "backgroundcolor": "#E5ECF6",
            "gridcolor": "white",
            "gridwidth": 2,
            "linecolor": "white",
            "showbackground": true,
            "ticks": "",
            "zerolinecolor": "white"
           },
           "yaxis": {
            "backgroundcolor": "#E5ECF6",
            "gridcolor": "white",
            "gridwidth": 2,
            "linecolor": "white",
            "showbackground": true,
            "ticks": "",
            "zerolinecolor": "white"
           },
           "zaxis": {
            "backgroundcolor": "#E5ECF6",
            "gridcolor": "white",
            "gridwidth": 2,
            "linecolor": "white",
            "showbackground": true,
            "ticks": "",
            "zerolinecolor": "white"
           }
          },
          "shapedefaults": {
           "line": {
            "color": "#2a3f5f"
           }
          },
          "ternary": {
           "aaxis": {
            "gridcolor": "white",
            "linecolor": "white",
            "ticks": ""
           },
           "baxis": {
            "gridcolor": "white",
            "linecolor": "white",
            "ticks": ""
           },
           "bgcolor": "#E5ECF6",
           "caxis": {
            "gridcolor": "white",
            "linecolor": "white",
            "ticks": ""
           }
          },
          "title": {
           "x": 0.05
          },
          "xaxis": {
           "automargin": true,
           "gridcolor": "white",
           "linecolor": "white",
           "ticks": "",
           "title": {
            "standoff": 15
           },
           "zerolinecolor": "white",
           "zerolinewidth": 2
          },
          "yaxis": {
           "automargin": true,
           "gridcolor": "white",
           "linecolor": "white",
           "ticks": "",
           "title": {
            "standoff": 15
           },
           "zerolinecolor": "white",
           "zerolinewidth": 2
          }
         }
        },
        "title": {
         "text": "Hyperparameter Importances"
        },
        "xaxis": {
         "title": {
          "text": "Importance for Objective Value"
         }
        },
        "yaxis": {
         "title": {
          "text": "Hyperparameter"
         }
        }
       }
      },
      "text/html": [
       "<div>                            <div id=\"ba4426c5-1c8e-4f89-a4b0-b8c5c39fcc80\" class=\"plotly-graph-div\" style=\"height:525px; width:100%;\"></div>            <script type=\"text/javascript\">                require([\"plotly\"], function(Plotly) {                    window.PLOTLYENV=window.PLOTLYENV || {};                                    if (document.getElementById(\"ba4426c5-1c8e-4f89-a4b0-b8c5c39fcc80\")) {                    Plotly.newPlot(                        \"ba4426c5-1c8e-4f89-a4b0-b8c5c39fcc80\",                        [{\"cliponaxis\":false,\"hovertemplate\":[\"decay_steps (UniformDistribution): 0.05076895495387951<extra></extra>\",\"epsilon (LogUniformDistribution): 0.17799780782773103<extra></extra>\",\"alpha (LogUniformDistribution): 0.32504555751681224<extra></extra>\",\"gamma (UniformDistribution): 0.4461876797015773<extra></extra>\"],\"marker\":{\"color\":\"rgb(66,146,198)\"},\"orientation\":\"h\",\"text\":[\"0.05076895495387951\",\"0.17799780782773103\",\"0.32504555751681224\",\"0.4461876797015773\"],\"textposition\":\"outside\",\"texttemplate\":\"%{text:.2f}\",\"x\":[0.05076895495387951,0.17799780782773103,0.32504555751681224,0.4461876797015773],\"y\":[\"decay_steps\",\"epsilon\",\"alpha\",\"gamma\"],\"type\":\"bar\"}],                        {\"showlegend\":false,\"title\":{\"text\":\"Hyperparameter Importances\"},\"xaxis\":{\"title\":{\"text\":\"Importance for Objective Value\"}},\"yaxis\":{\"title\":{\"text\":\"Hyperparameter\"}},\"template\":{\"data\":{\"histogram2dcontour\":[{\"type\":\"histogram2dcontour\",\"colorbar\":{\"outlinewidth\":0,\"ticks\":\"\"},\"colorscale\":[[0.0,\"#0d0887\"],[0.1111111111111111,\"#46039f\"],[0.2222222222222222,\"#7201a8\"],[0.3333333333333333,\"#9c179e\"],[0.4444444444444444,\"#bd3786\"],[0.5555555555555556,\"#d8576b\"],[0.6666666666666666,\"#ed7953\"],[0.7777777777777778,\"#fb9f3a\"],[0.8888888888888888,\"#fdca26\"],[1.0,\"#f0f921\"]]}],\"choropleth\":[{\"type\":\"choropleth\",\"colorbar\":{\"outlinewidth\":0,\"ticks\":\"\"}}],\"histogram2d\":[{\"type\":\"histogram2d\",\"colorbar\":{\"outlinewidth\":0,\"ticks\":\"\"},\"colorscale\":[[0.0,\"#0d0887\"],[0.1111111111111111,\"#46039f\"],[0.2222222222222222,\"#7201a8\"],[0.3333333333333333,\"#9c179e\"],[0.4444444444444444,\"#bd3786\"],[0.5555555555555556,\"#d8576b\"],[0.6666666666666666,\"#ed7953\"],[0.7777777777777778,\"#fb9f3a\"],[0.8888888888888888,\"#fdca26\"],[1.0,\"#f0f921\"]]}],\"heatmap\":[{\"type\":\"heatmap\",\"colorbar\":{\"outlinewidth\":0,\"ticks\":\"\"},\"colorscale\":[[0.0,\"#0d0887\"],[0.1111111111111111,\"#46039f\"],[0.2222222222222222,\"#7201a8\"],[0.3333333333333333,\"#9c179e\"],[0.4444444444444444,\"#bd3786\"],[0.5555555555555556,\"#d8576b\"],[0.6666666666666666,\"#ed7953\"],[0.7777777777777778,\"#fb9f3a\"],[0.8888888888888888,\"#fdca26\"],[1.0,\"#f0f921\"]]}],\"heatmapgl\":[{\"type\":\"heatmapgl\",\"colorbar\":{\"outlinewidth\":0,\"ticks\":\"\"},\"colorscale\":[[0.0,\"#0d0887\"],[0.1111111111111111,\"#46039f\"],[0.2222222222222222,\"#7201a8\"],[0.3333333333333333,\"#9c179e\"],[0.4444444444444444,\"#bd3786\"],[0.5555555555555556,\"#d8576b\"],[0.6666666666666666,\"#ed7953\"],[0.7777777777777778,\"#fb9f3a\"],[0.8888888888888888,\"#fdca26\"],[1.0,\"#f0f921\"]]}],\"contourcarpet\":[{\"type\":\"contourcarpet\",\"colorbar\":{\"outlinewidth\":0,\"ticks\":\"\"}}],\"contour\":[{\"type\":\"contour\",\"colorbar\":{\"outlinewidth\":0,\"ticks\":\"\"},\"colorscale\":[[0.0,\"#0d0887\"],[0.1111111111111111,\"#46039f\"],[0.2222222222222222,\"#7201a8\"],[0.3333333333333333,\"#9c179e\"],[0.4444444444444444,\"#bd3786\"],[0.5555555555555556,\"#d8576b\"],[0.6666666666666666,\"#ed7953\"],[0.7777777777777778,\"#fb9f3a\"],[0.8888888888888888,\"#fdca26\"],[1.0,\"#f0f921\"]]}],\"surface\":[{\"type\":\"surface\",\"colorbar\":{\"outlinewidth\":0,\"ticks\":\"\"},\"colorscale\":[[0.0,\"#0d0887\"],[0.1111111111111111,\"#46039f\"],[0.2222222222222222,\"#7201a8\"],[0.3333333333333333,\"#9c179e\"],[0.4444444444444444,\"#bd3786\"],[0.5555555555555556,\"#d8576b\"],[0.6666666666666666,\"#ed7953\"],[0.7777777777777778,\"#fb9f3a\"],[0.8888888888888888,\"#fdca26\"],[1.0,\"#f0f921\"]]}],\"mesh3d\":[{\"type\":\"mesh3d\",\"colorbar\":{\"outlinewidth\":0,\"ticks\":\"\"}}],\"scatter\":[{\"fillpattern\":{\"fillmode\":\"overlay\",\"size\":10,\"solidity\":0.2},\"type\":\"scatter\"}],\"parcoords\":[{\"type\":\"parcoords\",\"line\":{\"colorbar\":{\"outlinewidth\":0,\"ticks\":\"\"}}}],\"scatterpolargl\":[{\"type\":\"scatterpolargl\",\"marker\":{\"colorbar\":{\"outlinewidth\":0,\"ticks\":\"\"}}}],\"bar\":[{\"error_x\":{\"color\":\"#2a3f5f\"},\"error_y\":{\"color\":\"#2a3f5f\"},\"marker\":{\"line\":{\"color\":\"#E5ECF6\",\"width\":0.5},\"pattern\":{\"fillmode\":\"overlay\",\"size\":10,\"solidity\":0.2}},\"type\":\"bar\"}],\"scattergeo\":[{\"type\":\"scattergeo\",\"marker\":{\"colorbar\":{\"outlinewidth\":0,\"ticks\":\"\"}}}],\"scatterpolar\":[{\"type\":\"scatterpolar\",\"marker\":{\"colorbar\":{\"outlinewidth\":0,\"ticks\":\"\"}}}],\"histogram\":[{\"marker\":{\"pattern\":{\"fillmode\":\"overlay\",\"size\":10,\"solidity\":0.2}},\"type\":\"histogram\"}],\"scattergl\":[{\"type\":\"scattergl\",\"marker\":{\"colorbar\":{\"outlinewidth\":0,\"ticks\":\"\"}}}],\"scatter3d\":[{\"type\":\"scatter3d\",\"line\":{\"colorbar\":{\"outlinewidth\":0,\"ticks\":\"\"}},\"marker\":{\"colorbar\":{\"outlinewidth\":0,\"ticks\":\"\"}}}],\"scattermapbox\":[{\"type\":\"scattermapbox\",\"marker\":{\"colorbar\":{\"outlinewidth\":0,\"ticks\":\"\"}}}],\"scatterternary\":[{\"type\":\"scatterternary\",\"marker\":{\"colorbar\":{\"outlinewidth\":0,\"ticks\":\"\"}}}],\"scattercarpet\":[{\"type\":\"scattercarpet\",\"marker\":{\"colorbar\":{\"outlinewidth\":0,\"ticks\":\"\"}}}],\"carpet\":[{\"aaxis\":{\"endlinecolor\":\"#2a3f5f\",\"gridcolor\":\"white\",\"linecolor\":\"white\",\"minorgridcolor\":\"white\",\"startlinecolor\":\"#2a3f5f\"},\"baxis\":{\"endlinecolor\":\"#2a3f5f\",\"gridcolor\":\"white\",\"linecolor\":\"white\",\"minorgridcolor\":\"white\",\"startlinecolor\":\"#2a3f5f\"},\"type\":\"carpet\"}],\"table\":[{\"cells\":{\"fill\":{\"color\":\"#EBF0F8\"},\"line\":{\"color\":\"white\"}},\"header\":{\"fill\":{\"color\":\"#C8D4E3\"},\"line\":{\"color\":\"white\"}},\"type\":\"table\"}],\"barpolar\":[{\"marker\":{\"line\":{\"color\":\"#E5ECF6\",\"width\":0.5},\"pattern\":{\"fillmode\":\"overlay\",\"size\":10,\"solidity\":0.2}},\"type\":\"barpolar\"}],\"pie\":[{\"automargin\":true,\"type\":\"pie\"}]},\"layout\":{\"autotypenumbers\":\"strict\",\"colorway\":[\"#636efa\",\"#EF553B\",\"#00cc96\",\"#ab63fa\",\"#FFA15A\",\"#19d3f3\",\"#FF6692\",\"#B6E880\",\"#FF97FF\",\"#FECB52\"],\"font\":{\"color\":\"#2a3f5f\"},\"hovermode\":\"closest\",\"hoverlabel\":{\"align\":\"left\"},\"paper_bgcolor\":\"white\",\"plot_bgcolor\":\"#E5ECF6\",\"polar\":{\"bgcolor\":\"#E5ECF6\",\"angularaxis\":{\"gridcolor\":\"white\",\"linecolor\":\"white\",\"ticks\":\"\"},\"radialaxis\":{\"gridcolor\":\"white\",\"linecolor\":\"white\",\"ticks\":\"\"}},\"ternary\":{\"bgcolor\":\"#E5ECF6\",\"aaxis\":{\"gridcolor\":\"white\",\"linecolor\":\"white\",\"ticks\":\"\"},\"baxis\":{\"gridcolor\":\"white\",\"linecolor\":\"white\",\"ticks\":\"\"},\"caxis\":{\"gridcolor\":\"white\",\"linecolor\":\"white\",\"ticks\":\"\"}},\"coloraxis\":{\"colorbar\":{\"outlinewidth\":0,\"ticks\":\"\"}},\"colorscale\":{\"sequential\":[[0.0,\"#0d0887\"],[0.1111111111111111,\"#46039f\"],[0.2222222222222222,\"#7201a8\"],[0.3333333333333333,\"#9c179e\"],[0.4444444444444444,\"#bd3786\"],[0.5555555555555556,\"#d8576b\"],[0.6666666666666666,\"#ed7953\"],[0.7777777777777778,\"#fb9f3a\"],[0.8888888888888888,\"#fdca26\"],[1.0,\"#f0f921\"]],\"sequentialminus\":[[0.0,\"#0d0887\"],[0.1111111111111111,\"#46039f\"],[0.2222222222222222,\"#7201a8\"],[0.3333333333333333,\"#9c179e\"],[0.4444444444444444,\"#bd3786\"],[0.5555555555555556,\"#d8576b\"],[0.6666666666666666,\"#ed7953\"],[0.7777777777777778,\"#fb9f3a\"],[0.8888888888888888,\"#fdca26\"],[1.0,\"#f0f921\"]],\"diverging\":[[0,\"#8e0152\"],[0.1,\"#c51b7d\"],[0.2,\"#de77ae\"],[0.3,\"#f1b6da\"],[0.4,\"#fde0ef\"],[0.5,\"#f7f7f7\"],[0.6,\"#e6f5d0\"],[0.7,\"#b8e186\"],[0.8,\"#7fbc41\"],[0.9,\"#4d9221\"],[1,\"#276419\"]]},\"xaxis\":{\"gridcolor\":\"white\",\"linecolor\":\"white\",\"ticks\":\"\",\"title\":{\"standoff\":15},\"zerolinecolor\":\"white\",\"automargin\":true,\"zerolinewidth\":2},\"yaxis\":{\"gridcolor\":\"white\",\"linecolor\":\"white\",\"ticks\":\"\",\"title\":{\"standoff\":15},\"zerolinecolor\":\"white\",\"automargin\":true,\"zerolinewidth\":2},\"scene\":{\"xaxis\":{\"backgroundcolor\":\"#E5ECF6\",\"gridcolor\":\"white\",\"linecolor\":\"white\",\"showbackground\":true,\"ticks\":\"\",\"zerolinecolor\":\"white\",\"gridwidth\":2},\"yaxis\":{\"backgroundcolor\":\"#E5ECF6\",\"gridcolor\":\"white\",\"linecolor\":\"white\",\"showbackground\":true,\"ticks\":\"\",\"zerolinecolor\":\"white\",\"gridwidth\":2},\"zaxis\":{\"backgroundcolor\":\"#E5ECF6\",\"gridcolor\":\"white\",\"linecolor\":\"white\",\"showbackground\":true,\"ticks\":\"\",\"zerolinecolor\":\"white\",\"gridwidth\":2}},\"shapedefaults\":{\"line\":{\"color\":\"#2a3f5f\"}},\"annotationdefaults\":{\"arrowcolor\":\"#2a3f5f\",\"arrowhead\":0,\"arrowwidth\":1},\"geo\":{\"bgcolor\":\"white\",\"landcolor\":\"#E5ECF6\",\"subunitcolor\":\"white\",\"showland\":true,\"showlakes\":true,\"lakecolor\":\"white\"},\"title\":{\"x\":0.05},\"mapbox\":{\"style\":\"light\"}}}},                        {\"responsive\": true}                    ).then(function(){\n",
       "                            \n",
       "var gd = document.getElementById('ba4426c5-1c8e-4f89-a4b0-b8c5c39fcc80');\n",
       "var x = new MutationObserver(function (mutations, observer) {{\n",
       "        var display = window.getComputedStyle(gd).display;\n",
       "        if (!display || display === 'none') {{\n",
       "            console.log([gd, 'removed!']);\n",
       "            Plotly.purge(gd);\n",
       "            observer.disconnect();\n",
       "        }}\n",
       "}});\n",
       "\n",
       "// Listen for the removal of the full notebook cells\n",
       "var notebookContainer = gd.closest('#notebook-container');\n",
       "if (notebookContainer) {{\n",
       "    x.observe(notebookContainer, {childList: true});\n",
       "}}\n",
       "\n",
       "// Listen for the clearing of the current output cell\n",
       "var outputEl = gd.closest('.output');\n",
       "if (outputEl) {{\n",
       "    x.observe(outputEl, {childList: true});\n",
       "}}\n",
       "\n",
       "                        })                };                });            </script>        </div>"
      ]
     },
     "metadata": {},
     "output_type": "display_data"
    }
   ],
   "source": [
    "fig = optuna.visualization.plot_param_importances(study)\n",
    "fig.show()"
   ]
  },
  {
   "cell_type": "code",
   "execution_count": 15,
   "id": "963580f1",
   "metadata": {},
   "outputs": [
    {
     "data": {
      "application/vnd.plotly.v1+json": {
       "config": {
        "plotlyServerURL": "https://plot.ly"
       },
       "data": [
        {
         "colorbar": {
          "title": {
           "text": "Objective Value"
          }
         },
         "colorscale": [
          [
           0,
           "rgb(5,10,172)"
          ],
          [
           0.35,
           "rgb(40,60,190)"
          ],
          [
           0.5,
           "rgb(70,100,245)"
          ],
          [
           0.6,
           "rgb(90,120,245)"
          ],
          [
           0.7,
           "rgb(106,137,247)"
          ],
          [
           1,
           "rgb(220,220,220)"
          ]
         ],
         "connectgaps": true,
         "contours": {
          "coloring": "heatmap"
         },
         "hoverinfo": "none",
         "line": {
          "smoothing": 1.3
         },
         "reversescale": false,
         "type": "contour",
         "x": [
          0.009921388004745207,
          0.011664513961313468,
          0.012440122278218066,
          0.014245282127494083,
          0.015887784939561177,
          0.0168290062170959,
          0.020117006646742576,
          0.02251145536983653,
          0.025765312346332798,
          0.03288835281919143,
          0.038248435692391565,
          0.0479242501514361,
          0.05139022702279632,
          0.0621627428411589,
          0.0739705649672864,
          0.09397743763187245,
          0.09522975099303167,
          0.09782255996645739,
          0.11217580098969597,
          0.1145272849247403,
          0.13087717123960577,
          0.1316973533083835,
          0.13990355472662527,
          0.14984400518840874,
          0.1590450336876922,
          0.15956140760091966,
          0.16318174061250693,
          0.17043159054081547,
          0.18232884860529694,
          0.18905024042822785,
          0.19510114130126385,
          0.20730588955540533,
          0.20748346569747844,
          0.2155954190186733,
          0.2256767162435639,
          0.2360335738970766,
          0.23694065523262592,
          0.23965617221120253,
          0.2399585836441919,
          0.24342794759961509,
          0.24796811693622936,
          0.25198690080574915,
          0.2526665227436859,
          0.25327971565318613,
          0.27447707938924126,
          0.28285400731897864,
          0.28942793268080963,
          0.2923240469314058,
          0.29370858793994953,
          0.29696020189905153,
          0.2969962092445243,
          0.34917658976072835
         ],
         "y": [
          0.8489772940052291,
          0.8561162886053421,
          0.8759386045597057,
          0.8786988244083404,
          0.8881906522942679,
          0.8992516010246396,
          0.908511368513517,
          0.9177840422031593,
          0.9219301485968923,
          0.9229460225549834,
          0.9352477978549804,
          0.9375888238807687,
          0.9391978523543941,
          0.9484217161772432,
          0.9491959366529279,
          0.9525709027213521,
          0.9550538842528296,
          0.9591290533631357,
          0.9611877150245821,
          0.9613235873080813,
          0.962122700132542,
          0.9622264633156067,
          0.9666911169749102,
          0.9674300980017406,
          0.9693595090168338,
          0.9701584491785731,
          0.9714710581126443,
          0.9746400863860956,
          0.975124823012818,
          0.9757620370566445,
          0.9782169040083118,
          0.9797762619367143,
          0.9801397323195044,
          0.9809131460384501,
          0.9827327644176411,
          0.9846237161687245,
          0.9847602361712169,
          0.9848635766074106,
          0.9854819587083302,
          0.9859981046208016,
          0.9881772496923245,
          0.9888562883907218,
          0.9902461355311633,
          0.9906712524141712,
          0.9934218455013704,
          0.993789298574306,
          0.9943815608106136,
          0.9948953744705571,
          0.9964510154425122,
          0.9979548990414675,
          0.9988961806076,
          1.0060351752077128
         ],
         "z": [
          [
           null,
           null,
           null,
           null,
           null,
           null,
           null,
           null,
           null,
           null,
           null,
           null,
           null,
           null,
           null,
           null,
           null,
           null,
           null,
           null,
           null,
           null,
           null,
           null,
           null,
           null,
           null,
           null,
           null,
           null,
           null,
           null,
           null,
           null,
           null,
           null,
           null,
           null,
           null,
           null,
           null,
           null,
           null,
           null,
           null,
           null,
           null,
           null,
           null,
           null,
           null,
           null
          ],
          [
           null,
           null,
           null,
           null,
           null,
           null,
           null,
           null,
           null,
           null,
           null,
           null,
           null,
           null,
           null,
           null,
           null,
           null,
           null,
           null,
           null,
           null,
           null,
           null,
           null,
           null,
           0.342,
           null,
           null,
           null,
           null,
           null,
           null,
           null,
           null,
           null,
           null,
           null,
           null,
           null,
           null,
           null,
           null,
           null,
           null,
           null,
           null,
           null,
           null,
           null,
           null,
           null
          ],
          [
           null,
           null,
           null,
           null,
           null,
           null,
           null,
           0.209,
           null,
           null,
           null,
           null,
           null,
           null,
           null,
           null,
           null,
           null,
           null,
           null,
           null,
           null,
           null,
           null,
           null,
           null,
           null,
           null,
           null,
           null,
           null,
           null,
           null,
           null,
           null,
           null,
           null,
           null,
           null,
           null,
           null,
           null,
           null,
           null,
           null,
           null,
           null,
           null,
           null,
           null,
           null,
           null
          ],
          [
           null,
           null,
           null,
           null,
           null,
           null,
           null,
           null,
           0.078,
           null,
           null,
           null,
           null,
           null,
           null,
           null,
           null,
           null,
           null,
           null,
           null,
           null,
           null,
           null,
           null,
           null,
           null,
           null,
           null,
           null,
           null,
           null,
           null,
           null,
           null,
           null,
           null,
           null,
           null,
           null,
           null,
           null,
           null,
           null,
           null,
           null,
           null,
           null,
           null,
           null,
           null,
           null
          ],
          [
           null,
           0.148,
           null,
           null,
           null,
           null,
           null,
           null,
           null,
           null,
           null,
           null,
           null,
           null,
           null,
           null,
           null,
           null,
           null,
           null,
           null,
           null,
           null,
           null,
           null,
           null,
           null,
           null,
           null,
           null,
           null,
           null,
           null,
           null,
           null,
           null,
           null,
           null,
           null,
           null,
           null,
           null,
           null,
           null,
           null,
           null,
           null,
           null,
           null,
           null,
           null,
           null
          ],
          [
           null,
           null,
           null,
           null,
           null,
           null,
           0.099,
           null,
           null,
           null,
           null,
           null,
           null,
           null,
           null,
           null,
           null,
           null,
           null,
           null,
           null,
           null,
           null,
           null,
           null,
           null,
           null,
           null,
           null,
           null,
           null,
           null,
           null,
           null,
           null,
           null,
           null,
           null,
           null,
           null,
           null,
           null,
           null,
           null,
           null,
           null,
           null,
           null,
           null,
           null,
           null,
           null
          ],
          [
           null,
           null,
           null,
           null,
           null,
           null,
           null,
           null,
           null,
           null,
           null,
           null,
           null,
           null,
           null,
           null,
           null,
           null,
           null,
           null,
           null,
           null,
           null,
           null,
           null,
           null,
           null,
           null,
           null,
           0.145,
           null,
           null,
           null,
           null,
           null,
           null,
           null,
           null,
           null,
           null,
           null,
           null,
           null,
           null,
           null,
           null,
           null,
           null,
           null,
           null,
           null,
           null
          ],
          [
           null,
           null,
           null,
           null,
           null,
           null,
           null,
           null,
           null,
           null,
           null,
           null,
           null,
           null,
           null,
           null,
           null,
           null,
           null,
           null,
           null,
           null,
           null,
           null,
           null,
           null,
           null,
           null,
           null,
           null,
           null,
           null,
           null,
           null,
           0.144,
           null,
           null,
           null,
           null,
           null,
           null,
           null,
           null,
           null,
           null,
           null,
           null,
           null,
           null,
           null,
           null,
           null
          ],
          [
           null,
           null,
           null,
           null,
           null,
           null,
           null,
           null,
           null,
           null,
           null,
           null,
           null,
           null,
           null,
           null,
           null,
           null,
           null,
           null,
           null,
           null,
           null,
           null,
           null,
           null,
           null,
           null,
           null,
           null,
           null,
           null,
           null,
           null,
           null,
           null,
           null,
           null,
           null,
           null,
           null,
           null,
           null,
           null,
           null,
           null,
           null,
           null,
           null,
           null,
           0.164,
           null
          ],
          [
           null,
           null,
           null,
           null,
           0.147,
           null,
           null,
           null,
           null,
           null,
           null,
           null,
           null,
           null,
           null,
           null,
           null,
           null,
           null,
           null,
           null,
           null,
           null,
           null,
           null,
           null,
           null,
           null,
           null,
           null,
           null,
           null,
           null,
           null,
           null,
           null,
           null,
           null,
           null,
           null,
           null,
           null,
           null,
           null,
           null,
           null,
           null,
           null,
           null,
           null,
           null,
           null
          ],
          [
           null,
           null,
           null,
           null,
           null,
           null,
           null,
           null,
           null,
           null,
           null,
           null,
           0.165,
           null,
           null,
           null,
           null,
           null,
           null,
           null,
           null,
           null,
           null,
           null,
           null,
           null,
           null,
           null,
           null,
           null,
           null,
           null,
           null,
           null,
           null,
           null,
           null,
           null,
           null,
           null,
           null,
           null,
           null,
           null,
           null,
           null,
           null,
           null,
           null,
           null,
           null,
           null
          ],
          [
           null,
           null,
           null,
           null,
           null,
           null,
           null,
           null,
           null,
           null,
           null,
           null,
           null,
           null,
           null,
           null,
           null,
           null,
           null,
           null,
           null,
           null,
           null,
           null,
           null,
           null,
           null,
           null,
           0.399,
           null,
           null,
           null,
           null,
           null,
           null,
           null,
           null,
           null,
           null,
           null,
           null,
           null,
           null,
           null,
           null,
           null,
           null,
           null,
           null,
           null,
           null,
           null
          ],
          [
           null,
           null,
           null,
           null,
           null,
           null,
           null,
           null,
           null,
           null,
           null,
           null,
           null,
           null,
           null,
           null,
           0.631,
           null,
           null,
           null,
           null,
           null,
           null,
           null,
           null,
           null,
           null,
           null,
           null,
           null,
           null,
           null,
           null,
           null,
           null,
           null,
           null,
           null,
           null,
           null,
           null,
           null,
           null,
           null,
           null,
           null,
           null,
           null,
           null,
           null,
           null,
           null
          ],
          [
           null,
           null,
           0.056,
           null,
           null,
           null,
           null,
           null,
           null,
           null,
           null,
           null,
           null,
           null,
           null,
           null,
           null,
           null,
           null,
           null,
           null,
           null,
           null,
           null,
           null,
           null,
           null,
           null,
           null,
           null,
           null,
           null,
           null,
           null,
           null,
           null,
           null,
           null,
           null,
           null,
           null,
           null,
           null,
           null,
           null,
           null,
           null,
           null,
           null,
           null,
           null,
           null
          ],
          [
           null,
           null,
           null,
           null,
           null,
           null,
           null,
           null,
           null,
           null,
           null,
           null,
           null,
           null,
           null,
           null,
           null,
           null,
           null,
           null,
           0.228,
           null,
           null,
           null,
           null,
           null,
           null,
           null,
           null,
           null,
           null,
           null,
           null,
           null,
           null,
           null,
           null,
           null,
           null,
           null,
           null,
           null,
           null,
           null,
           null,
           null,
           null,
           null,
           null,
           null,
           null,
           null
          ],
          [
           null,
           null,
           null,
           null,
           null,
           null,
           null,
           null,
           null,
           null,
           null,
           null,
           null,
           null,
           null,
           null,
           null,
           null,
           null,
           0.227,
           null,
           null,
           null,
           null,
           null,
           null,
           null,
           null,
           null,
           null,
           null,
           null,
           null,
           null,
           null,
           null,
           null,
           null,
           null,
           null,
           null,
           null,
           null,
           null,
           null,
           null,
           null,
           null,
           null,
           null,
           null,
           null
          ],
          [
           null,
           null,
           null,
           null,
           null,
           null,
           null,
           null,
           null,
           0.19,
           null,
           null,
           null,
           null,
           null,
           null,
           null,
           null,
           null,
           null,
           null,
           null,
           null,
           null,
           null,
           null,
           null,
           null,
           null,
           null,
           null,
           null,
           null,
           null,
           null,
           null,
           null,
           null,
           null,
           null,
           null,
           null,
           null,
           null,
           null,
           null,
           null,
           null,
           null,
           null,
           null,
           null
          ],
          [
           null,
           null,
           null,
           null,
           null,
           null,
           null,
           null,
           null,
           null,
           null,
           null,
           null,
           null,
           null,
           null,
           null,
           null,
           null,
           null,
           null,
           null,
           null,
           null,
           null,
           null,
           null,
           null,
           null,
           null,
           null,
           null,
           null,
           null,
           null,
           null,
           null,
           null,
           0.436,
           null,
           null,
           null,
           null,
           null,
           null,
           null,
           null,
           null,
           null,
           null,
           null,
           null
          ],
          [
           null,
           null,
           null,
           null,
           null,
           null,
           null,
           null,
           null,
           null,
           null,
           null,
           null,
           null,
           null,
           null,
           null,
           null,
           null,
           null,
           null,
           null,
           null,
           0.616,
           null,
           null,
           null,
           null,
           null,
           null,
           null,
           null,
           null,
           null,
           null,
           null,
           null,
           null,
           null,
           null,
           null,
           null,
           null,
           null,
           null,
           null,
           null,
           null,
           null,
           null,
           null,
           null
          ],
          [
           null,
           null,
           null,
           null,
           null,
           null,
           null,
           null,
           null,
           null,
           null,
           null,
           null,
           null,
           null,
           null,
           null,
           null,
           null,
           null,
           null,
           null,
           null,
           null,
           null,
           null,
           null,
           null,
           null,
           null,
           null,
           null,
           null,
           null,
           null,
           null,
           1,
           null,
           null,
           null,
           null,
           null,
           null,
           null,
           null,
           null,
           null,
           null,
           null,
           null,
           null,
           null
          ],
          [
           null,
           null,
           null,
           0.125,
           null,
           null,
           null,
           null,
           null,
           null,
           null,
           null,
           null,
           null,
           null,
           null,
           null,
           null,
           null,
           null,
           null,
           null,
           null,
           null,
           null,
           null,
           null,
           null,
           null,
           null,
           null,
           null,
           null,
           null,
           null,
           null,
           null,
           null,
           null,
           null,
           null,
           null,
           null,
           null,
           null,
           null,
           null,
           null,
           null,
           null,
           null,
           null
          ],
          [
           null,
           null,
           null,
           null,
           null,
           null,
           null,
           null,
           null,
           null,
           null,
           null,
           null,
           null,
           null,
           null,
           null,
           null,
           null,
           null,
           null,
           null,
           null,
           null,
           null,
           null,
           null,
           null,
           null,
           null,
           0.256,
           null,
           null,
           null,
           null,
           null,
           null,
           null,
           null,
           null,
           null,
           null,
           null,
           null,
           null,
           null,
           null,
           null,
           null,
           null,
           null,
           null
          ],
          [
           null,
           null,
           null,
           null,
           null,
           null,
           null,
           null,
           null,
           null,
           null,
           null,
           null,
           null,
           null,
           null,
           null,
           null,
           null,
           null,
           null,
           null,
           null,
           null,
           0.571,
           null,
           null,
           null,
           null,
           null,
           null,
           null,
           null,
           null,
           null,
           null,
           null,
           null,
           null,
           null,
           null,
           null,
           null,
           null,
           null,
           null,
           null,
           null,
           null,
           null,
           null,
           null
          ],
          [
           null,
           null,
           null,
           null,
           null,
           null,
           null,
           null,
           null,
           null,
           null,
           null,
           null,
           null,
           null,
           null,
           null,
           null,
           null,
           null,
           null,
           null,
           null,
           null,
           null,
           1,
           null,
           null,
           null,
           null,
           null,
           null,
           null,
           null,
           null,
           null,
           null,
           null,
           null,
           null,
           null,
           null,
           null,
           null,
           null,
           null,
           null,
           null,
           null,
           null,
           null,
           null
          ],
          [
           null,
           null,
           null,
           null,
           null,
           null,
           null,
           null,
           null,
           null,
           null,
           null,
           null,
           null,
           null,
           null,
           null,
           null,
           null,
           null,
           null,
           null,
           null,
           null,
           null,
           null,
           null,
           null,
           null,
           null,
           null,
           null,
           null,
           0.449,
           null,
           null,
           null,
           null,
           null,
           null,
           null,
           null,
           null,
           null,
           null,
           null,
           null,
           null,
           null,
           null,
           null,
           null
          ],
          [
           null,
           null,
           null,
           null,
           null,
           null,
           null,
           null,
           null,
           null,
           null,
           null,
           null,
           null,
           null,
           null,
           null,
           null,
           null,
           null,
           null,
           null,
           null,
           null,
           null,
           null,
           null,
           null,
           null,
           null,
           null,
           null,
           null,
           null,
           null,
           null,
           null,
           null,
           null,
           null,
           null,
           null,
           null,
           null,
           null,
           null,
           null,
           null,
           null,
           0.544,
           null,
           null
          ],
          [
           null,
           null,
           null,
           null,
           null,
           null,
           null,
           null,
           null,
           null,
           null,
           null,
           null,
           null,
           null,
           null,
           null,
           null,
           null,
           null,
           null,
           null,
           null,
           null,
           null,
           null,
           null,
           null,
           null,
           null,
           null,
           null,
           null,
           null,
           null,
           null,
           null,
           null,
           null,
           null,
           null,
           null,
           0.387,
           null,
           null,
           null,
           null,
           null,
           null,
           null,
           null,
           null
          ],
          [
           null,
           null,
           null,
           null,
           null,
           null,
           null,
           null,
           null,
           null,
           null,
           0.38,
           null,
           null,
           null,
           null,
           null,
           null,
           null,
           null,
           null,
           null,
           null,
           null,
           null,
           null,
           null,
           null,
           null,
           null,
           null,
           null,
           null,
           null,
           null,
           null,
           null,
           null,
           null,
           null,
           null,
           null,
           null,
           null,
           null,
           null,
           null,
           null,
           null,
           null,
           null,
           null
          ],
          [
           null,
           null,
           null,
           null,
           null,
           null,
           null,
           null,
           null,
           null,
           null,
           null,
           null,
           null,
           null,
           null,
           null,
           null,
           null,
           null,
           null,
           0.53,
           null,
           null,
           null,
           null,
           null,
           null,
           null,
           null,
           null,
           null,
           null,
           null,
           null,
           null,
           null,
           null,
           null,
           null,
           null,
           null,
           null,
           null,
           null,
           null,
           null,
           null,
           null,
           null,
           null,
           null
          ],
          [
           null,
           null,
           null,
           null,
           null,
           null,
           null,
           null,
           null,
           null,
           null,
           null,
           null,
           0.547,
           null,
           null,
           null,
           null,
           null,
           null,
           null,
           null,
           null,
           null,
           null,
           null,
           null,
           null,
           null,
           null,
           null,
           null,
           null,
           null,
           null,
           null,
           null,
           null,
           null,
           null,
           null,
           null,
           null,
           null,
           null,
           null,
           null,
           null,
           null,
           null,
           null,
           null
          ],
          [
           null,
           null,
           null,
           null,
           null,
           null,
           null,
           null,
           null,
           null,
           null,
           null,
           null,
           null,
           null,
           null,
           null,
           null,
           null,
           null,
           null,
           null,
           null,
           null,
           null,
           null,
           null,
           null,
           null,
           null,
           null,
           null,
           null,
           null,
           null,
           null,
           null,
           null,
           null,
           1,
           null,
           null,
           null,
           null,
           null,
           null,
           null,
           null,
           null,
           null,
           null,
           null
          ],
          [
           null,
           null,
           null,
           null,
           null,
           null,
           null,
           null,
           null,
           null,
           null,
           null,
           null,
           null,
           null,
           null,
           null,
           null,
           null,
           null,
           null,
           null,
           null,
           null,
           null,
           null,
           null,
           null,
           null,
           null,
           null,
           0.639,
           null,
           null,
           null,
           null,
           null,
           null,
           null,
           null,
           null,
           null,
           null,
           null,
           null,
           null,
           null,
           null,
           null,
           null,
           null,
           null
          ],
          [
           null,
           null,
           null,
           null,
           null,
           null,
           null,
           null,
           null,
           null,
           null,
           null,
           null,
           null,
           null,
           null,
           null,
           null,
           null,
           null,
           null,
           null,
           null,
           null,
           null,
           null,
           null,
           null,
           null,
           null,
           null,
           null,
           null,
           null,
           null,
           0.861,
           null,
           null,
           null,
           null,
           null,
           null,
           null,
           null,
           null,
           null,
           null,
           null,
           null,
           null,
           null,
           null
          ],
          [
           null,
           null,
           null,
           null,
           null,
           null,
           null,
           null,
           null,
           null,
           null,
           null,
           null,
           null,
           null,
           null,
           null,
           null,
           null,
           null,
           null,
           null,
           null,
           null,
           null,
           null,
           null,
           null,
           null,
           null,
           null,
           null,
           null,
           null,
           null,
           null,
           null,
           1,
           null,
           null,
           null,
           null,
           null,
           null,
           null,
           null,
           null,
           null,
           null,
           null,
           null,
           null
          ],
          [
           null,
           null,
           null,
           null,
           null,
           null,
           null,
           null,
           null,
           null,
           0.359,
           null,
           null,
           null,
           null,
           null,
           null,
           null,
           null,
           null,
           null,
           null,
           null,
           null,
           null,
           null,
           null,
           null,
           null,
           null,
           null,
           null,
           null,
           null,
           null,
           null,
           null,
           null,
           null,
           null,
           null,
           null,
           null,
           null,
           null,
           null,
           null,
           null,
           null,
           null,
           null,
           null
          ],
          [
           null,
           null,
           null,
           null,
           null,
           null,
           null,
           null,
           null,
           null,
           null,
           null,
           null,
           null,
           null,
           null,
           null,
           null,
           null,
           null,
           null,
           null,
           null,
           null,
           null,
           null,
           null,
           null,
           null,
           null,
           null,
           null,
           null,
           null,
           null,
           null,
           null,
           null,
           null,
           null,
           1,
           null,
           null,
           null,
           null,
           null,
           null,
           null,
           null,
           null,
           null,
           null
          ],
          [
           null,
           null,
           null,
           null,
           null,
           null,
           null,
           null,
           null,
           null,
           null,
           null,
           null,
           null,
           null,
           null,
           null,
           null,
           null,
           null,
           null,
           null,
           null,
           null,
           null,
           null,
           null,
           null,
           null,
           null,
           null,
           null,
           null,
           null,
           null,
           null,
           null,
           null,
           null,
           null,
           null,
           null,
           null,
           null,
           0.753,
           null,
           null,
           null,
           null,
           null,
           null,
           null
          ],
          [
           null,
           null,
           null,
           null,
           null,
           null,
           null,
           null,
           null,
           null,
           null,
           null,
           null,
           null,
           null,
           0.867,
           null,
           null,
           null,
           null,
           null,
           null,
           null,
           null,
           null,
           null,
           null,
           null,
           null,
           null,
           null,
           null,
           null,
           null,
           null,
           null,
           null,
           null,
           null,
           null,
           null,
           null,
           null,
           null,
           null,
           null,
           null,
           null,
           null,
           null,
           null,
           null
          ],
          [
           null,
           null,
           null,
           null,
           null,
           null,
           null,
           null,
           null,
           null,
           null,
           null,
           null,
           null,
           null,
           null,
           null,
           null,
           null,
           null,
           null,
           null,
           null,
           null,
           null,
           null,
           null,
           null,
           null,
           null,
           null,
           null,
           null,
           null,
           null,
           null,
           null,
           null,
           null,
           null,
           null,
           null,
           null,
           1,
           null,
           null,
           null,
           null,
           null,
           null,
           null,
           null
          ],
          [
           null,
           null,
           null,
           null,
           null,
           null,
           null,
           null,
           null,
           null,
           null,
           null,
           null,
           null,
           null,
           null,
           null,
           null,
           null,
           null,
           null,
           null,
           null,
           null,
           null,
           null,
           null,
           null,
           null,
           null,
           null,
           null,
           null,
           null,
           null,
           null,
           null,
           null,
           null,
           null,
           null,
           1,
           null,
           null,
           null,
           null,
           null,
           null,
           null,
           null,
           null,
           null
          ],
          [
           null,
           null,
           null,
           null,
           null,
           0.073,
           null,
           null,
           null,
           null,
           null,
           null,
           null,
           null,
           null,
           null,
           null,
           null,
           null,
           null,
           null,
           null,
           null,
           null,
           null,
           null,
           null,
           null,
           null,
           null,
           null,
           null,
           null,
           null,
           null,
           null,
           null,
           null,
           null,
           null,
           null,
           null,
           null,
           null,
           null,
           null,
           null,
           null,
           null,
           null,
           null,
           null
          ],
          [
           null,
           null,
           null,
           null,
           null,
           null,
           null,
           null,
           null,
           null,
           null,
           null,
           null,
           null,
           null,
           null,
           null,
           0.074,
           null,
           null,
           null,
           null,
           null,
           null,
           null,
           null,
           null,
           null,
           null,
           null,
           null,
           null,
           null,
           null,
           null,
           null,
           null,
           null,
           null,
           null,
           null,
           null,
           null,
           null,
           null,
           null,
           null,
           null,
           null,
           null,
           null,
           null
          ],
          [
           null,
           null,
           null,
           null,
           null,
           null,
           null,
           null,
           null,
           null,
           null,
           null,
           null,
           null,
           null,
           null,
           null,
           null,
           null,
           null,
           null,
           null,
           0.776,
           null,
           null,
           null,
           null,
           null,
           null,
           null,
           null,
           null,
           null,
           null,
           null,
           null,
           null,
           null,
           null,
           null,
           null,
           null,
           null,
           null,
           null,
           null,
           null,
           null,
           null,
           null,
           null,
           null
          ],
          [
           null,
           null,
           null,
           null,
           null,
           null,
           null,
           null,
           null,
           null,
           null,
           null,
           null,
           null,
           null,
           null,
           null,
           null,
           null,
           null,
           null,
           null,
           null,
           null,
           null,
           null,
           null,
           null,
           null,
           null,
           null,
           null,
           0.462,
           null,
           null,
           null,
           null,
           null,
           null,
           null,
           null,
           null,
           null,
           null,
           null,
           null,
           null,
           null,
           null,
           null,
           null,
           null
          ],
          [
           null,
           null,
           null,
           null,
           null,
           null,
           null,
           null,
           null,
           null,
           null,
           null,
           null,
           null,
           null,
           null,
           null,
           null,
           null,
           null,
           null,
           null,
           null,
           null,
           null,
           null,
           null,
           null,
           null,
           null,
           null,
           null,
           null,
           null,
           null,
           null,
           null,
           null,
           null,
           null,
           null,
           null,
           null,
           null,
           null,
           null,
           1,
           null,
           null,
           null,
           null,
           null
          ],
          [
           null,
           null,
           null,
           null,
           null,
           null,
           null,
           null,
           null,
           null,
           null,
           null,
           null,
           null,
           null,
           null,
           null,
           null,
           0.662,
           null,
           null,
           null,
           null,
           null,
           null,
           null,
           null,
           null,
           null,
           null,
           null,
           null,
           null,
           null,
           null,
           null,
           null,
           null,
           null,
           null,
           null,
           null,
           null,
           null,
           null,
           null,
           null,
           null,
           null,
           null,
           null,
           null
          ],
          [
           null,
           null,
           null,
           null,
           null,
           null,
           null,
           null,
           null,
           null,
           null,
           null,
           null,
           null,
           null,
           null,
           null,
           null,
           null,
           null,
           null,
           null,
           null,
           null,
           null,
           null,
           null,
           null,
           null,
           null,
           null,
           null,
           null,
           null,
           null,
           null,
           null,
           null,
           null,
           null,
           null,
           null,
           null,
           null,
           null,
           1,
           null,
           null,
           null,
           null,
           null,
           null
          ],
          [
           null,
           null,
           null,
           null,
           null,
           null,
           null,
           null,
           null,
           null,
           null,
           null,
           null,
           null,
           null,
           null,
           null,
           null,
           null,
           null,
           null,
           null,
           null,
           null,
           null,
           null,
           null,
           null,
           null,
           null,
           null,
           null,
           null,
           null,
           null,
           null,
           null,
           null,
           null,
           null,
           null,
           null,
           null,
           null,
           null,
           null,
           null,
           null,
           1,
           null,
           null,
           null
          ],
          [
           null,
           null,
           null,
           null,
           null,
           null,
           null,
           null,
           null,
           null,
           null,
           null,
           null,
           null,
           null,
           null,
           null,
           null,
           null,
           null,
           null,
           null,
           null,
           null,
           null,
           null,
           null,
           null,
           null,
           null,
           null,
           null,
           null,
           null,
           null,
           null,
           null,
           null,
           null,
           null,
           null,
           null,
           null,
           null,
           null,
           null,
           null,
           1,
           null,
           null,
           null,
           null
          ],
          [
           null,
           null,
           null,
           null,
           null,
           null,
           null,
           null,
           null,
           null,
           null,
           null,
           null,
           null,
           0.304,
           null,
           null,
           null,
           null,
           null,
           null,
           null,
           null,
           null,
           null,
           null,
           null,
           null,
           null,
           null,
           null,
           null,
           null,
           null,
           null,
           null,
           null,
           null,
           null,
           null,
           null,
           null,
           null,
           null,
           null,
           null,
           null,
           null,
           null,
           null,
           null,
           null
          ],
          [
           null,
           null,
           null,
           null,
           null,
           null,
           null,
           null,
           null,
           null,
           null,
           null,
           null,
           null,
           null,
           null,
           null,
           null,
           null,
           null,
           null,
           null,
           null,
           null,
           null,
           null,
           null,
           0.46799999999999997,
           null,
           null,
           null,
           null,
           null,
           null,
           null,
           null,
           null,
           null,
           null,
           null,
           null,
           null,
           null,
           null,
           null,
           null,
           null,
           null,
           null,
           null,
           null,
           null
          ],
          [
           null,
           null,
           null,
           null,
           null,
           null,
           null,
           null,
           null,
           null,
           null,
           null,
           null,
           null,
           null,
           null,
           null,
           null,
           null,
           null,
           null,
           null,
           null,
           null,
           null,
           null,
           null,
           null,
           null,
           null,
           null,
           null,
           null,
           null,
           null,
           null,
           null,
           null,
           null,
           null,
           null,
           null,
           null,
           null,
           null,
           null,
           null,
           null,
           null,
           null,
           null,
           null
          ]
         ]
        },
        {
         "marker": {
          "color": "black",
          "line": {
           "color": "Grey",
           "width": 0.5
          }
         },
         "mode": "markers",
         "showlegend": false,
         "type": "scatter",
         "x": [
          0.015887784939561177,
          0.014245282127494083,
          0.02251145536983653,
          0.025765312346332798,
          0.012440122278218066,
          0.09782255996645739,
          0.23694065523262592,
          0.020117006646742576,
          0.1145272849247403,
          0.09397743763187245,
          0.2969962092445243,
          0.2923240469314058,
          0.28285400731897864,
          0.15956140760091966,
          0.0479242501514361,
          0.18232884860529694,
          0.0621627428411589,
          0.16318174061250693,
          0.17043159054081547,
          0.05139022702279632,
          0.19510114130126385,
          0.29370858793994953,
          0.23965617221120253,
          0.1316973533083835,
          0.0739705649672864,
          0.25327971565318613,
          0.038248435692391565,
          0.2155954190186733,
          0.13087717123960577,
          0.2256767162435639,
          0.13990355472662527,
          0.2360335738970766,
          0.2399585836441919,
          0.24796811693622936,
          0.27447707938924126,
          0.1590450336876922,
          0.18905024042822785,
          0.09522975099303167,
          0.03288835281919143,
          0.11217580098969597,
          0.011664513961313468,
          0.28942793268080963,
          0.29696020189905153,
          0.20748346569747844,
          0.24342794759961509,
          0.25198690080574915,
          0.20730588955540533,
          0.0168290062170959,
          0.14984400518840874,
          0.2526665227436859
         ],
         "y": [
          0.9229460225549834,
          0.962122700132542,
          0.8759386045597057,
          0.8786988244083404,
          0.9484217161772432,
          0.9888562883907218,
          0.9613235873080813,
          0.8992516010246396,
          0.9525709027213521,
          0.9848635766074106,
          0.9219301485968923,
          0.9964510154425122,
          0.9943815608106136,
          0.9674300980017406,
          0.9746400863860956,
          0.9375888238807687,
          0.9757620370566445,
          0.8561162886053421,
          0.9988961806076,
          0.9352477978549804,
          0.9622264633156067,
          0.9948953744705571,
          0.9809131460384501,
          0.975124823012818,
          0.9979548990414675,
          0.9854819587083302,
          0.9827327644176411,
          0.9693595090168338,
          0.9491959366529279,
          0.9177840422031593,
          0.9902461355311633,
          0.9801397323195044,
          0.9591290533631357,
          0.9846237161687245,
          0.9847602361712169,
          0.9666911169749102,
          0.908511368513517,
          0.9391978523543941,
          0.9550538842528296,
          0.993789298574306,
          0.8881906522942679,
          0.9934218455013704,
          0.9701584491785731,
          0.9906712524141712,
          0.9782169040083118,
          0.9859981046208016,
          0.9797762619367143,
          0.9881772496923245,
          0.9611877150245821,
          0.9714710581126443
         ]
        }
       ],
       "layout": {
        "template": {
         "data": {
          "bar": [
           {
            "error_x": {
             "color": "#2a3f5f"
            },
            "error_y": {
             "color": "#2a3f5f"
            },
            "marker": {
             "line": {
              "color": "#E5ECF6",
              "width": 0.5
             },
             "pattern": {
              "fillmode": "overlay",
              "size": 10,
              "solidity": 0.2
             }
            },
            "type": "bar"
           }
          ],
          "barpolar": [
           {
            "marker": {
             "line": {
              "color": "#E5ECF6",
              "width": 0.5
             },
             "pattern": {
              "fillmode": "overlay",
              "size": 10,
              "solidity": 0.2
             }
            },
            "type": "barpolar"
           }
          ],
          "carpet": [
           {
            "aaxis": {
             "endlinecolor": "#2a3f5f",
             "gridcolor": "white",
             "linecolor": "white",
             "minorgridcolor": "white",
             "startlinecolor": "#2a3f5f"
            },
            "baxis": {
             "endlinecolor": "#2a3f5f",
             "gridcolor": "white",
             "linecolor": "white",
             "minorgridcolor": "white",
             "startlinecolor": "#2a3f5f"
            },
            "type": "carpet"
           }
          ],
          "choropleth": [
           {
            "colorbar": {
             "outlinewidth": 0,
             "ticks": ""
            },
            "type": "choropleth"
           }
          ],
          "contour": [
           {
            "colorbar": {
             "outlinewidth": 0,
             "ticks": ""
            },
            "colorscale": [
             [
              0,
              "#0d0887"
             ],
             [
              0.1111111111111111,
              "#46039f"
             ],
             [
              0.2222222222222222,
              "#7201a8"
             ],
             [
              0.3333333333333333,
              "#9c179e"
             ],
             [
              0.4444444444444444,
              "#bd3786"
             ],
             [
              0.5555555555555556,
              "#d8576b"
             ],
             [
              0.6666666666666666,
              "#ed7953"
             ],
             [
              0.7777777777777778,
              "#fb9f3a"
             ],
             [
              0.8888888888888888,
              "#fdca26"
             ],
             [
              1,
              "#f0f921"
             ]
            ],
            "type": "contour"
           }
          ],
          "contourcarpet": [
           {
            "colorbar": {
             "outlinewidth": 0,
             "ticks": ""
            },
            "type": "contourcarpet"
           }
          ],
          "heatmap": [
           {
            "colorbar": {
             "outlinewidth": 0,
             "ticks": ""
            },
            "colorscale": [
             [
              0,
              "#0d0887"
             ],
             [
              0.1111111111111111,
              "#46039f"
             ],
             [
              0.2222222222222222,
              "#7201a8"
             ],
             [
              0.3333333333333333,
              "#9c179e"
             ],
             [
              0.4444444444444444,
              "#bd3786"
             ],
             [
              0.5555555555555556,
              "#d8576b"
             ],
             [
              0.6666666666666666,
              "#ed7953"
             ],
             [
              0.7777777777777778,
              "#fb9f3a"
             ],
             [
              0.8888888888888888,
              "#fdca26"
             ],
             [
              1,
              "#f0f921"
             ]
            ],
            "type": "heatmap"
           }
          ],
          "heatmapgl": [
           {
            "colorbar": {
             "outlinewidth": 0,
             "ticks": ""
            },
            "colorscale": [
             [
              0,
              "#0d0887"
             ],
             [
              0.1111111111111111,
              "#46039f"
             ],
             [
              0.2222222222222222,
              "#7201a8"
             ],
             [
              0.3333333333333333,
              "#9c179e"
             ],
             [
              0.4444444444444444,
              "#bd3786"
             ],
             [
              0.5555555555555556,
              "#d8576b"
             ],
             [
              0.6666666666666666,
              "#ed7953"
             ],
             [
              0.7777777777777778,
              "#fb9f3a"
             ],
             [
              0.8888888888888888,
              "#fdca26"
             ],
             [
              1,
              "#f0f921"
             ]
            ],
            "type": "heatmapgl"
           }
          ],
          "histogram": [
           {
            "marker": {
             "pattern": {
              "fillmode": "overlay",
              "size": 10,
              "solidity": 0.2
             }
            },
            "type": "histogram"
           }
          ],
          "histogram2d": [
           {
            "colorbar": {
             "outlinewidth": 0,
             "ticks": ""
            },
            "colorscale": [
             [
              0,
              "#0d0887"
             ],
             [
              0.1111111111111111,
              "#46039f"
             ],
             [
              0.2222222222222222,
              "#7201a8"
             ],
             [
              0.3333333333333333,
              "#9c179e"
             ],
             [
              0.4444444444444444,
              "#bd3786"
             ],
             [
              0.5555555555555556,
              "#d8576b"
             ],
             [
              0.6666666666666666,
              "#ed7953"
             ],
             [
              0.7777777777777778,
              "#fb9f3a"
             ],
             [
              0.8888888888888888,
              "#fdca26"
             ],
             [
              1,
              "#f0f921"
             ]
            ],
            "type": "histogram2d"
           }
          ],
          "histogram2dcontour": [
           {
            "colorbar": {
             "outlinewidth": 0,
             "ticks": ""
            },
            "colorscale": [
             [
              0,
              "#0d0887"
             ],
             [
              0.1111111111111111,
              "#46039f"
             ],
             [
              0.2222222222222222,
              "#7201a8"
             ],
             [
              0.3333333333333333,
              "#9c179e"
             ],
             [
              0.4444444444444444,
              "#bd3786"
             ],
             [
              0.5555555555555556,
              "#d8576b"
             ],
             [
              0.6666666666666666,
              "#ed7953"
             ],
             [
              0.7777777777777778,
              "#fb9f3a"
             ],
             [
              0.8888888888888888,
              "#fdca26"
             ],
             [
              1,
              "#f0f921"
             ]
            ],
            "type": "histogram2dcontour"
           }
          ],
          "mesh3d": [
           {
            "colorbar": {
             "outlinewidth": 0,
             "ticks": ""
            },
            "type": "mesh3d"
           }
          ],
          "parcoords": [
           {
            "line": {
             "colorbar": {
              "outlinewidth": 0,
              "ticks": ""
             }
            },
            "type": "parcoords"
           }
          ],
          "pie": [
           {
            "automargin": true,
            "type": "pie"
           }
          ],
          "scatter": [
           {
            "fillpattern": {
             "fillmode": "overlay",
             "size": 10,
             "solidity": 0.2
            },
            "type": "scatter"
           }
          ],
          "scatter3d": [
           {
            "line": {
             "colorbar": {
              "outlinewidth": 0,
              "ticks": ""
             }
            },
            "marker": {
             "colorbar": {
              "outlinewidth": 0,
              "ticks": ""
             }
            },
            "type": "scatter3d"
           }
          ],
          "scattercarpet": [
           {
            "marker": {
             "colorbar": {
              "outlinewidth": 0,
              "ticks": ""
             }
            },
            "type": "scattercarpet"
           }
          ],
          "scattergeo": [
           {
            "marker": {
             "colorbar": {
              "outlinewidth": 0,
              "ticks": ""
             }
            },
            "type": "scattergeo"
           }
          ],
          "scattergl": [
           {
            "marker": {
             "colorbar": {
              "outlinewidth": 0,
              "ticks": ""
             }
            },
            "type": "scattergl"
           }
          ],
          "scattermapbox": [
           {
            "marker": {
             "colorbar": {
              "outlinewidth": 0,
              "ticks": ""
             }
            },
            "type": "scattermapbox"
           }
          ],
          "scatterpolar": [
           {
            "marker": {
             "colorbar": {
              "outlinewidth": 0,
              "ticks": ""
             }
            },
            "type": "scatterpolar"
           }
          ],
          "scatterpolargl": [
           {
            "marker": {
             "colorbar": {
              "outlinewidth": 0,
              "ticks": ""
             }
            },
            "type": "scatterpolargl"
           }
          ],
          "scatterternary": [
           {
            "marker": {
             "colorbar": {
              "outlinewidth": 0,
              "ticks": ""
             }
            },
            "type": "scatterternary"
           }
          ],
          "surface": [
           {
            "colorbar": {
             "outlinewidth": 0,
             "ticks": ""
            },
            "colorscale": [
             [
              0,
              "#0d0887"
             ],
             [
              0.1111111111111111,
              "#46039f"
             ],
             [
              0.2222222222222222,
              "#7201a8"
             ],
             [
              0.3333333333333333,
              "#9c179e"
             ],
             [
              0.4444444444444444,
              "#bd3786"
             ],
             [
              0.5555555555555556,
              "#d8576b"
             ],
             [
              0.6666666666666666,
              "#ed7953"
             ],
             [
              0.7777777777777778,
              "#fb9f3a"
             ],
             [
              0.8888888888888888,
              "#fdca26"
             ],
             [
              1,
              "#f0f921"
             ]
            ],
            "type": "surface"
           }
          ],
          "table": [
           {
            "cells": {
             "fill": {
              "color": "#EBF0F8"
             },
             "line": {
              "color": "white"
             }
            },
            "header": {
             "fill": {
              "color": "#C8D4E3"
             },
             "line": {
              "color": "white"
             }
            },
            "type": "table"
           }
          ]
         },
         "layout": {
          "annotationdefaults": {
           "arrowcolor": "#2a3f5f",
           "arrowhead": 0,
           "arrowwidth": 1
          },
          "autotypenumbers": "strict",
          "coloraxis": {
           "colorbar": {
            "outlinewidth": 0,
            "ticks": ""
           }
          },
          "colorscale": {
           "diverging": [
            [
             0,
             "#8e0152"
            ],
            [
             0.1,
             "#c51b7d"
            ],
            [
             0.2,
             "#de77ae"
            ],
            [
             0.3,
             "#f1b6da"
            ],
            [
             0.4,
             "#fde0ef"
            ],
            [
             0.5,
             "#f7f7f7"
            ],
            [
             0.6,
             "#e6f5d0"
            ],
            [
             0.7,
             "#b8e186"
            ],
            [
             0.8,
             "#7fbc41"
            ],
            [
             0.9,
             "#4d9221"
            ],
            [
             1,
             "#276419"
            ]
           ],
           "sequential": [
            [
             0,
             "#0d0887"
            ],
            [
             0.1111111111111111,
             "#46039f"
            ],
            [
             0.2222222222222222,
             "#7201a8"
            ],
            [
             0.3333333333333333,
             "#9c179e"
            ],
            [
             0.4444444444444444,
             "#bd3786"
            ],
            [
             0.5555555555555556,
             "#d8576b"
            ],
            [
             0.6666666666666666,
             "#ed7953"
            ],
            [
             0.7777777777777778,
             "#fb9f3a"
            ],
            [
             0.8888888888888888,
             "#fdca26"
            ],
            [
             1,
             "#f0f921"
            ]
           ],
           "sequentialminus": [
            [
             0,
             "#0d0887"
            ],
            [
             0.1111111111111111,
             "#46039f"
            ],
            [
             0.2222222222222222,
             "#7201a8"
            ],
            [
             0.3333333333333333,
             "#9c179e"
            ],
            [
             0.4444444444444444,
             "#bd3786"
            ],
            [
             0.5555555555555556,
             "#d8576b"
            ],
            [
             0.6666666666666666,
             "#ed7953"
            ],
            [
             0.7777777777777778,
             "#fb9f3a"
            ],
            [
             0.8888888888888888,
             "#fdca26"
            ],
            [
             1,
             "#f0f921"
            ]
           ]
          },
          "colorway": [
           "#636efa",
           "#EF553B",
           "#00cc96",
           "#ab63fa",
           "#FFA15A",
           "#19d3f3",
           "#FF6692",
           "#B6E880",
           "#FF97FF",
           "#FECB52"
          ],
          "font": {
           "color": "#2a3f5f"
          },
          "geo": {
           "bgcolor": "white",
           "lakecolor": "white",
           "landcolor": "#E5ECF6",
           "showlakes": true,
           "showland": true,
           "subunitcolor": "white"
          },
          "hoverlabel": {
           "align": "left"
          },
          "hovermode": "closest",
          "mapbox": {
           "style": "light"
          },
          "paper_bgcolor": "white",
          "plot_bgcolor": "#E5ECF6",
          "polar": {
           "angularaxis": {
            "gridcolor": "white",
            "linecolor": "white",
            "ticks": ""
           },
           "bgcolor": "#E5ECF6",
           "radialaxis": {
            "gridcolor": "white",
            "linecolor": "white",
            "ticks": ""
           }
          },
          "scene": {
           "xaxis": {
            "backgroundcolor": "#E5ECF6",
            "gridcolor": "white",
            "gridwidth": 2,
            "linecolor": "white",
            "showbackground": true,
            "ticks": "",
            "zerolinecolor": "white"
           },
           "yaxis": {
            "backgroundcolor": "#E5ECF6",
            "gridcolor": "white",
            "gridwidth": 2,
            "linecolor": "white",
            "showbackground": true,
            "ticks": "",
            "zerolinecolor": "white"
           },
           "zaxis": {
            "backgroundcolor": "#E5ECF6",
            "gridcolor": "white",
            "gridwidth": 2,
            "linecolor": "white",
            "showbackground": true,
            "ticks": "",
            "zerolinecolor": "white"
           }
          },
          "shapedefaults": {
           "line": {
            "color": "#2a3f5f"
           }
          },
          "ternary": {
           "aaxis": {
            "gridcolor": "white",
            "linecolor": "white",
            "ticks": ""
           },
           "baxis": {
            "gridcolor": "white",
            "linecolor": "white",
            "ticks": ""
           },
           "bgcolor": "#E5ECF6",
           "caxis": {
            "gridcolor": "white",
            "linecolor": "white",
            "ticks": ""
           }
          },
          "title": {
           "x": 0.05
          },
          "xaxis": {
           "automargin": true,
           "gridcolor": "white",
           "linecolor": "white",
           "ticks": "",
           "title": {
            "standoff": 15
           },
           "zerolinecolor": "white",
           "zerolinewidth": 2
          },
          "yaxis": {
           "automargin": true,
           "gridcolor": "white",
           "linecolor": "white",
           "ticks": "",
           "title": {
            "standoff": 15
           },
           "zerolinecolor": "white",
           "zerolinewidth": 2
          }
         }
        },
        "title": {
         "text": "Contour Plot"
        },
        "xaxis": {
         "range": [
          -2.0034275656851763,
          -0.4569548808844084
         ],
         "title": {
          "text": "alpha"
         },
         "type": "log"
        },
        "yaxis": {
         "range": [
          0.8489772940052291,
          1.0060351752077128
         ],
         "title": {
          "text": "gamma"
         }
        }
       }
      },
      "text/html": [
       "<div>                            <div id=\"ace2fd90-c92f-4473-93ba-19c8fbc15002\" class=\"plotly-graph-div\" style=\"height:525px; width:100%;\"></div>            <script type=\"text/javascript\">                require([\"plotly\"], function(Plotly) {                    window.PLOTLYENV=window.PLOTLYENV || {};                                    if (document.getElementById(\"ace2fd90-c92f-4473-93ba-19c8fbc15002\")) {                    Plotly.newPlot(                        \"ace2fd90-c92f-4473-93ba-19c8fbc15002\",                        [{\"colorbar\":{\"title\":{\"text\":\"Objective Value\"}},\"colorscale\":[[0,\"rgb(5,10,172)\"],[0.35,\"rgb(40,60,190)\"],[0.5,\"rgb(70,100,245)\"],[0.6,\"rgb(90,120,245)\"],[0.7,\"rgb(106,137,247)\"],[1,\"rgb(220,220,220)\"]],\"connectgaps\":true,\"contours\":{\"coloring\":\"heatmap\"},\"hoverinfo\":\"none\",\"line\":{\"smoothing\":1.3},\"reversescale\":false,\"x\":[0.009921388004745207,0.011664513961313468,0.012440122278218066,0.014245282127494083,0.015887784939561177,0.0168290062170959,0.020117006646742576,0.02251145536983653,0.025765312346332798,0.03288835281919143,0.038248435692391565,0.0479242501514361,0.05139022702279632,0.0621627428411589,0.0739705649672864,0.09397743763187245,0.09522975099303167,0.09782255996645739,0.11217580098969597,0.1145272849247403,0.13087717123960577,0.1316973533083835,0.13990355472662527,0.14984400518840874,0.1590450336876922,0.15956140760091966,0.16318174061250693,0.17043159054081547,0.18232884860529694,0.18905024042822785,0.19510114130126385,0.20730588955540533,0.20748346569747844,0.2155954190186733,0.2256767162435639,0.2360335738970766,0.23694065523262592,0.23965617221120253,0.2399585836441919,0.24342794759961509,0.24796811693622936,0.25198690080574915,0.2526665227436859,0.25327971565318613,0.27447707938924126,0.28285400731897864,0.28942793268080963,0.2923240469314058,0.29370858793994953,0.29696020189905153,0.2969962092445243,0.34917658976072835],\"y\":[0.8489772940052291,0.8561162886053421,0.8759386045597057,0.8786988244083404,0.8881906522942679,0.8992516010246396,0.908511368513517,0.9177840422031593,0.9219301485968923,0.9229460225549834,0.9352477978549804,0.9375888238807687,0.9391978523543941,0.9484217161772432,0.9491959366529279,0.9525709027213521,0.9550538842528296,0.9591290533631357,0.9611877150245821,0.9613235873080813,0.962122700132542,0.9622264633156067,0.9666911169749102,0.9674300980017406,0.9693595090168338,0.9701584491785731,0.9714710581126443,0.9746400863860956,0.975124823012818,0.9757620370566445,0.9782169040083118,0.9797762619367143,0.9801397323195044,0.9809131460384501,0.9827327644176411,0.9846237161687245,0.9847602361712169,0.9848635766074106,0.9854819587083302,0.9859981046208016,0.9881772496923245,0.9888562883907218,0.9902461355311633,0.9906712524141712,0.9934218455013704,0.993789298574306,0.9943815608106136,0.9948953744705571,0.9964510154425122,0.9979548990414675,0.9988961806076,1.0060351752077128],\"z\":[[null,null,null,null,null,null,null,null,null,null,null,null,null,null,null,null,null,null,null,null,null,null,null,null,null,null,null,null,null,null,null,null,null,null,null,null,null,null,null,null,null,null,null,null,null,null,null,null,null,null,null,null],[null,null,null,null,null,null,null,null,null,null,null,null,null,null,null,null,null,null,null,null,null,null,null,null,null,null,0.342,null,null,null,null,null,null,null,null,null,null,null,null,null,null,null,null,null,null,null,null,null,null,null,null,null],[null,null,null,null,null,null,null,0.209,null,null,null,null,null,null,null,null,null,null,null,null,null,null,null,null,null,null,null,null,null,null,null,null,null,null,null,null,null,null,null,null,null,null,null,null,null,null,null,null,null,null,null,null],[null,null,null,null,null,null,null,null,0.078,null,null,null,null,null,null,null,null,null,null,null,null,null,null,null,null,null,null,null,null,null,null,null,null,null,null,null,null,null,null,null,null,null,null,null,null,null,null,null,null,null,null,null],[null,0.148,null,null,null,null,null,null,null,null,null,null,null,null,null,null,null,null,null,null,null,null,null,null,null,null,null,null,null,null,null,null,null,null,null,null,null,null,null,null,null,null,null,null,null,null,null,null,null,null,null,null],[null,null,null,null,null,null,0.099,null,null,null,null,null,null,null,null,null,null,null,null,null,null,null,null,null,null,null,null,null,null,null,null,null,null,null,null,null,null,null,null,null,null,null,null,null,null,null,null,null,null,null,null,null],[null,null,null,null,null,null,null,null,null,null,null,null,null,null,null,null,null,null,null,null,null,null,null,null,null,null,null,null,null,0.145,null,null,null,null,null,null,null,null,null,null,null,null,null,null,null,null,null,null,null,null,null,null],[null,null,null,null,null,null,null,null,null,null,null,null,null,null,null,null,null,null,null,null,null,null,null,null,null,null,null,null,null,null,null,null,null,null,0.144,null,null,null,null,null,null,null,null,null,null,null,null,null,null,null,null,null],[null,null,null,null,null,null,null,null,null,null,null,null,null,null,null,null,null,null,null,null,null,null,null,null,null,null,null,null,null,null,null,null,null,null,null,null,null,null,null,null,null,null,null,null,null,null,null,null,null,null,0.164,null],[null,null,null,null,0.147,null,null,null,null,null,null,null,null,null,null,null,null,null,null,null,null,null,null,null,null,null,null,null,null,null,null,null,null,null,null,null,null,null,null,null,null,null,null,null,null,null,null,null,null,null,null,null],[null,null,null,null,null,null,null,null,null,null,null,null,0.165,null,null,null,null,null,null,null,null,null,null,null,null,null,null,null,null,null,null,null,null,null,null,null,null,null,null,null,null,null,null,null,null,null,null,null,null,null,null,null],[null,null,null,null,null,null,null,null,null,null,null,null,null,null,null,null,null,null,null,null,null,null,null,null,null,null,null,null,0.399,null,null,null,null,null,null,null,null,null,null,null,null,null,null,null,null,null,null,null,null,null,null,null],[null,null,null,null,null,null,null,null,null,null,null,null,null,null,null,null,0.631,null,null,null,null,null,null,null,null,null,null,null,null,null,null,null,null,null,null,null,null,null,null,null,null,null,null,null,null,null,null,null,null,null,null,null],[null,null,0.056,null,null,null,null,null,null,null,null,null,null,null,null,null,null,null,null,null,null,null,null,null,null,null,null,null,null,null,null,null,null,null,null,null,null,null,null,null,null,null,null,null,null,null,null,null,null,null,null,null],[null,null,null,null,null,null,null,null,null,null,null,null,null,null,null,null,null,null,null,null,0.228,null,null,null,null,null,null,null,null,null,null,null,null,null,null,null,null,null,null,null,null,null,null,null,null,null,null,null,null,null,null,null],[null,null,null,null,null,null,null,null,null,null,null,null,null,null,null,null,null,null,null,0.227,null,null,null,null,null,null,null,null,null,null,null,null,null,null,null,null,null,null,null,null,null,null,null,null,null,null,null,null,null,null,null,null],[null,null,null,null,null,null,null,null,null,0.19,null,null,null,null,null,null,null,null,null,null,null,null,null,null,null,null,null,null,null,null,null,null,null,null,null,null,null,null,null,null,null,null,null,null,null,null,null,null,null,null,null,null],[null,null,null,null,null,null,null,null,null,null,null,null,null,null,null,null,null,null,null,null,null,null,null,null,null,null,null,null,null,null,null,null,null,null,null,null,null,null,0.436,null,null,null,null,null,null,null,null,null,null,null,null,null],[null,null,null,null,null,null,null,null,null,null,null,null,null,null,null,null,null,null,null,null,null,null,null,0.616,null,null,null,null,null,null,null,null,null,null,null,null,null,null,null,null,null,null,null,null,null,null,null,null,null,null,null,null],[null,null,null,null,null,null,null,null,null,null,null,null,null,null,null,null,null,null,null,null,null,null,null,null,null,null,null,null,null,null,null,null,null,null,null,null,1.0,null,null,null,null,null,null,null,null,null,null,null,null,null,null,null],[null,null,null,0.125,null,null,null,null,null,null,null,null,null,null,null,null,null,null,null,null,null,null,null,null,null,null,null,null,null,null,null,null,null,null,null,null,null,null,null,null,null,null,null,null,null,null,null,null,null,null,null,null],[null,null,null,null,null,null,null,null,null,null,null,null,null,null,null,null,null,null,null,null,null,null,null,null,null,null,null,null,null,null,0.256,null,null,null,null,null,null,null,null,null,null,null,null,null,null,null,null,null,null,null,null,null],[null,null,null,null,null,null,null,null,null,null,null,null,null,null,null,null,null,null,null,null,null,null,null,null,0.571,null,null,null,null,null,null,null,null,null,null,null,null,null,null,null,null,null,null,null,null,null,null,null,null,null,null,null],[null,null,null,null,null,null,null,null,null,null,null,null,null,null,null,null,null,null,null,null,null,null,null,null,null,1.0,null,null,null,null,null,null,null,null,null,null,null,null,null,null,null,null,null,null,null,null,null,null,null,null,null,null],[null,null,null,null,null,null,null,null,null,null,null,null,null,null,null,null,null,null,null,null,null,null,null,null,null,null,null,null,null,null,null,null,null,0.449,null,null,null,null,null,null,null,null,null,null,null,null,null,null,null,null,null,null],[null,null,null,null,null,null,null,null,null,null,null,null,null,null,null,null,null,null,null,null,null,null,null,null,null,null,null,null,null,null,null,null,null,null,null,null,null,null,null,null,null,null,null,null,null,null,null,null,null,0.544,null,null],[null,null,null,null,null,null,null,null,null,null,null,null,null,null,null,null,null,null,null,null,null,null,null,null,null,null,null,null,null,null,null,null,null,null,null,null,null,null,null,null,null,null,0.387,null,null,null,null,null,null,null,null,null],[null,null,null,null,null,null,null,null,null,null,null,0.38,null,null,null,null,null,null,null,null,null,null,null,null,null,null,null,null,null,null,null,null,null,null,null,null,null,null,null,null,null,null,null,null,null,null,null,null,null,null,null,null],[null,null,null,null,null,null,null,null,null,null,null,null,null,null,null,null,null,null,null,null,null,0.53,null,null,null,null,null,null,null,null,null,null,null,null,null,null,null,null,null,null,null,null,null,null,null,null,null,null,null,null,null,null],[null,null,null,null,null,null,null,null,null,null,null,null,null,0.547,null,null,null,null,null,null,null,null,null,null,null,null,null,null,null,null,null,null,null,null,null,null,null,null,null,null,null,null,null,null,null,null,null,null,null,null,null,null],[null,null,null,null,null,null,null,null,null,null,null,null,null,null,null,null,null,null,null,null,null,null,null,null,null,null,null,null,null,null,null,null,null,null,null,null,null,null,null,1.0,null,null,null,null,null,null,null,null,null,null,null,null],[null,null,null,null,null,null,null,null,null,null,null,null,null,null,null,null,null,null,null,null,null,null,null,null,null,null,null,null,null,null,null,0.639,null,null,null,null,null,null,null,null,null,null,null,null,null,null,null,null,null,null,null,null],[null,null,null,null,null,null,null,null,null,null,null,null,null,null,null,null,null,null,null,null,null,null,null,null,null,null,null,null,null,null,null,null,null,null,null,0.861,null,null,null,null,null,null,null,null,null,null,null,null,null,null,null,null],[null,null,null,null,null,null,null,null,null,null,null,null,null,null,null,null,null,null,null,null,null,null,null,null,null,null,null,null,null,null,null,null,null,null,null,null,null,1.0,null,null,null,null,null,null,null,null,null,null,null,null,null,null],[null,null,null,null,null,null,null,null,null,null,0.359,null,null,null,null,null,null,null,null,null,null,null,null,null,null,null,null,null,null,null,null,null,null,null,null,null,null,null,null,null,null,null,null,null,null,null,null,null,null,null,null,null],[null,null,null,null,null,null,null,null,null,null,null,null,null,null,null,null,null,null,null,null,null,null,null,null,null,null,null,null,null,null,null,null,null,null,null,null,null,null,null,null,1.0,null,null,null,null,null,null,null,null,null,null,null],[null,null,null,null,null,null,null,null,null,null,null,null,null,null,null,null,null,null,null,null,null,null,null,null,null,null,null,null,null,null,null,null,null,null,null,null,null,null,null,null,null,null,null,null,0.753,null,null,null,null,null,null,null],[null,null,null,null,null,null,null,null,null,null,null,null,null,null,null,0.867,null,null,null,null,null,null,null,null,null,null,null,null,null,null,null,null,null,null,null,null,null,null,null,null,null,null,null,null,null,null,null,null,null,null,null,null],[null,null,null,null,null,null,null,null,null,null,null,null,null,null,null,null,null,null,null,null,null,null,null,null,null,null,null,null,null,null,null,null,null,null,null,null,null,null,null,null,null,null,null,1.0,null,null,null,null,null,null,null,null],[null,null,null,null,null,null,null,null,null,null,null,null,null,null,null,null,null,null,null,null,null,null,null,null,null,null,null,null,null,null,null,null,null,null,null,null,null,null,null,null,null,1.0,null,null,null,null,null,null,null,null,null,null],[null,null,null,null,null,0.073,null,null,null,null,null,null,null,null,null,null,null,null,null,null,null,null,null,null,null,null,null,null,null,null,null,null,null,null,null,null,null,null,null,null,null,null,null,null,null,null,null,null,null,null,null,null],[null,null,null,null,null,null,null,null,null,null,null,null,null,null,null,null,null,0.074,null,null,null,null,null,null,null,null,null,null,null,null,null,null,null,null,null,null,null,null,null,null,null,null,null,null,null,null,null,null,null,null,null,null],[null,null,null,null,null,null,null,null,null,null,null,null,null,null,null,null,null,null,null,null,null,null,0.776,null,null,null,null,null,null,null,null,null,null,null,null,null,null,null,null,null,null,null,null,null,null,null,null,null,null,null,null,null],[null,null,null,null,null,null,null,null,null,null,null,null,null,null,null,null,null,null,null,null,null,null,null,null,null,null,null,null,null,null,null,null,0.462,null,null,null,null,null,null,null,null,null,null,null,null,null,null,null,null,null,null,null],[null,null,null,null,null,null,null,null,null,null,null,null,null,null,null,null,null,null,null,null,null,null,null,null,null,null,null,null,null,null,null,null,null,null,null,null,null,null,null,null,null,null,null,null,null,null,1.0,null,null,null,null,null],[null,null,null,null,null,null,null,null,null,null,null,null,null,null,null,null,null,null,0.662,null,null,null,null,null,null,null,null,null,null,null,null,null,null,null,null,null,null,null,null,null,null,null,null,null,null,null,null,null,null,null,null,null],[null,null,null,null,null,null,null,null,null,null,null,null,null,null,null,null,null,null,null,null,null,null,null,null,null,null,null,null,null,null,null,null,null,null,null,null,null,null,null,null,null,null,null,null,null,1.0,null,null,null,null,null,null],[null,null,null,null,null,null,null,null,null,null,null,null,null,null,null,null,null,null,null,null,null,null,null,null,null,null,null,null,null,null,null,null,null,null,null,null,null,null,null,null,null,null,null,null,null,null,null,null,1.0,null,null,null],[null,null,null,null,null,null,null,null,null,null,null,null,null,null,null,null,null,null,null,null,null,null,null,null,null,null,null,null,null,null,null,null,null,null,null,null,null,null,null,null,null,null,null,null,null,null,null,1.0,null,null,null,null],[null,null,null,null,null,null,null,null,null,null,null,null,null,null,0.304,null,null,null,null,null,null,null,null,null,null,null,null,null,null,null,null,null,null,null,null,null,null,null,null,null,null,null,null,null,null,null,null,null,null,null,null,null],[null,null,null,null,null,null,null,null,null,null,null,null,null,null,null,null,null,null,null,null,null,null,null,null,null,null,null,0.46799999999999997,null,null,null,null,null,null,null,null,null,null,null,null,null,null,null,null,null,null,null,null,null,null,null,null],[null,null,null,null,null,null,null,null,null,null,null,null,null,null,null,null,null,null,null,null,null,null,null,null,null,null,null,null,null,null,null,null,null,null,null,null,null,null,null,null,null,null,null,null,null,null,null,null,null,null,null,null]],\"type\":\"contour\"},{\"marker\":{\"color\":\"black\",\"line\":{\"color\":\"Grey\",\"width\":0.5}},\"mode\":\"markers\",\"showlegend\":false,\"x\":[0.015887784939561177,0.014245282127494083,0.02251145536983653,0.025765312346332798,0.012440122278218066,0.09782255996645739,0.23694065523262592,0.020117006646742576,0.1145272849247403,0.09397743763187245,0.2969962092445243,0.2923240469314058,0.28285400731897864,0.15956140760091966,0.0479242501514361,0.18232884860529694,0.0621627428411589,0.16318174061250693,0.17043159054081547,0.05139022702279632,0.19510114130126385,0.29370858793994953,0.23965617221120253,0.1316973533083835,0.0739705649672864,0.25327971565318613,0.038248435692391565,0.2155954190186733,0.13087717123960577,0.2256767162435639,0.13990355472662527,0.2360335738970766,0.2399585836441919,0.24796811693622936,0.27447707938924126,0.1590450336876922,0.18905024042822785,0.09522975099303167,0.03288835281919143,0.11217580098969597,0.011664513961313468,0.28942793268080963,0.29696020189905153,0.20748346569747844,0.24342794759961509,0.25198690080574915,0.20730588955540533,0.0168290062170959,0.14984400518840874,0.2526665227436859],\"y\":[0.9229460225549834,0.962122700132542,0.8759386045597057,0.8786988244083404,0.9484217161772432,0.9888562883907218,0.9613235873080813,0.8992516010246396,0.9525709027213521,0.9848635766074106,0.9219301485968923,0.9964510154425122,0.9943815608106136,0.9674300980017406,0.9746400863860956,0.9375888238807687,0.9757620370566445,0.8561162886053421,0.9988961806076,0.9352477978549804,0.9622264633156067,0.9948953744705571,0.9809131460384501,0.975124823012818,0.9979548990414675,0.9854819587083302,0.9827327644176411,0.9693595090168338,0.9491959366529279,0.9177840422031593,0.9902461355311633,0.9801397323195044,0.9591290533631357,0.9846237161687245,0.9847602361712169,0.9666911169749102,0.908511368513517,0.9391978523543941,0.9550538842528296,0.993789298574306,0.8881906522942679,0.9934218455013704,0.9701584491785731,0.9906712524141712,0.9782169040083118,0.9859981046208016,0.9797762619367143,0.9881772496923245,0.9611877150245821,0.9714710581126443],\"type\":\"scatter\"}],                        {\"title\":{\"text\":\"Contour Plot\"},\"template\":{\"data\":{\"histogram2dcontour\":[{\"type\":\"histogram2dcontour\",\"colorbar\":{\"outlinewidth\":0,\"ticks\":\"\"},\"colorscale\":[[0.0,\"#0d0887\"],[0.1111111111111111,\"#46039f\"],[0.2222222222222222,\"#7201a8\"],[0.3333333333333333,\"#9c179e\"],[0.4444444444444444,\"#bd3786\"],[0.5555555555555556,\"#d8576b\"],[0.6666666666666666,\"#ed7953\"],[0.7777777777777778,\"#fb9f3a\"],[0.8888888888888888,\"#fdca26\"],[1.0,\"#f0f921\"]]}],\"choropleth\":[{\"type\":\"choropleth\",\"colorbar\":{\"outlinewidth\":0,\"ticks\":\"\"}}],\"histogram2d\":[{\"type\":\"histogram2d\",\"colorbar\":{\"outlinewidth\":0,\"ticks\":\"\"},\"colorscale\":[[0.0,\"#0d0887\"],[0.1111111111111111,\"#46039f\"],[0.2222222222222222,\"#7201a8\"],[0.3333333333333333,\"#9c179e\"],[0.4444444444444444,\"#bd3786\"],[0.5555555555555556,\"#d8576b\"],[0.6666666666666666,\"#ed7953\"],[0.7777777777777778,\"#fb9f3a\"],[0.8888888888888888,\"#fdca26\"],[1.0,\"#f0f921\"]]}],\"heatmap\":[{\"type\":\"heatmap\",\"colorbar\":{\"outlinewidth\":0,\"ticks\":\"\"},\"colorscale\":[[0.0,\"#0d0887\"],[0.1111111111111111,\"#46039f\"],[0.2222222222222222,\"#7201a8\"],[0.3333333333333333,\"#9c179e\"],[0.4444444444444444,\"#bd3786\"],[0.5555555555555556,\"#d8576b\"],[0.6666666666666666,\"#ed7953\"],[0.7777777777777778,\"#fb9f3a\"],[0.8888888888888888,\"#fdca26\"],[1.0,\"#f0f921\"]]}],\"heatmapgl\":[{\"type\":\"heatmapgl\",\"colorbar\":{\"outlinewidth\":0,\"ticks\":\"\"},\"colorscale\":[[0.0,\"#0d0887\"],[0.1111111111111111,\"#46039f\"],[0.2222222222222222,\"#7201a8\"],[0.3333333333333333,\"#9c179e\"],[0.4444444444444444,\"#bd3786\"],[0.5555555555555556,\"#d8576b\"],[0.6666666666666666,\"#ed7953\"],[0.7777777777777778,\"#fb9f3a\"],[0.8888888888888888,\"#fdca26\"],[1.0,\"#f0f921\"]]}],\"contourcarpet\":[{\"type\":\"contourcarpet\",\"colorbar\":{\"outlinewidth\":0,\"ticks\":\"\"}}],\"contour\":[{\"type\":\"contour\",\"colorbar\":{\"outlinewidth\":0,\"ticks\":\"\"},\"colorscale\":[[0.0,\"#0d0887\"],[0.1111111111111111,\"#46039f\"],[0.2222222222222222,\"#7201a8\"],[0.3333333333333333,\"#9c179e\"],[0.4444444444444444,\"#bd3786\"],[0.5555555555555556,\"#d8576b\"],[0.6666666666666666,\"#ed7953\"],[0.7777777777777778,\"#fb9f3a\"],[0.8888888888888888,\"#fdca26\"],[1.0,\"#f0f921\"]]}],\"surface\":[{\"type\":\"surface\",\"colorbar\":{\"outlinewidth\":0,\"ticks\":\"\"},\"colorscale\":[[0.0,\"#0d0887\"],[0.1111111111111111,\"#46039f\"],[0.2222222222222222,\"#7201a8\"],[0.3333333333333333,\"#9c179e\"],[0.4444444444444444,\"#bd3786\"],[0.5555555555555556,\"#d8576b\"],[0.6666666666666666,\"#ed7953\"],[0.7777777777777778,\"#fb9f3a\"],[0.8888888888888888,\"#fdca26\"],[1.0,\"#f0f921\"]]}],\"mesh3d\":[{\"type\":\"mesh3d\",\"colorbar\":{\"outlinewidth\":0,\"ticks\":\"\"}}],\"scatter\":[{\"fillpattern\":{\"fillmode\":\"overlay\",\"size\":10,\"solidity\":0.2},\"type\":\"scatter\"}],\"parcoords\":[{\"type\":\"parcoords\",\"line\":{\"colorbar\":{\"outlinewidth\":0,\"ticks\":\"\"}}}],\"scatterpolargl\":[{\"type\":\"scatterpolargl\",\"marker\":{\"colorbar\":{\"outlinewidth\":0,\"ticks\":\"\"}}}],\"bar\":[{\"error_x\":{\"color\":\"#2a3f5f\"},\"error_y\":{\"color\":\"#2a3f5f\"},\"marker\":{\"line\":{\"color\":\"#E5ECF6\",\"width\":0.5},\"pattern\":{\"fillmode\":\"overlay\",\"size\":10,\"solidity\":0.2}},\"type\":\"bar\"}],\"scattergeo\":[{\"type\":\"scattergeo\",\"marker\":{\"colorbar\":{\"outlinewidth\":0,\"ticks\":\"\"}}}],\"scatterpolar\":[{\"type\":\"scatterpolar\",\"marker\":{\"colorbar\":{\"outlinewidth\":0,\"ticks\":\"\"}}}],\"histogram\":[{\"marker\":{\"pattern\":{\"fillmode\":\"overlay\",\"size\":10,\"solidity\":0.2}},\"type\":\"histogram\"}],\"scattergl\":[{\"type\":\"scattergl\",\"marker\":{\"colorbar\":{\"outlinewidth\":0,\"ticks\":\"\"}}}],\"scatter3d\":[{\"type\":\"scatter3d\",\"line\":{\"colorbar\":{\"outlinewidth\":0,\"ticks\":\"\"}},\"marker\":{\"colorbar\":{\"outlinewidth\":0,\"ticks\":\"\"}}}],\"scattermapbox\":[{\"type\":\"scattermapbox\",\"marker\":{\"colorbar\":{\"outlinewidth\":0,\"ticks\":\"\"}}}],\"scatterternary\":[{\"type\":\"scatterternary\",\"marker\":{\"colorbar\":{\"outlinewidth\":0,\"ticks\":\"\"}}}],\"scattercarpet\":[{\"type\":\"scattercarpet\",\"marker\":{\"colorbar\":{\"outlinewidth\":0,\"ticks\":\"\"}}}],\"carpet\":[{\"aaxis\":{\"endlinecolor\":\"#2a3f5f\",\"gridcolor\":\"white\",\"linecolor\":\"white\",\"minorgridcolor\":\"white\",\"startlinecolor\":\"#2a3f5f\"},\"baxis\":{\"endlinecolor\":\"#2a3f5f\",\"gridcolor\":\"white\",\"linecolor\":\"white\",\"minorgridcolor\":\"white\",\"startlinecolor\":\"#2a3f5f\"},\"type\":\"carpet\"}],\"table\":[{\"cells\":{\"fill\":{\"color\":\"#EBF0F8\"},\"line\":{\"color\":\"white\"}},\"header\":{\"fill\":{\"color\":\"#C8D4E3\"},\"line\":{\"color\":\"white\"}},\"type\":\"table\"}],\"barpolar\":[{\"marker\":{\"line\":{\"color\":\"#E5ECF6\",\"width\":0.5},\"pattern\":{\"fillmode\":\"overlay\",\"size\":10,\"solidity\":0.2}},\"type\":\"barpolar\"}],\"pie\":[{\"automargin\":true,\"type\":\"pie\"}]},\"layout\":{\"autotypenumbers\":\"strict\",\"colorway\":[\"#636efa\",\"#EF553B\",\"#00cc96\",\"#ab63fa\",\"#FFA15A\",\"#19d3f3\",\"#FF6692\",\"#B6E880\",\"#FF97FF\",\"#FECB52\"],\"font\":{\"color\":\"#2a3f5f\"},\"hovermode\":\"closest\",\"hoverlabel\":{\"align\":\"left\"},\"paper_bgcolor\":\"white\",\"plot_bgcolor\":\"#E5ECF6\",\"polar\":{\"bgcolor\":\"#E5ECF6\",\"angularaxis\":{\"gridcolor\":\"white\",\"linecolor\":\"white\",\"ticks\":\"\"},\"radialaxis\":{\"gridcolor\":\"white\",\"linecolor\":\"white\",\"ticks\":\"\"}},\"ternary\":{\"bgcolor\":\"#E5ECF6\",\"aaxis\":{\"gridcolor\":\"white\",\"linecolor\":\"white\",\"ticks\":\"\"},\"baxis\":{\"gridcolor\":\"white\",\"linecolor\":\"white\",\"ticks\":\"\"},\"caxis\":{\"gridcolor\":\"white\",\"linecolor\":\"white\",\"ticks\":\"\"}},\"coloraxis\":{\"colorbar\":{\"outlinewidth\":0,\"ticks\":\"\"}},\"colorscale\":{\"sequential\":[[0.0,\"#0d0887\"],[0.1111111111111111,\"#46039f\"],[0.2222222222222222,\"#7201a8\"],[0.3333333333333333,\"#9c179e\"],[0.4444444444444444,\"#bd3786\"],[0.5555555555555556,\"#d8576b\"],[0.6666666666666666,\"#ed7953\"],[0.7777777777777778,\"#fb9f3a\"],[0.8888888888888888,\"#fdca26\"],[1.0,\"#f0f921\"]],\"sequentialminus\":[[0.0,\"#0d0887\"],[0.1111111111111111,\"#46039f\"],[0.2222222222222222,\"#7201a8\"],[0.3333333333333333,\"#9c179e\"],[0.4444444444444444,\"#bd3786\"],[0.5555555555555556,\"#d8576b\"],[0.6666666666666666,\"#ed7953\"],[0.7777777777777778,\"#fb9f3a\"],[0.8888888888888888,\"#fdca26\"],[1.0,\"#f0f921\"]],\"diverging\":[[0,\"#8e0152\"],[0.1,\"#c51b7d\"],[0.2,\"#de77ae\"],[0.3,\"#f1b6da\"],[0.4,\"#fde0ef\"],[0.5,\"#f7f7f7\"],[0.6,\"#e6f5d0\"],[0.7,\"#b8e186\"],[0.8,\"#7fbc41\"],[0.9,\"#4d9221\"],[1,\"#276419\"]]},\"xaxis\":{\"gridcolor\":\"white\",\"linecolor\":\"white\",\"ticks\":\"\",\"title\":{\"standoff\":15},\"zerolinecolor\":\"white\",\"automargin\":true,\"zerolinewidth\":2},\"yaxis\":{\"gridcolor\":\"white\",\"linecolor\":\"white\",\"ticks\":\"\",\"title\":{\"standoff\":15},\"zerolinecolor\":\"white\",\"automargin\":true,\"zerolinewidth\":2},\"scene\":{\"xaxis\":{\"backgroundcolor\":\"#E5ECF6\",\"gridcolor\":\"white\",\"linecolor\":\"white\",\"showbackground\":true,\"ticks\":\"\",\"zerolinecolor\":\"white\",\"gridwidth\":2},\"yaxis\":{\"backgroundcolor\":\"#E5ECF6\",\"gridcolor\":\"white\",\"linecolor\":\"white\",\"showbackground\":true,\"ticks\":\"\",\"zerolinecolor\":\"white\",\"gridwidth\":2},\"zaxis\":{\"backgroundcolor\":\"#E5ECF6\",\"gridcolor\":\"white\",\"linecolor\":\"white\",\"showbackground\":true,\"ticks\":\"\",\"zerolinecolor\":\"white\",\"gridwidth\":2}},\"shapedefaults\":{\"line\":{\"color\":\"#2a3f5f\"}},\"annotationdefaults\":{\"arrowcolor\":\"#2a3f5f\",\"arrowhead\":0,\"arrowwidth\":1},\"geo\":{\"bgcolor\":\"white\",\"landcolor\":\"#E5ECF6\",\"subunitcolor\":\"white\",\"showland\":true,\"showlakes\":true,\"lakecolor\":\"white\"},\"title\":{\"x\":0.05},\"mapbox\":{\"style\":\"light\"}}},\"xaxis\":{\"title\":{\"text\":\"alpha\"},\"range\":[-2.0034275656851763,-0.4569548808844084],\"type\":\"log\"},\"yaxis\":{\"title\":{\"text\":\"gamma\"},\"range\":[0.8489772940052291,1.0060351752077128]}},                        {\"responsive\": true}                    ).then(function(){\n",
       "                            \n",
       "var gd = document.getElementById('ace2fd90-c92f-4473-93ba-19c8fbc15002');\n",
       "var x = new MutationObserver(function (mutations, observer) {{\n",
       "        var display = window.getComputedStyle(gd).display;\n",
       "        if (!display || display === 'none') {{\n",
       "            console.log([gd, 'removed!']);\n",
       "            Plotly.purge(gd);\n",
       "            observer.disconnect();\n",
       "        }}\n",
       "}});\n",
       "\n",
       "// Listen for the removal of the full notebook cells\n",
       "var notebookContainer = gd.closest('#notebook-container');\n",
       "if (notebookContainer) {{\n",
       "    x.observe(notebookContainer, {childList: true});\n",
       "}}\n",
       "\n",
       "// Listen for the clearing of the current output cell\n",
       "var outputEl = gd.closest('.output');\n",
       "if (outputEl) {{\n",
       "    x.observe(outputEl, {childList: true});\n",
       "}}\n",
       "\n",
       "                        })                };                });            </script>        </div>"
      ]
     },
     "metadata": {},
     "output_type": "display_data"
    }
   ],
   "source": [
    "fig = optuna.visualization.plot_contour(study, params=[\"alpha\", \"gamma\"])\n",
    "fig.show()"
   ]
  }
 ],
 "metadata": {
  "kernelspec": {
   "display_name": "Python 3 (ipykernel)",
   "language": "python",
   "name": "python3"
  },
  "language_info": {
   "codemirror_mode": {
    "name": "ipython",
    "version": 3
   },
   "file_extension": ".py",
   "mimetype": "text/x-python",
   "name": "python",
   "nbconvert_exporter": "python",
   "pygments_lexer": "ipython3",
   "version": "3.9.12"
  }
 },
 "nbformat": 4,
 "nbformat_minor": 5
}
