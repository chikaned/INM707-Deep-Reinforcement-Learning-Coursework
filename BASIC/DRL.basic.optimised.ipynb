{
 "cells": [
  {
   "cell_type": "code",
   "execution_count": 7,
   "id": "3a2f58d6",
   "metadata": {},
   "outputs": [
    {
     "name": "stdout",
     "output_type": "stream",
     "text": [
      "Episode: 500\n"
     ]
    }
   ],
   "source": [
    "import random\n",
    "import gym\n",
    "import numpy as np\n",
    "import time\n",
    "from IPython.display import clear_output\n",
    "from agent_tools import Q_learner, performance_splitter\n",
    "import pandas as pd\n",
    "from vid_tools import play_vid, rec_vid\n",
    "from datetime import datetime\n",
    "\n",
    "env = gym.make('CartPole-v1')\n",
    "state_space = 4\n",
    "action_space = 2\n",
    "alpha = 0.25198690080574915\n",
    "gamma = 0.9859981046208016\n",
    "epsilon = 0.14754403828791107\n",
    "decay_type = 'epsilon'\n",
    "decay_steps =  8839.116770460862\n",
    "decay_end = 0.1300747722534384\n",
    "random_policy = False"
   ]
  },
  {
   "cell_type": "code",
   "execution_count": 17,
   "id": "4e8fa719",
   "metadata": {},
   "outputs": [
    {
     "name": "stdout",
     "output_type": "stream",
     "text": [
      "Episode: 20000\n",
      "Recording model...  20000\n",
      "Video saved:  ./basic_results/vids/2022_08_14-05_04_53_PM_20000.mp4\n",
      "Done!\n"
     ]
    }
   ],
   "source": [
    "progs = [1, 500, 2500, 5000, 10000, 20000]\n",
    "for prog in progs:\n",
    "    print(\"Training model... \",prog)\n",
    "    model = Q_learner(env = env, \n",
    "                  state_space=state_space, \n",
    "                  action_space=action_space, \n",
    "                  alpha=alpha, \n",
    "                  gamma=gamma, \n",
    "                  epsilon = epsilon, \n",
    "                  decay_type=decay_type, \n",
    "                  decay_steps=decay_steps, \n",
    "                  decay_end=decay_end, \n",
    "                  random_policy=random_policy\n",
    "                 )\n",
    "    test = model.train(prog)\n",
    "    date = datetime.now().strftime(\"%Y_%m_%d-%I_%M_%S_%p\")\n",
    "    prog = str(prog)\n",
    "    agent_type = \"opt\"\n",
    "    dir_path = r\"./basic_results/vids/\"+date+\"_\"+prog\n",
    "    print(\"Recording model... \", prog)\n",
    "    rec_vid(agent= model, env_name = 'CartPole-v1', checkpoint_path=None, dir_path = dir_path)\n",
    "    print(\"Video saved: \", dir_path+\".mp4\")\n",
    "print(\"Done!\")"
   ]
  },
  {
   "cell_type": "code",
   "execution_count": null,
   "id": "71244076",
   "metadata": {},
   "outputs": [],
   "source": [
    "import plotly.graph_objs as go\n",
    "\n",
    "#get percentiles\n",
    "res = performance_splitter(test)\n",
    "\n",
    "#create lists for plotly\n",
    "y = [float(x) for x in res[1]]\n",
    "y_upper = [float(x) for x in res[0]]\n",
    "y_lower = [float(x) for x in res[2]]\n",
    "x = list(np.arange(0, len(y)))\n",
    "x = [x*100 for x in x]\n",
    "\n",
    "#save to df\n",
    "df = pd.DataFrame([x,y_lower, y, y_upper])\n",
    "df = df.T\n",
    "df.columns = ['x', 'y_lower', 'y', 'y_upper']\n",
    "df.to_csv('./basic_results/optimised.csv')\n",
    "\n",
    "#plot\n",
    "fig = go.Figure([\n",
    "    go.Scatter(\n",
    "        name = 'episode length',\n",
    "        x=x,\n",
    "        y=y,\n",
    "\n",
    "        line=dict(color='rgb(0,80,100)'),\n",
    "        mode='lines'\n",
    "    ),\n",
    "    go.Scatter(\n",
    "        x=x+x[::-1], # x, then x reversed\n",
    "        y=y_upper+y_lower[::-1], # upper, then lower reversed\n",
    "        fill='toself',\n",
    "        fillcolor='rgba(0,80,100,0.2)',\n",
    "        line=dict(color='rgba(0,0,255,0)'),\n",
    "        hoverinfo=\"skip\",\n",
    "        showlegend=False\n",
    "    )\n",
    "])\n",
    "\n",
    "fig.update_layout(\n",
    "    yaxis_title='normalized score',\n",
    "    xaxis_title='episodes',\n",
    "    title='Average score for baseline Q-learning policy',\n",
    "    hovermode=\"x\"\n",
    ")\n",
    "fig.show()"
   ]
  }
 ],
 "metadata": {
  "kernelspec": {
   "display_name": "Python 3 (ipykernel)",
   "language": "python",
   "name": "python3"
  },
  "language_info": {
   "codemirror_mode": {
    "name": "ipython",
    "version": 3
   },
   "file_extension": ".py",
   "mimetype": "text/x-python",
   "name": "python",
   "nbconvert_exporter": "python",
   "pygments_lexer": "ipython3",
   "version": "3.9.12"
  }
 },
 "nbformat": 4,
 "nbformat_minor": 5
}
