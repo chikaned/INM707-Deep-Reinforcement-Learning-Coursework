{
 "cells": [
  {
   "cell_type": "code",
   "execution_count": 1,
   "id": "bbc74241",
   "metadata": {},
   "outputs": [],
   "source": [
    "#import packages\n",
    "import pandas as pd\n",
    "import plotly.graph_objects as go\n",
    "import plotly.express as px\n",
    "import numpy as np"
   ]
  },
  {
   "cell_type": "code",
   "execution_count": 29,
   "id": "3788a7ee",
   "metadata": {},
   "outputs": [
    {
     "data": {
      "text/plain": [
       "Index(['episode_reward_max', 'episode_reward_min', 'episode_reward_mean',\n",
       "       'episode_len_mean', 'episodes_this_iter', 'num_healthy_workers',\n",
       "       'num_agent_steps_sampled', 'num_agent_steps_trained',\n",
       "       'num_env_steps_sampled', 'num_env_steps_trained',\n",
       "       'num_env_steps_sampled_this_iter', 'num_env_steps_trained_this_iter',\n",
       "       'timesteps_total', 'agent_timesteps_total', 'done', 'episodes_total',\n",
       "       'training_iteration', 'trial_id', 'experiment_id', 'date', 'timestamp',\n",
       "       'time_this_iter_s', 'time_total_s', 'pid', 'hostname', 'node_ip',\n",
       "       'time_since_restore', 'timesteps_since_restore',\n",
       "       'iterations_since_restore', 'warmup_time', 'info/num_env_steps_sampled',\n",
       "       'info/num_env_steps_trained', 'info/num_agent_steps_sampled',\n",
       "       'info/num_agent_steps_trained', 'info/last_target_update_ts',\n",
       "       'info/num_target_updates', 'sampler_results/episode_reward_max',\n",
       "       'sampler_results/episode_reward_min',\n",
       "       'sampler_results/episode_reward_mean',\n",
       "       'sampler_results/episode_len_mean',\n",
       "       'sampler_results/episodes_this_iter', 'hist_stats/episode_reward',\n",
       "       'hist_stats/episode_lengths', 'timers/training_iteration_time_ms',\n",
       "       'timers/load_time_ms', 'timers/load_throughput', 'timers/learn_time_ms',\n",
       "       'timers/learn_throughput', 'timers/synch_weights_time_ms',\n",
       "       'counters/num_env_steps_sampled', 'counters/num_env_steps_trained',\n",
       "       'counters/num_agent_steps_sampled', 'counters/num_agent_steps_trained',\n",
       "       'counters/last_target_update_ts', 'counters/num_target_updates',\n",
       "       'perf/cpu_util_percent', 'perf/ram_util_percent',\n",
       "       'perf/gpu_util_percent0', 'perf/vram_util_percent0',\n",
       "       'sampler_results/hist_stats/episode_reward',\n",
       "       'sampler_results/hist_stats/episode_lengths',\n",
       "       'info/learner/default_policy/td_error',\n",
       "       'info/learner/default_policy/mean_td_error',\n",
       "       'info/learner/default_policy/learner_stats/mean_q',\n",
       "       'info/learner/default_policy/learner_stats/min_q',\n",
       "       'info/learner/default_policy/learner_stats/max_q',\n",
       "       'info/learner/default_policy/learner_stats/cur_lr'],\n",
       "      dtype='object')"
      ]
     },
     "execution_count": 29,
     "metadata": {},
     "output_type": "execute_result"
    }
   ],
   "source": [
    "dqn_df.columns"
   ]
  },
  {
   "cell_type": "code",
   "execution_count": 38,
   "id": "e6c6117f",
   "metadata": {},
   "outputs": [
    {
     "data": {
      "text/html": [
       "<div>\n",
       "<style scoped>\n",
       "    .dataframe tbody tr th:only-of-type {\n",
       "        vertical-align: middle;\n",
       "    }\n",
       "\n",
       "    .dataframe tbody tr th {\n",
       "        vertical-align: top;\n",
       "    }\n",
       "\n",
       "    .dataframe thead th {\n",
       "        text-align: right;\n",
       "    }\n",
       "</style>\n",
       "<table border=\"1\" class=\"dataframe\">\n",
       "  <thead>\n",
       "    <tr style=\"text-align: right;\">\n",
       "      <th></th>\n",
       "      <th>agent_timesteps_total</th>\n",
       "      <th>ppo_episode_reward_max</th>\n",
       "      <th>ppo_episode_reward_min</th>\n",
       "      <th>ppo_episode_reward_mean</th>\n",
       "      <th>ppo_episode_len_mean</th>\n",
       "      <th>ppo_episodes_this_iter</th>\n",
       "      <th>ppo_num_healthy_workers</th>\n",
       "      <th>ppo_num_agent_steps_sampled</th>\n",
       "      <th>ppo_num_agent_steps_trained</th>\n",
       "      <th>ppo_num_env_steps_sampled</th>\n",
       "      <th>...</th>\n",
       "      <th>dqn_episode_len_mean</th>\n",
       "      <th>dqn_episodes_this_iter</th>\n",
       "      <th>dqn_num_healthy_workers</th>\n",
       "      <th>dqn_num_agent_steps_sampled</th>\n",
       "      <th>dqn_num_agent_steps_trained</th>\n",
       "      <th>dqn_num_env_steps_sampled</th>\n",
       "      <th>dqn_num_env_steps_trained</th>\n",
       "      <th>dqn_num_env_steps_sampled_this_iter</th>\n",
       "      <th>dqn_num_env_steps_trained_this_iter</th>\n",
       "      <th>dqn_timesteps_total</th>\n",
       "    </tr>\n",
       "  </thead>\n",
       "  <tbody>\n",
       "    <tr>\n",
       "      <th>0</th>\n",
       "      <td>5000</td>\n",
       "      <td>-19</td>\n",
       "      <td>-21</td>\n",
       "      <td>-20.000000</td>\n",
       "      <td>1039.500000</td>\n",
       "      <td>2</td>\n",
       "      <td>2</td>\n",
       "      <td>5000</td>\n",
       "      <td>5000</td>\n",
       "      <td>5000</td>\n",
       "      <td>...</td>\n",
       "      <td>970.500000</td>\n",
       "      <td>0</td>\n",
       "      <td>2</td>\n",
       "      <td>5000</td>\n",
       "      <td>16032</td>\n",
       "      <td>5000</td>\n",
       "      <td>16032</td>\n",
       "      <td>1000</td>\n",
       "      <td>4000</td>\n",
       "      <td>5000</td>\n",
       "    </tr>\n",
       "    <tr>\n",
       "      <th>1</th>\n",
       "      <td>10000</td>\n",
       "      <td>-19</td>\n",
       "      <td>-21</td>\n",
       "      <td>-20.375000</td>\n",
       "      <td>938.875000</td>\n",
       "      <td>6</td>\n",
       "      <td>2</td>\n",
       "      <td>10000</td>\n",
       "      <td>10000</td>\n",
       "      <td>10000</td>\n",
       "      <td>...</td>\n",
       "      <td>952.714286</td>\n",
       "      <td>1</td>\n",
       "      <td>2</td>\n",
       "      <td>10000</td>\n",
       "      <td>36032</td>\n",
       "      <td>10000</td>\n",
       "      <td>36032</td>\n",
       "      <td>1000</td>\n",
       "      <td>4000</td>\n",
       "      <td>10000</td>\n",
       "    </tr>\n",
       "    <tr>\n",
       "      <th>2</th>\n",
       "      <td>15000</td>\n",
       "      <td>-19</td>\n",
       "      <td>-21</td>\n",
       "      <td>-20.642857</td>\n",
       "      <td>903.000000</td>\n",
       "      <td>6</td>\n",
       "      <td>2</td>\n",
       "      <td>15000</td>\n",
       "      <td>15000</td>\n",
       "      <td>15000</td>\n",
       "      <td>...</td>\n",
       "      <td>951.615385</td>\n",
       "      <td>1</td>\n",
       "      <td>2</td>\n",
       "      <td>15000</td>\n",
       "      <td>56032</td>\n",
       "      <td>15000</td>\n",
       "      <td>56032</td>\n",
       "      <td>1000</td>\n",
       "      <td>4000</td>\n",
       "      <td>15000</td>\n",
       "    </tr>\n",
       "    <tr>\n",
       "      <th>3</th>\n",
       "      <td>20000</td>\n",
       "      <td>-19</td>\n",
       "      <td>-21</td>\n",
       "      <td>-20.611111</td>\n",
       "      <td>922.888889</td>\n",
       "      <td>4</td>\n",
       "      <td>2</td>\n",
       "      <td>20000</td>\n",
       "      <td>20000</td>\n",
       "      <td>20000</td>\n",
       "      <td>...</td>\n",
       "      <td>924.578947</td>\n",
       "      <td>1</td>\n",
       "      <td>2</td>\n",
       "      <td>20000</td>\n",
       "      <td>76032</td>\n",
       "      <td>20000</td>\n",
       "      <td>76032</td>\n",
       "      <td>1000</td>\n",
       "      <td>4000</td>\n",
       "      <td>20000</td>\n",
       "    </tr>\n",
       "    <tr>\n",
       "      <th>4</th>\n",
       "      <td>25000</td>\n",
       "      <td>-19</td>\n",
       "      <td>-21</td>\n",
       "      <td>-20.625000</td>\n",
       "      <td>935.708333</td>\n",
       "      <td>6</td>\n",
       "      <td>2</td>\n",
       "      <td>25000</td>\n",
       "      <td>25000</td>\n",
       "      <td>25000</td>\n",
       "      <td>...</td>\n",
       "      <td>919.680000</td>\n",
       "      <td>2</td>\n",
       "      <td>2</td>\n",
       "      <td>25000</td>\n",
       "      <td>96032</td>\n",
       "      <td>25000</td>\n",
       "      <td>96032</td>\n",
       "      <td>1000</td>\n",
       "      <td>4000</td>\n",
       "      <td>25000</td>\n",
       "    </tr>\n",
       "  </tbody>\n",
       "</table>\n",
       "<p>5 rows × 28 columns</p>\n",
       "</div>"
      ],
      "text/plain": [
       "   agent_timesteps_total  ppo_episode_reward_max  ppo_episode_reward_min  \\\n",
       "0                   5000                     -19                     -21   \n",
       "1                  10000                     -19                     -21   \n",
       "2                  15000                     -19                     -21   \n",
       "3                  20000                     -19                     -21   \n",
       "4                  25000                     -19                     -21   \n",
       "\n",
       "   ppo_episode_reward_mean  ppo_episode_len_mean  ppo_episodes_this_iter  \\\n",
       "0               -20.000000           1039.500000                       2   \n",
       "1               -20.375000            938.875000                       6   \n",
       "2               -20.642857            903.000000                       6   \n",
       "3               -20.611111            922.888889                       4   \n",
       "4               -20.625000            935.708333                       6   \n",
       "\n",
       "   ppo_num_healthy_workers  ppo_num_agent_steps_sampled  \\\n",
       "0                        2                         5000   \n",
       "1                        2                        10000   \n",
       "2                        2                        15000   \n",
       "3                        2                        20000   \n",
       "4                        2                        25000   \n",
       "\n",
       "   ppo_num_agent_steps_trained  ppo_num_env_steps_sampled  ...  \\\n",
       "0                         5000                       5000  ...   \n",
       "1                        10000                      10000  ...   \n",
       "2                        15000                      15000  ...   \n",
       "3                        20000                      20000  ...   \n",
       "4                        25000                      25000  ...   \n",
       "\n",
       "   dqn_episode_len_mean  dqn_episodes_this_iter  dqn_num_healthy_workers  \\\n",
       "0            970.500000                       0                        2   \n",
       "1            952.714286                       1                        2   \n",
       "2            951.615385                       1                        2   \n",
       "3            924.578947                       1                        2   \n",
       "4            919.680000                       2                        2   \n",
       "\n",
       "   dqn_num_agent_steps_sampled  dqn_num_agent_steps_trained  \\\n",
       "0                         5000                        16032   \n",
       "1                        10000                        36032   \n",
       "2                        15000                        56032   \n",
       "3                        20000                        76032   \n",
       "4                        25000                        96032   \n",
       "\n",
       "   dqn_num_env_steps_sampled  dqn_num_env_steps_trained  \\\n",
       "0                       5000                      16032   \n",
       "1                      10000                      36032   \n",
       "2                      15000                      56032   \n",
       "3                      20000                      76032   \n",
       "4                      25000                      96032   \n",
       "\n",
       "   dqn_num_env_steps_sampled_this_iter  dqn_num_env_steps_trained_this_iter  \\\n",
       "0                                 1000                                 4000   \n",
       "1                                 1000                                 4000   \n",
       "2                                 1000                                 4000   \n",
       "3                                 1000                                 4000   \n",
       "4                                 1000                                 4000   \n",
       "\n",
       "   dqn_timesteps_total  \n",
       "0                 5000  \n",
       "1                10000  \n",
       "2                15000  \n",
       "3                20000  \n",
       "4                25000  \n",
       "\n",
       "[5 rows x 28 columns]"
      ]
     },
     "execution_count": 38,
     "metadata": {},
     "output_type": "execute_result"
    }
   ],
   "source": [
    "#load dataframe\n",
    "df = pd.read_csv(r\"C:\\Users\\josep\\Desktop\\DSMsc\\Term 2\\DRL\\project\\work_dir\\ATARI\\pong_comp.csv\")\n",
    "df.head()"
   ]
  },
  {
   "cell_type": "code",
   "execution_count": 43,
   "id": "a783d2d8",
   "metadata": {},
   "outputs": [
    {
     "data": {
      "application/vnd.plotly.v1+json": {
       "config": {
        "plotlyServerURL": "https://plot.ly"
       },
       "data": [
        {
         "name": "DQN",
         "type": "scatter",
         "x": [
          5000,
          10000,
          15000,
          20000,
          25000,
          30000,
          35000,
          40000,
          45000,
          50000,
          55000,
          60000,
          65000,
          70000,
          75000,
          80000,
          85000,
          90000,
          95000,
          100000,
          105000,
          110000,
          115000,
          120000,
          125000,
          130000,
          135000,
          140000,
          145000,
          150000,
          155000,
          160000,
          165000,
          170000,
          175000,
          180000,
          185000,
          190000,
          195000,
          200000,
          205000,
          210000,
          215000,
          220000,
          225000,
          230000,
          235000,
          240000,
          245000,
          250000,
          255000,
          260000,
          265000,
          270000,
          275000,
          280000,
          285000,
          290000,
          295000,
          300000,
          305000,
          310000,
          315000,
          320000,
          325000,
          330000,
          335000,
          340000,
          345000,
          350000,
          355000,
          360000,
          365000,
          370000,
          375000,
          380000,
          385000,
          390000,
          395000,
          400000,
          405000,
          410000,
          415000,
          420000,
          425000,
          430000,
          435000,
          440000,
          445000,
          450000,
          455000,
          460000,
          465000,
          470000,
          475000,
          480000,
          485000,
          490000,
          495000,
          500000,
          505000,
          510000,
          515000,
          520000,
          525000,
          530000,
          535000,
          540000,
          545000,
          550000,
          555000,
          560000,
          565000,
          570000,
          575000,
          580000,
          585000,
          590000,
          595000,
          600000,
          605000,
          610000,
          615000,
          620000,
          625000,
          630000,
          635000,
          640000,
          645000,
          650000,
          655000,
          660000,
          665000,
          670000,
          675000,
          680000,
          685000,
          690000,
          695000,
          700000,
          705000,
          710000,
          715000,
          720000,
          725000,
          730000,
          735000,
          740000,
          745000,
          750000,
          755000,
          760000,
          765000,
          770000,
          775000,
          780000,
          785000,
          790000,
          795000,
          800000,
          805000,
          810000,
          815000,
          820000,
          825000,
          830000,
          835000,
          840000,
          845000,
          850000,
          855000,
          860000,
          865000,
          870000,
          875000,
          880000,
          885000,
          890000,
          895000,
          900000,
          905000,
          910000,
          915000,
          920000,
          925000,
          930000,
          935000,
          940000,
          945000,
          950000,
          955000,
          960000,
          965000,
          970000,
          975000,
          980000,
          985000,
          990000,
          995000,
          1000000,
          1005000,
          1010000,
          1015000,
          1020000,
          1025000,
          1030000,
          1035000,
          1040000,
          1045000,
          1050000,
          1055000,
          1060000,
          1065000,
          1070000,
          1075000,
          1080000,
          1085000,
          1090000,
          1095000,
          1100000,
          1105000,
          1110000
         ],
         "y": [
          -21,
          -20.42857143,
          -20.30769231,
          -20.47368421,
          -20.48,
          -20.4516129,
          -20.41666667,
          -20.43902439,
          -20.34042553,
          -20.35849057,
          -20.36206897,
          -20.375,
          -20.36231884,
          -20.36486486,
          -20.3164557,
          -20.30952381,
          -20.2967033,
          -20.33333333,
          -20.3,
          -20.3,
          -20.32,
          -20.3,
          -20.28,
          -20.28,
          -20.29,
          -20.3,
          -20.36,
          -20.38,
          -20.39,
          -20.41,
          -20.41,
          -20.41,
          -20.47,
          -20.51,
          -20.5,
          -20.48,
          -20.5,
          -20.5,
          -20.53,
          -20.52,
          -20.57,
          -20.52,
          -20.48,
          -20.48,
          -20.49,
          -20.5,
          -20.47,
          -20.49,
          -20.49,
          -20.5,
          -20.49,
          -20.5,
          -20.51,
          -20.5,
          -20.55,
          -20.53,
          -20.57,
          -20.57,
          -20.61,
          -20.66,
          -20.66,
          -20.65,
          -20.65,
          -20.69,
          -20.66,
          -20.69,
          -20.68,
          -20.71,
          -20.7,
          -20.69,
          -20.68,
          -20.66,
          -20.65,
          -20.64,
          -20.65,
          -20.64,
          -20.63,
          -20.61,
          -20.59,
          -20.61,
          -20.61,
          -20.61,
          -20.6,
          -20.56,
          -20.52,
          -20.51,
          -20.46,
          -20.45,
          -20.45,
          -20.44,
          -20.46,
          -20.44,
          -20.42,
          -20.38,
          -20.37,
          -20.37,
          -20.36,
          -20.37,
          -20.37,
          -20.32,
          -20.31,
          -20.28,
          -20.27,
          -20.27,
          -20.26,
          -20.25,
          -20.27,
          -20.29,
          -20.28,
          -20.27,
          -20.24,
          -20.18,
          -20.15,
          -20.06,
          -20.06,
          -19.98,
          -19.94,
          -19.94,
          -19.9,
          -19.9,
          -19.86,
          -19.85,
          -19.85,
          -19.85,
          -19.78,
          -19.8,
          -19.78,
          -19.78,
          -19.77,
          -19.7,
          -19.71,
          -19.71,
          -19.71,
          -19.7,
          -19.7,
          -19.66,
          -19.67,
          -19.67,
          -19.67,
          -19.66,
          -19.61,
          -19.6,
          -19.6,
          -19.6,
          -19.61,
          -19.57,
          -19.57,
          -19.58,
          -19.58,
          -19.56,
          -19.55,
          -19.56,
          -19.56,
          -19.54,
          -19.47,
          -19.47,
          -19.46,
          -19.46,
          -19.45,
          -19.39,
          -19.36,
          -19.35,
          -19.33,
          -19.3,
          -19.27,
          -19.27,
          -19.27,
          -19.27,
          -19.16,
          -19.14,
          -19.08,
          -19.09,
          -19.09,
          -19.08,
          -19.08,
          -19.02,
          -19.02,
          -19.02,
          -19.02,
          -19,
          -19,
          -18.9,
          -18.87,
          -18.87,
          -18.81,
          -18.81,
          -18.75,
          -18.65,
          -18.65,
          -18.65,
          -18.65,
          -18.55,
          -18.55,
          -18.39,
          -18.39,
          -18.22,
          -18.22,
          -18.14,
          -18.06,
          -18.06,
          -17.97,
          -17.97,
          -17.94,
          -17.9,
          -17.9,
          -17.72,
          -17.7,
          -17.62,
          -17.57,
          -17.58,
          -17.58,
          -17.44,
          -17.44,
          -17.33,
          -17.33,
          -17.33,
          -17.21,
          -17.18,
          -17.11,
          -17.11,
          -16.93,
          -16.93
         ]
        },
        {
         "name": "PPO",
         "type": "scatter",
         "x": [
          5000,
          10000,
          15000,
          20000,
          25000,
          30000,
          35000,
          40000,
          45000,
          50000,
          55000,
          60000,
          65000,
          70000,
          75000,
          80000,
          85000,
          90000,
          95000,
          100000,
          105000,
          110000,
          115000,
          120000,
          125000,
          130000,
          135000,
          140000,
          145000,
          150000,
          155000,
          160000,
          165000,
          170000,
          175000,
          180000,
          185000,
          190000,
          195000,
          200000,
          205000,
          210000,
          215000,
          220000,
          225000,
          230000,
          235000,
          240000,
          245000,
          250000,
          255000,
          260000,
          265000,
          270000,
          275000,
          280000,
          285000,
          290000,
          295000,
          300000,
          305000,
          310000,
          315000,
          320000,
          325000,
          330000,
          335000,
          340000,
          345000,
          350000,
          355000,
          360000,
          365000,
          370000,
          375000,
          380000,
          385000,
          390000,
          395000,
          400000,
          405000,
          410000,
          415000,
          420000,
          425000,
          430000,
          435000,
          440000,
          445000,
          450000,
          455000,
          460000,
          465000,
          470000,
          475000,
          480000,
          485000,
          490000,
          495000,
          500000,
          505000,
          510000,
          515000,
          520000,
          525000,
          530000,
          535000,
          540000,
          545000,
          550000,
          555000,
          560000,
          565000,
          570000,
          575000,
          580000,
          585000,
          590000,
          595000,
          600000,
          605000,
          610000,
          615000,
          620000,
          625000,
          630000,
          635000,
          640000,
          645000,
          650000,
          655000,
          660000,
          665000,
          670000,
          675000,
          680000,
          685000,
          690000,
          695000,
          700000,
          705000,
          710000,
          715000,
          720000,
          725000,
          730000,
          735000,
          740000,
          745000,
          750000,
          755000,
          760000,
          765000,
          770000,
          775000,
          780000,
          785000,
          790000,
          795000,
          800000,
          805000,
          810000,
          815000,
          820000,
          825000,
          830000,
          835000,
          840000,
          845000,
          850000,
          855000,
          860000,
          865000,
          870000,
          875000,
          880000,
          885000,
          890000,
          895000,
          900000,
          905000,
          910000,
          915000,
          920000,
          925000,
          930000,
          935000,
          940000,
          945000,
          950000,
          955000,
          960000,
          965000,
          970000,
          975000,
          980000,
          985000,
          990000,
          995000,
          1000000,
          1005000,
          1010000,
          1015000,
          1020000,
          1025000,
          1030000,
          1035000,
          1040000,
          1045000,
          1050000,
          1055000,
          1060000,
          1065000,
          1070000,
          1075000,
          1080000,
          1085000,
          1090000,
          1095000,
          1100000,
          1105000,
          1110000
         ],
         "y": [
          -20,
          -20.375,
          -20.64285714,
          -20.61111111,
          -20.625,
          -20.56666667,
          -20.58333333,
          -20.58536585,
          -20.55319149,
          -20.51923077,
          -20.53448276,
          -20.53968254,
          -20.53623188,
          -20.53333333,
          -20.525,
          -20.5,
          -20.47826087,
          -20.47916667,
          -20.46,
          -20.42,
          -20.36,
          -20.32,
          -20.27,
          -20.24,
          -20.18,
          -20.13,
          -20.13,
          -20.12,
          -20.15,
          -20.11,
          -20.06,
          -20.04,
          -20.01,
          -20.01,
          -20.04,
          -20.03,
          -20,
          -20.05,
          -20.05,
          -20.08,
          -20.13,
          -20.18,
          -20.09,
          -20.14,
          -20.13,
          -20.17,
          -20.13,
          -20.12,
          -20.09,
          -20.1,
          -20.09,
          -20.04,
          -19.99,
          -19.93,
          -19.87,
          -19.84,
          -19.81,
          -19.76,
          -19.71,
          -19.66,
          -19.62,
          -19.53,
          -19.4,
          -19.35,
          -19.26,
          -19.19,
          -19.2,
          -19.15,
          -19.11,
          -19.05,
          -18.99,
          -18.95,
          -18.93,
          -18.94,
          -18.82,
          -18.79,
          -18.79,
          -18.77,
          -18.78,
          -18.75,
          -18.74,
          -18.74,
          -18.7,
          -18.65,
          -18.68,
          -18.65,
          -18.69,
          -18.7,
          -18.64,
          -18.58,
          -18.66,
          -18.65,
          -18.65,
          -18.58,
          -18.59,
          -18.65,
          -18.62,
          -18.67,
          -18.66,
          -18.63,
          -18.64,
          -18.57,
          -18.57,
          -18.55,
          -18.55,
          -18.58,
          -18.62,
          -18.59,
          -18.54,
          -18.53,
          -18.56,
          -18.56,
          -18.56,
          -18.51,
          -18.45,
          -18.47,
          -18.47,
          -18.51,
          -18.41,
          -18.39,
          -18.34,
          -18.26,
          -18.25,
          -18.25,
          -18.22,
          -18.28,
          -18.29,
          -18.27,
          -18.29,
          -18.35,
          -18.37,
          -18.31,
          -18.33,
          -18.24,
          -18.15,
          -18.13,
          -18.14,
          -18.11,
          -18,
          -17.99,
          -17.91,
          -17.89,
          -17.88,
          -17.86,
          -17.8,
          -17.68,
          -17.68,
          -17.62,
          -17.6,
          -17.6,
          -17.5,
          -17.46,
          -17.42,
          -17.36,
          -17.32,
          -17.34,
          -17.26,
          -17.24,
          -17.17,
          -17.09,
          -17.05,
          -17.03,
          -17.01,
          -16.91,
          -16.91,
          -16.79,
          -16.66,
          -16.56,
          -16.47,
          -16.44,
          -16.24,
          -16.08,
          -15.94,
          -15.79,
          -15.72,
          -15.61,
          -15.47,
          -15.41,
          -15.25,
          -15.11,
          -15.03,
          -14.86,
          -14.75,
          -14.69,
          -14.46,
          -14.34,
          -14.26,
          -14.21,
          -13.99,
          -13.91,
          -13.65,
          -13.47,
          -13.33,
          -13.22,
          -13.07,
          -12.7,
          -12.61,
          -12.36,
          -12.24,
          -12,
          -11.72,
          -11.46,
          -11.33,
          -11.17,
          -11.14,
          -10.87,
          -10.56,
          -10.51,
          -10.23,
          -10,
          -9.62,
          -9.32,
          -9.03,
          -8.84,
          -8.48,
          -8.35,
          -8.04,
          -7.86,
          -7.65,
          -7.34,
          -6.94,
          -6.28
         ]
        }
       ],
       "layout": {
        "legend": {
         "title": {
          "text": "Model"
         }
        },
        "template": {
         "data": {
          "bar": [
           {
            "error_x": {
             "color": "#2a3f5f"
            },
            "error_y": {
             "color": "#2a3f5f"
            },
            "marker": {
             "line": {
              "color": "#E5ECF6",
              "width": 0.5
             },
             "pattern": {
              "fillmode": "overlay",
              "size": 10,
              "solidity": 0.2
             }
            },
            "type": "bar"
           }
          ],
          "barpolar": [
           {
            "marker": {
             "line": {
              "color": "#E5ECF6",
              "width": 0.5
             },
             "pattern": {
              "fillmode": "overlay",
              "size": 10,
              "solidity": 0.2
             }
            },
            "type": "barpolar"
           }
          ],
          "carpet": [
           {
            "aaxis": {
             "endlinecolor": "#2a3f5f",
             "gridcolor": "white",
             "linecolor": "white",
             "minorgridcolor": "white",
             "startlinecolor": "#2a3f5f"
            },
            "baxis": {
             "endlinecolor": "#2a3f5f",
             "gridcolor": "white",
             "linecolor": "white",
             "minorgridcolor": "white",
             "startlinecolor": "#2a3f5f"
            },
            "type": "carpet"
           }
          ],
          "choropleth": [
           {
            "colorbar": {
             "outlinewidth": 0,
             "ticks": ""
            },
            "type": "choropleth"
           }
          ],
          "contour": [
           {
            "colorbar": {
             "outlinewidth": 0,
             "ticks": ""
            },
            "colorscale": [
             [
              0,
              "#0d0887"
             ],
             [
              0.1111111111111111,
              "#46039f"
             ],
             [
              0.2222222222222222,
              "#7201a8"
             ],
             [
              0.3333333333333333,
              "#9c179e"
             ],
             [
              0.4444444444444444,
              "#bd3786"
             ],
             [
              0.5555555555555556,
              "#d8576b"
             ],
             [
              0.6666666666666666,
              "#ed7953"
             ],
             [
              0.7777777777777778,
              "#fb9f3a"
             ],
             [
              0.8888888888888888,
              "#fdca26"
             ],
             [
              1,
              "#f0f921"
             ]
            ],
            "type": "contour"
           }
          ],
          "contourcarpet": [
           {
            "colorbar": {
             "outlinewidth": 0,
             "ticks": ""
            },
            "type": "contourcarpet"
           }
          ],
          "heatmap": [
           {
            "colorbar": {
             "outlinewidth": 0,
             "ticks": ""
            },
            "colorscale": [
             [
              0,
              "#0d0887"
             ],
             [
              0.1111111111111111,
              "#46039f"
             ],
             [
              0.2222222222222222,
              "#7201a8"
             ],
             [
              0.3333333333333333,
              "#9c179e"
             ],
             [
              0.4444444444444444,
              "#bd3786"
             ],
             [
              0.5555555555555556,
              "#d8576b"
             ],
             [
              0.6666666666666666,
              "#ed7953"
             ],
             [
              0.7777777777777778,
              "#fb9f3a"
             ],
             [
              0.8888888888888888,
              "#fdca26"
             ],
             [
              1,
              "#f0f921"
             ]
            ],
            "type": "heatmap"
           }
          ],
          "heatmapgl": [
           {
            "colorbar": {
             "outlinewidth": 0,
             "ticks": ""
            },
            "colorscale": [
             [
              0,
              "#0d0887"
             ],
             [
              0.1111111111111111,
              "#46039f"
             ],
             [
              0.2222222222222222,
              "#7201a8"
             ],
             [
              0.3333333333333333,
              "#9c179e"
             ],
             [
              0.4444444444444444,
              "#bd3786"
             ],
             [
              0.5555555555555556,
              "#d8576b"
             ],
             [
              0.6666666666666666,
              "#ed7953"
             ],
             [
              0.7777777777777778,
              "#fb9f3a"
             ],
             [
              0.8888888888888888,
              "#fdca26"
             ],
             [
              1,
              "#f0f921"
             ]
            ],
            "type": "heatmapgl"
           }
          ],
          "histogram": [
           {
            "marker": {
             "pattern": {
              "fillmode": "overlay",
              "size": 10,
              "solidity": 0.2
             }
            },
            "type": "histogram"
           }
          ],
          "histogram2d": [
           {
            "colorbar": {
             "outlinewidth": 0,
             "ticks": ""
            },
            "colorscale": [
             [
              0,
              "#0d0887"
             ],
             [
              0.1111111111111111,
              "#46039f"
             ],
             [
              0.2222222222222222,
              "#7201a8"
             ],
             [
              0.3333333333333333,
              "#9c179e"
             ],
             [
              0.4444444444444444,
              "#bd3786"
             ],
             [
              0.5555555555555556,
              "#d8576b"
             ],
             [
              0.6666666666666666,
              "#ed7953"
             ],
             [
              0.7777777777777778,
              "#fb9f3a"
             ],
             [
              0.8888888888888888,
              "#fdca26"
             ],
             [
              1,
              "#f0f921"
             ]
            ],
            "type": "histogram2d"
           }
          ],
          "histogram2dcontour": [
           {
            "colorbar": {
             "outlinewidth": 0,
             "ticks": ""
            },
            "colorscale": [
             [
              0,
              "#0d0887"
             ],
             [
              0.1111111111111111,
              "#46039f"
             ],
             [
              0.2222222222222222,
              "#7201a8"
             ],
             [
              0.3333333333333333,
              "#9c179e"
             ],
             [
              0.4444444444444444,
              "#bd3786"
             ],
             [
              0.5555555555555556,
              "#d8576b"
             ],
             [
              0.6666666666666666,
              "#ed7953"
             ],
             [
              0.7777777777777778,
              "#fb9f3a"
             ],
             [
              0.8888888888888888,
              "#fdca26"
             ],
             [
              1,
              "#f0f921"
             ]
            ],
            "type": "histogram2dcontour"
           }
          ],
          "mesh3d": [
           {
            "colorbar": {
             "outlinewidth": 0,
             "ticks": ""
            },
            "type": "mesh3d"
           }
          ],
          "parcoords": [
           {
            "line": {
             "colorbar": {
              "outlinewidth": 0,
              "ticks": ""
             }
            },
            "type": "parcoords"
           }
          ],
          "pie": [
           {
            "automargin": true,
            "type": "pie"
           }
          ],
          "scatter": [
           {
            "fillpattern": {
             "fillmode": "overlay",
             "size": 10,
             "solidity": 0.2
            },
            "type": "scatter"
           }
          ],
          "scatter3d": [
           {
            "line": {
             "colorbar": {
              "outlinewidth": 0,
              "ticks": ""
             }
            },
            "marker": {
             "colorbar": {
              "outlinewidth": 0,
              "ticks": ""
             }
            },
            "type": "scatter3d"
           }
          ],
          "scattercarpet": [
           {
            "marker": {
             "colorbar": {
              "outlinewidth": 0,
              "ticks": ""
             }
            },
            "type": "scattercarpet"
           }
          ],
          "scattergeo": [
           {
            "marker": {
             "colorbar": {
              "outlinewidth": 0,
              "ticks": ""
             }
            },
            "type": "scattergeo"
           }
          ],
          "scattergl": [
           {
            "marker": {
             "colorbar": {
              "outlinewidth": 0,
              "ticks": ""
             }
            },
            "type": "scattergl"
           }
          ],
          "scattermapbox": [
           {
            "marker": {
             "colorbar": {
              "outlinewidth": 0,
              "ticks": ""
             }
            },
            "type": "scattermapbox"
           }
          ],
          "scatterpolar": [
           {
            "marker": {
             "colorbar": {
              "outlinewidth": 0,
              "ticks": ""
             }
            },
            "type": "scatterpolar"
           }
          ],
          "scatterpolargl": [
           {
            "marker": {
             "colorbar": {
              "outlinewidth": 0,
              "ticks": ""
             }
            },
            "type": "scatterpolargl"
           }
          ],
          "scatterternary": [
           {
            "marker": {
             "colorbar": {
              "outlinewidth": 0,
              "ticks": ""
             }
            },
            "type": "scatterternary"
           }
          ],
          "surface": [
           {
            "colorbar": {
             "outlinewidth": 0,
             "ticks": ""
            },
            "colorscale": [
             [
              0,
              "#0d0887"
             ],
             [
              0.1111111111111111,
              "#46039f"
             ],
             [
              0.2222222222222222,
              "#7201a8"
             ],
             [
              0.3333333333333333,
              "#9c179e"
             ],
             [
              0.4444444444444444,
              "#bd3786"
             ],
             [
              0.5555555555555556,
              "#d8576b"
             ],
             [
              0.6666666666666666,
              "#ed7953"
             ],
             [
              0.7777777777777778,
              "#fb9f3a"
             ],
             [
              0.8888888888888888,
              "#fdca26"
             ],
             [
              1,
              "#f0f921"
             ]
            ],
            "type": "surface"
           }
          ],
          "table": [
           {
            "cells": {
             "fill": {
              "color": "#EBF0F8"
             },
             "line": {
              "color": "white"
             }
            },
            "header": {
             "fill": {
              "color": "#C8D4E3"
             },
             "line": {
              "color": "white"
             }
            },
            "type": "table"
           }
          ]
         },
         "layout": {
          "annotationdefaults": {
           "arrowcolor": "#2a3f5f",
           "arrowhead": 0,
           "arrowwidth": 1
          },
          "autotypenumbers": "strict",
          "coloraxis": {
           "colorbar": {
            "outlinewidth": 0,
            "ticks": ""
           }
          },
          "colorscale": {
           "diverging": [
            [
             0,
             "#8e0152"
            ],
            [
             0.1,
             "#c51b7d"
            ],
            [
             0.2,
             "#de77ae"
            ],
            [
             0.3,
             "#f1b6da"
            ],
            [
             0.4,
             "#fde0ef"
            ],
            [
             0.5,
             "#f7f7f7"
            ],
            [
             0.6,
             "#e6f5d0"
            ],
            [
             0.7,
             "#b8e186"
            ],
            [
             0.8,
             "#7fbc41"
            ],
            [
             0.9,
             "#4d9221"
            ],
            [
             1,
             "#276419"
            ]
           ],
           "sequential": [
            [
             0,
             "#0d0887"
            ],
            [
             0.1111111111111111,
             "#46039f"
            ],
            [
             0.2222222222222222,
             "#7201a8"
            ],
            [
             0.3333333333333333,
             "#9c179e"
            ],
            [
             0.4444444444444444,
             "#bd3786"
            ],
            [
             0.5555555555555556,
             "#d8576b"
            ],
            [
             0.6666666666666666,
             "#ed7953"
            ],
            [
             0.7777777777777778,
             "#fb9f3a"
            ],
            [
             0.8888888888888888,
             "#fdca26"
            ],
            [
             1,
             "#f0f921"
            ]
           ],
           "sequentialminus": [
            [
             0,
             "#0d0887"
            ],
            [
             0.1111111111111111,
             "#46039f"
            ],
            [
             0.2222222222222222,
             "#7201a8"
            ],
            [
             0.3333333333333333,
             "#9c179e"
            ],
            [
             0.4444444444444444,
             "#bd3786"
            ],
            [
             0.5555555555555556,
             "#d8576b"
            ],
            [
             0.6666666666666666,
             "#ed7953"
            ],
            [
             0.7777777777777778,
             "#fb9f3a"
            ],
            [
             0.8888888888888888,
             "#fdca26"
            ],
            [
             1,
             "#f0f921"
            ]
           ]
          },
          "colorway": [
           "#636efa",
           "#EF553B",
           "#00cc96",
           "#ab63fa",
           "#FFA15A",
           "#19d3f3",
           "#FF6692",
           "#B6E880",
           "#FF97FF",
           "#FECB52"
          ],
          "font": {
           "color": "#2a3f5f"
          },
          "geo": {
           "bgcolor": "white",
           "lakecolor": "white",
           "landcolor": "#E5ECF6",
           "showlakes": true,
           "showland": true,
           "subunitcolor": "white"
          },
          "hoverlabel": {
           "align": "left"
          },
          "hovermode": "closest",
          "mapbox": {
           "style": "light"
          },
          "paper_bgcolor": "white",
          "plot_bgcolor": "#E5ECF6",
          "polar": {
           "angularaxis": {
            "gridcolor": "white",
            "linecolor": "white",
            "ticks": ""
           },
           "bgcolor": "#E5ECF6",
           "radialaxis": {
            "gridcolor": "white",
            "linecolor": "white",
            "ticks": ""
           }
          },
          "scene": {
           "xaxis": {
            "backgroundcolor": "#E5ECF6",
            "gridcolor": "white",
            "gridwidth": 2,
            "linecolor": "white",
            "showbackground": true,
            "ticks": "",
            "zerolinecolor": "white"
           },
           "yaxis": {
            "backgroundcolor": "#E5ECF6",
            "gridcolor": "white",
            "gridwidth": 2,
            "linecolor": "white",
            "showbackground": true,
            "ticks": "",
            "zerolinecolor": "white"
           },
           "zaxis": {
            "backgroundcolor": "#E5ECF6",
            "gridcolor": "white",
            "gridwidth": 2,
            "linecolor": "white",
            "showbackground": true,
            "ticks": "",
            "zerolinecolor": "white"
           }
          },
          "shapedefaults": {
           "line": {
            "color": "#2a3f5f"
           }
          },
          "ternary": {
           "aaxis": {
            "gridcolor": "white",
            "linecolor": "white",
            "ticks": ""
           },
           "baxis": {
            "gridcolor": "white",
            "linecolor": "white",
            "ticks": ""
           },
           "bgcolor": "#E5ECF6",
           "caxis": {
            "gridcolor": "white",
            "linecolor": "white",
            "ticks": ""
           }
          },
          "title": {
           "x": 0.05
          },
          "xaxis": {
           "automargin": true,
           "gridcolor": "white",
           "linecolor": "white",
           "ticks": "",
           "title": {
            "standoff": 15
           },
           "zerolinecolor": "white",
           "zerolinewidth": 2
          },
          "yaxis": {
           "automargin": true,
           "gridcolor": "white",
           "linecolor": "white",
           "ticks": "",
           "title": {
            "standoff": 15
           },
           "zerolinecolor": "white",
           "zerolinewidth": 2
          }
         }
        },
        "title": {
         "text": ""
        },
        "xaxis": {
         "title": {
          "text": "Timesteps"
         }
        },
        "yaxis": {
         "title": {
          "text": "Mean episode reward"
         }
        }
       }
      },
      "text/html": [
       "<div>                            <div id=\"224a7c8e-7180-4d47-9aab-1fd619a7ffe0\" class=\"plotly-graph-div\" style=\"height:525px; width:100%;\"></div>            <script type=\"text/javascript\">                require([\"plotly\"], function(Plotly) {                    window.PLOTLYENV=window.PLOTLYENV || {};                                    if (document.getElementById(\"224a7c8e-7180-4d47-9aab-1fd619a7ffe0\")) {                    Plotly.newPlot(                        \"224a7c8e-7180-4d47-9aab-1fd619a7ffe0\",                        [{\"name\":\"DQN\",\"x\":[5000,10000,15000,20000,25000,30000,35000,40000,45000,50000,55000,60000,65000,70000,75000,80000,85000,90000,95000,100000,105000,110000,115000,120000,125000,130000,135000,140000,145000,150000,155000,160000,165000,170000,175000,180000,185000,190000,195000,200000,205000,210000,215000,220000,225000,230000,235000,240000,245000,250000,255000,260000,265000,270000,275000,280000,285000,290000,295000,300000,305000,310000,315000,320000,325000,330000,335000,340000,345000,350000,355000,360000,365000,370000,375000,380000,385000,390000,395000,400000,405000,410000,415000,420000,425000,430000,435000,440000,445000,450000,455000,460000,465000,470000,475000,480000,485000,490000,495000,500000,505000,510000,515000,520000,525000,530000,535000,540000,545000,550000,555000,560000,565000,570000,575000,580000,585000,590000,595000,600000,605000,610000,615000,620000,625000,630000,635000,640000,645000,650000,655000,660000,665000,670000,675000,680000,685000,690000,695000,700000,705000,710000,715000,720000,725000,730000,735000,740000,745000,750000,755000,760000,765000,770000,775000,780000,785000,790000,795000,800000,805000,810000,815000,820000,825000,830000,835000,840000,845000,850000,855000,860000,865000,870000,875000,880000,885000,890000,895000,900000,905000,910000,915000,920000,925000,930000,935000,940000,945000,950000,955000,960000,965000,970000,975000,980000,985000,990000,995000,1000000,1005000,1010000,1015000,1020000,1025000,1030000,1035000,1040000,1045000,1050000,1055000,1060000,1065000,1070000,1075000,1080000,1085000,1090000,1095000,1100000,1105000,1110000],\"y\":[-21.0,-20.42857143,-20.30769231,-20.47368421,-20.48,-20.4516129,-20.41666667,-20.43902439,-20.34042553,-20.35849057,-20.36206897,-20.375,-20.36231884,-20.36486486,-20.3164557,-20.30952381,-20.2967033,-20.33333333,-20.3,-20.3,-20.32,-20.3,-20.28,-20.28,-20.29,-20.3,-20.36,-20.38,-20.39,-20.41,-20.41,-20.41,-20.47,-20.51,-20.5,-20.48,-20.5,-20.5,-20.53,-20.52,-20.57,-20.52,-20.48,-20.48,-20.49,-20.5,-20.47,-20.49,-20.49,-20.5,-20.49,-20.5,-20.51,-20.5,-20.55,-20.53,-20.57,-20.57,-20.61,-20.66,-20.66,-20.65,-20.65,-20.69,-20.66,-20.69,-20.68,-20.71,-20.7,-20.69,-20.68,-20.66,-20.65,-20.64,-20.65,-20.64,-20.63,-20.61,-20.59,-20.61,-20.61,-20.61,-20.6,-20.56,-20.52,-20.51,-20.46,-20.45,-20.45,-20.44,-20.46,-20.44,-20.42,-20.38,-20.37,-20.37,-20.36,-20.37,-20.37,-20.32,-20.31,-20.28,-20.27,-20.27,-20.26,-20.25,-20.27,-20.29,-20.28,-20.27,-20.24,-20.18,-20.15,-20.06,-20.06,-19.98,-19.94,-19.94,-19.9,-19.9,-19.86,-19.85,-19.85,-19.85,-19.78,-19.8,-19.78,-19.78,-19.77,-19.7,-19.71,-19.71,-19.71,-19.7,-19.7,-19.66,-19.67,-19.67,-19.67,-19.66,-19.61,-19.6,-19.6,-19.6,-19.61,-19.57,-19.57,-19.58,-19.58,-19.56,-19.55,-19.56,-19.56,-19.54,-19.47,-19.47,-19.46,-19.46,-19.45,-19.39,-19.36,-19.35,-19.33,-19.3,-19.27,-19.27,-19.27,-19.27,-19.16,-19.14,-19.08,-19.09,-19.09,-19.08,-19.08,-19.02,-19.02,-19.02,-19.02,-19.0,-19.0,-18.9,-18.87,-18.87,-18.81,-18.81,-18.75,-18.65,-18.65,-18.65,-18.65,-18.55,-18.55,-18.39,-18.39,-18.22,-18.22,-18.14,-18.06,-18.06,-17.97,-17.97,-17.94,-17.9,-17.9,-17.72,-17.7,-17.62,-17.57,-17.58,-17.58,-17.44,-17.44,-17.33,-17.33,-17.33,-17.21,-17.18,-17.11,-17.11,-16.93,-16.93],\"type\":\"scatter\"},{\"name\":\"PPO\",\"x\":[5000,10000,15000,20000,25000,30000,35000,40000,45000,50000,55000,60000,65000,70000,75000,80000,85000,90000,95000,100000,105000,110000,115000,120000,125000,130000,135000,140000,145000,150000,155000,160000,165000,170000,175000,180000,185000,190000,195000,200000,205000,210000,215000,220000,225000,230000,235000,240000,245000,250000,255000,260000,265000,270000,275000,280000,285000,290000,295000,300000,305000,310000,315000,320000,325000,330000,335000,340000,345000,350000,355000,360000,365000,370000,375000,380000,385000,390000,395000,400000,405000,410000,415000,420000,425000,430000,435000,440000,445000,450000,455000,460000,465000,470000,475000,480000,485000,490000,495000,500000,505000,510000,515000,520000,525000,530000,535000,540000,545000,550000,555000,560000,565000,570000,575000,580000,585000,590000,595000,600000,605000,610000,615000,620000,625000,630000,635000,640000,645000,650000,655000,660000,665000,670000,675000,680000,685000,690000,695000,700000,705000,710000,715000,720000,725000,730000,735000,740000,745000,750000,755000,760000,765000,770000,775000,780000,785000,790000,795000,800000,805000,810000,815000,820000,825000,830000,835000,840000,845000,850000,855000,860000,865000,870000,875000,880000,885000,890000,895000,900000,905000,910000,915000,920000,925000,930000,935000,940000,945000,950000,955000,960000,965000,970000,975000,980000,985000,990000,995000,1000000,1005000,1010000,1015000,1020000,1025000,1030000,1035000,1040000,1045000,1050000,1055000,1060000,1065000,1070000,1075000,1080000,1085000,1090000,1095000,1100000,1105000,1110000],\"y\":[-20.0,-20.375,-20.64285714,-20.61111111,-20.625,-20.56666667,-20.58333333,-20.58536585,-20.55319149,-20.51923077,-20.53448276,-20.53968254,-20.53623188,-20.53333333,-20.525,-20.5,-20.47826087,-20.47916667,-20.46,-20.42,-20.36,-20.32,-20.27,-20.24,-20.18,-20.13,-20.13,-20.12,-20.15,-20.11,-20.06,-20.04,-20.01,-20.01,-20.04,-20.03,-20.0,-20.05,-20.05,-20.08,-20.13,-20.18,-20.09,-20.14,-20.13,-20.17,-20.13,-20.12,-20.09,-20.1,-20.09,-20.04,-19.99,-19.93,-19.87,-19.84,-19.81,-19.76,-19.71,-19.66,-19.62,-19.53,-19.4,-19.35,-19.26,-19.19,-19.2,-19.15,-19.11,-19.05,-18.99,-18.95,-18.93,-18.94,-18.82,-18.79,-18.79,-18.77,-18.78,-18.75,-18.74,-18.74,-18.7,-18.65,-18.68,-18.65,-18.69,-18.7,-18.64,-18.58,-18.66,-18.65,-18.65,-18.58,-18.59,-18.65,-18.62,-18.67,-18.66,-18.63,-18.64,-18.57,-18.57,-18.55,-18.55,-18.58,-18.62,-18.59,-18.54,-18.53,-18.56,-18.56,-18.56,-18.51,-18.45,-18.47,-18.47,-18.51,-18.41,-18.39,-18.34,-18.26,-18.25,-18.25,-18.22,-18.28,-18.29,-18.27,-18.29,-18.35,-18.37,-18.31,-18.33,-18.24,-18.15,-18.13,-18.14,-18.11,-18.0,-17.99,-17.91,-17.89,-17.88,-17.86,-17.8,-17.68,-17.68,-17.62,-17.6,-17.6,-17.5,-17.46,-17.42,-17.36,-17.32,-17.34,-17.26,-17.24,-17.17,-17.09,-17.05,-17.03,-17.01,-16.91,-16.91,-16.79,-16.66,-16.56,-16.47,-16.44,-16.24,-16.08,-15.94,-15.79,-15.72,-15.61,-15.47,-15.41,-15.25,-15.11,-15.03,-14.86,-14.75,-14.69,-14.46,-14.34,-14.26,-14.21,-13.99,-13.91,-13.65,-13.47,-13.33,-13.22,-13.07,-12.7,-12.61,-12.36,-12.24,-12.0,-11.72,-11.46,-11.33,-11.17,-11.14,-10.87,-10.56,-10.51,-10.23,-10.0,-9.62,-9.32,-9.03,-8.84,-8.48,-8.35,-8.04,-7.86,-7.65,-7.34,-6.94,-6.28],\"type\":\"scatter\"}],                        {\"template\":{\"data\":{\"histogram2dcontour\":[{\"type\":\"histogram2dcontour\",\"colorbar\":{\"outlinewidth\":0,\"ticks\":\"\"},\"colorscale\":[[0.0,\"#0d0887\"],[0.1111111111111111,\"#46039f\"],[0.2222222222222222,\"#7201a8\"],[0.3333333333333333,\"#9c179e\"],[0.4444444444444444,\"#bd3786\"],[0.5555555555555556,\"#d8576b\"],[0.6666666666666666,\"#ed7953\"],[0.7777777777777778,\"#fb9f3a\"],[0.8888888888888888,\"#fdca26\"],[1.0,\"#f0f921\"]]}],\"choropleth\":[{\"type\":\"choropleth\",\"colorbar\":{\"outlinewidth\":0,\"ticks\":\"\"}}],\"histogram2d\":[{\"type\":\"histogram2d\",\"colorbar\":{\"outlinewidth\":0,\"ticks\":\"\"},\"colorscale\":[[0.0,\"#0d0887\"],[0.1111111111111111,\"#46039f\"],[0.2222222222222222,\"#7201a8\"],[0.3333333333333333,\"#9c179e\"],[0.4444444444444444,\"#bd3786\"],[0.5555555555555556,\"#d8576b\"],[0.6666666666666666,\"#ed7953\"],[0.7777777777777778,\"#fb9f3a\"],[0.8888888888888888,\"#fdca26\"],[1.0,\"#f0f921\"]]}],\"heatmap\":[{\"type\":\"heatmap\",\"colorbar\":{\"outlinewidth\":0,\"ticks\":\"\"},\"colorscale\":[[0.0,\"#0d0887\"],[0.1111111111111111,\"#46039f\"],[0.2222222222222222,\"#7201a8\"],[0.3333333333333333,\"#9c179e\"],[0.4444444444444444,\"#bd3786\"],[0.5555555555555556,\"#d8576b\"],[0.6666666666666666,\"#ed7953\"],[0.7777777777777778,\"#fb9f3a\"],[0.8888888888888888,\"#fdca26\"],[1.0,\"#f0f921\"]]}],\"heatmapgl\":[{\"type\":\"heatmapgl\",\"colorbar\":{\"outlinewidth\":0,\"ticks\":\"\"},\"colorscale\":[[0.0,\"#0d0887\"],[0.1111111111111111,\"#46039f\"],[0.2222222222222222,\"#7201a8\"],[0.3333333333333333,\"#9c179e\"],[0.4444444444444444,\"#bd3786\"],[0.5555555555555556,\"#d8576b\"],[0.6666666666666666,\"#ed7953\"],[0.7777777777777778,\"#fb9f3a\"],[0.8888888888888888,\"#fdca26\"],[1.0,\"#f0f921\"]]}],\"contourcarpet\":[{\"type\":\"contourcarpet\",\"colorbar\":{\"outlinewidth\":0,\"ticks\":\"\"}}],\"contour\":[{\"type\":\"contour\",\"colorbar\":{\"outlinewidth\":0,\"ticks\":\"\"},\"colorscale\":[[0.0,\"#0d0887\"],[0.1111111111111111,\"#46039f\"],[0.2222222222222222,\"#7201a8\"],[0.3333333333333333,\"#9c179e\"],[0.4444444444444444,\"#bd3786\"],[0.5555555555555556,\"#d8576b\"],[0.6666666666666666,\"#ed7953\"],[0.7777777777777778,\"#fb9f3a\"],[0.8888888888888888,\"#fdca26\"],[1.0,\"#f0f921\"]]}],\"surface\":[{\"type\":\"surface\",\"colorbar\":{\"outlinewidth\":0,\"ticks\":\"\"},\"colorscale\":[[0.0,\"#0d0887\"],[0.1111111111111111,\"#46039f\"],[0.2222222222222222,\"#7201a8\"],[0.3333333333333333,\"#9c179e\"],[0.4444444444444444,\"#bd3786\"],[0.5555555555555556,\"#d8576b\"],[0.6666666666666666,\"#ed7953\"],[0.7777777777777778,\"#fb9f3a\"],[0.8888888888888888,\"#fdca26\"],[1.0,\"#f0f921\"]]}],\"mesh3d\":[{\"type\":\"mesh3d\",\"colorbar\":{\"outlinewidth\":0,\"ticks\":\"\"}}],\"scatter\":[{\"fillpattern\":{\"fillmode\":\"overlay\",\"size\":10,\"solidity\":0.2},\"type\":\"scatter\"}],\"parcoords\":[{\"type\":\"parcoords\",\"line\":{\"colorbar\":{\"outlinewidth\":0,\"ticks\":\"\"}}}],\"scatterpolargl\":[{\"type\":\"scatterpolargl\",\"marker\":{\"colorbar\":{\"outlinewidth\":0,\"ticks\":\"\"}}}],\"bar\":[{\"error_x\":{\"color\":\"#2a3f5f\"},\"error_y\":{\"color\":\"#2a3f5f\"},\"marker\":{\"line\":{\"color\":\"#E5ECF6\",\"width\":0.5},\"pattern\":{\"fillmode\":\"overlay\",\"size\":10,\"solidity\":0.2}},\"type\":\"bar\"}],\"scattergeo\":[{\"type\":\"scattergeo\",\"marker\":{\"colorbar\":{\"outlinewidth\":0,\"ticks\":\"\"}}}],\"scatterpolar\":[{\"type\":\"scatterpolar\",\"marker\":{\"colorbar\":{\"outlinewidth\":0,\"ticks\":\"\"}}}],\"histogram\":[{\"marker\":{\"pattern\":{\"fillmode\":\"overlay\",\"size\":10,\"solidity\":0.2}},\"type\":\"histogram\"}],\"scattergl\":[{\"type\":\"scattergl\",\"marker\":{\"colorbar\":{\"outlinewidth\":0,\"ticks\":\"\"}}}],\"scatter3d\":[{\"type\":\"scatter3d\",\"line\":{\"colorbar\":{\"outlinewidth\":0,\"ticks\":\"\"}},\"marker\":{\"colorbar\":{\"outlinewidth\":0,\"ticks\":\"\"}}}],\"scattermapbox\":[{\"type\":\"scattermapbox\",\"marker\":{\"colorbar\":{\"outlinewidth\":0,\"ticks\":\"\"}}}],\"scatterternary\":[{\"type\":\"scatterternary\",\"marker\":{\"colorbar\":{\"outlinewidth\":0,\"ticks\":\"\"}}}],\"scattercarpet\":[{\"type\":\"scattercarpet\",\"marker\":{\"colorbar\":{\"outlinewidth\":0,\"ticks\":\"\"}}}],\"carpet\":[{\"aaxis\":{\"endlinecolor\":\"#2a3f5f\",\"gridcolor\":\"white\",\"linecolor\":\"white\",\"minorgridcolor\":\"white\",\"startlinecolor\":\"#2a3f5f\"},\"baxis\":{\"endlinecolor\":\"#2a3f5f\",\"gridcolor\":\"white\",\"linecolor\":\"white\",\"minorgridcolor\":\"white\",\"startlinecolor\":\"#2a3f5f\"},\"type\":\"carpet\"}],\"table\":[{\"cells\":{\"fill\":{\"color\":\"#EBF0F8\"},\"line\":{\"color\":\"white\"}},\"header\":{\"fill\":{\"color\":\"#C8D4E3\"},\"line\":{\"color\":\"white\"}},\"type\":\"table\"}],\"barpolar\":[{\"marker\":{\"line\":{\"color\":\"#E5ECF6\",\"width\":0.5},\"pattern\":{\"fillmode\":\"overlay\",\"size\":10,\"solidity\":0.2}},\"type\":\"barpolar\"}],\"pie\":[{\"automargin\":true,\"type\":\"pie\"}]},\"layout\":{\"autotypenumbers\":\"strict\",\"colorway\":[\"#636efa\",\"#EF553B\",\"#00cc96\",\"#ab63fa\",\"#FFA15A\",\"#19d3f3\",\"#FF6692\",\"#B6E880\",\"#FF97FF\",\"#FECB52\"],\"font\":{\"color\":\"#2a3f5f\"},\"hovermode\":\"closest\",\"hoverlabel\":{\"align\":\"left\"},\"paper_bgcolor\":\"white\",\"plot_bgcolor\":\"#E5ECF6\",\"polar\":{\"bgcolor\":\"#E5ECF6\",\"angularaxis\":{\"gridcolor\":\"white\",\"linecolor\":\"white\",\"ticks\":\"\"},\"radialaxis\":{\"gridcolor\":\"white\",\"linecolor\":\"white\",\"ticks\":\"\"}},\"ternary\":{\"bgcolor\":\"#E5ECF6\",\"aaxis\":{\"gridcolor\":\"white\",\"linecolor\":\"white\",\"ticks\":\"\"},\"baxis\":{\"gridcolor\":\"white\",\"linecolor\":\"white\",\"ticks\":\"\"},\"caxis\":{\"gridcolor\":\"white\",\"linecolor\":\"white\",\"ticks\":\"\"}},\"coloraxis\":{\"colorbar\":{\"outlinewidth\":0,\"ticks\":\"\"}},\"colorscale\":{\"sequential\":[[0.0,\"#0d0887\"],[0.1111111111111111,\"#46039f\"],[0.2222222222222222,\"#7201a8\"],[0.3333333333333333,\"#9c179e\"],[0.4444444444444444,\"#bd3786\"],[0.5555555555555556,\"#d8576b\"],[0.6666666666666666,\"#ed7953\"],[0.7777777777777778,\"#fb9f3a\"],[0.8888888888888888,\"#fdca26\"],[1.0,\"#f0f921\"]],\"sequentialminus\":[[0.0,\"#0d0887\"],[0.1111111111111111,\"#46039f\"],[0.2222222222222222,\"#7201a8\"],[0.3333333333333333,\"#9c179e\"],[0.4444444444444444,\"#bd3786\"],[0.5555555555555556,\"#d8576b\"],[0.6666666666666666,\"#ed7953\"],[0.7777777777777778,\"#fb9f3a\"],[0.8888888888888888,\"#fdca26\"],[1.0,\"#f0f921\"]],\"diverging\":[[0,\"#8e0152\"],[0.1,\"#c51b7d\"],[0.2,\"#de77ae\"],[0.3,\"#f1b6da\"],[0.4,\"#fde0ef\"],[0.5,\"#f7f7f7\"],[0.6,\"#e6f5d0\"],[0.7,\"#b8e186\"],[0.8,\"#7fbc41\"],[0.9,\"#4d9221\"],[1,\"#276419\"]]},\"xaxis\":{\"gridcolor\":\"white\",\"linecolor\":\"white\",\"ticks\":\"\",\"title\":{\"standoff\":15},\"zerolinecolor\":\"white\",\"automargin\":true,\"zerolinewidth\":2},\"yaxis\":{\"gridcolor\":\"white\",\"linecolor\":\"white\",\"ticks\":\"\",\"title\":{\"standoff\":15},\"zerolinecolor\":\"white\",\"automargin\":true,\"zerolinewidth\":2},\"scene\":{\"xaxis\":{\"backgroundcolor\":\"#E5ECF6\",\"gridcolor\":\"white\",\"linecolor\":\"white\",\"showbackground\":true,\"ticks\":\"\",\"zerolinecolor\":\"white\",\"gridwidth\":2},\"yaxis\":{\"backgroundcolor\":\"#E5ECF6\",\"gridcolor\":\"white\",\"linecolor\":\"white\",\"showbackground\":true,\"ticks\":\"\",\"zerolinecolor\":\"white\",\"gridwidth\":2},\"zaxis\":{\"backgroundcolor\":\"#E5ECF6\",\"gridcolor\":\"white\",\"linecolor\":\"white\",\"showbackground\":true,\"ticks\":\"\",\"zerolinecolor\":\"white\",\"gridwidth\":2}},\"shapedefaults\":{\"line\":{\"color\":\"#2a3f5f\"}},\"annotationdefaults\":{\"arrowcolor\":\"#2a3f5f\",\"arrowhead\":0,\"arrowwidth\":1},\"geo\":{\"bgcolor\":\"white\",\"landcolor\":\"#E5ECF6\",\"subunitcolor\":\"white\",\"showland\":true,\"showlakes\":true,\"lakecolor\":\"white\"},\"title\":{\"x\":0.05},\"mapbox\":{\"style\":\"light\"}}},\"title\":{\"text\":\"\"},\"xaxis\":{\"title\":{\"text\":\"Timesteps\"}},\"yaxis\":{\"title\":{\"text\":\"Mean episode reward\"}},\"legend\":{\"title\":{\"text\":\"Model\"}}},                        {\"responsive\": true}                    ).then(function(){\n",
       "                            \n",
       "var gd = document.getElementById('224a7c8e-7180-4d47-9aab-1fd619a7ffe0');\n",
       "var x = new MutationObserver(function (mutations, observer) {{\n",
       "        var display = window.getComputedStyle(gd).display;\n",
       "        if (!display || display === 'none') {{\n",
       "            console.log([gd, 'removed!']);\n",
       "            Plotly.purge(gd);\n",
       "            observer.disconnect();\n",
       "        }}\n",
       "}});\n",
       "\n",
       "// Listen for the removal of the full notebook cells\n",
       "var notebookContainer = gd.closest('#notebook-container');\n",
       "if (notebookContainer) {{\n",
       "    x.observe(notebookContainer, {childList: true});\n",
       "}}\n",
       "\n",
       "// Listen for the clearing of the current output cell\n",
       "var outputEl = gd.closest('.output');\n",
       "if (outputEl) {{\n",
       "    x.observe(outputEl, {childList: true});\n",
       "}}\n",
       "\n",
       "                        })                };                });            </script>        </div>"
      ]
     },
     "metadata": {},
     "output_type": "display_data"
    }
   ],
   "source": [
    "fig = go.Figure()\n",
    "\n",
    "fig.add_trace(go.Scatter(\n",
    "    x=df.agent_timesteps_total,\n",
    "    y=df.dqn_episode_reward_mean,\n",
    "    name=\"DQN\"\n",
    "))\n",
    "\n",
    "fig.add_trace(go.Scatter(\n",
    "    x=df.agent_timesteps_total,\n",
    "    y=df.ppo_episode_reward_mean,\n",
    "    name=\"PPO\"\n",
    "))\n",
    "\n",
    "fig.update_layout(\n",
    "    title=\"\",\n",
    "    xaxis_title=\"Timesteps\",\n",
    "    yaxis_title=\"Mean episode reward\",\n",
    "    legend_title=\"Model\")\n",
    "\n",
    "#save image\n",
    "fig.show()"
   ]
  },
  {
   "cell_type": "code",
   "execution_count": 44,
   "id": "1910f35d",
   "metadata": {},
   "outputs": [
    {
     "data": {
      "application/vnd.plotly.v1+json": {
       "config": {
        "plotlyServerURL": "https://plot.ly"
       },
       "data": [
        {
         "name": "DQN",
         "type": "scatter",
         "x": [
          5000,
          10000,
          15000,
          20000,
          25000,
          30000,
          35000,
          40000,
          45000,
          50000,
          55000,
          60000,
          65000,
          70000,
          75000,
          80000,
          85000,
          90000,
          95000,
          100000,
          105000,
          110000,
          115000,
          120000,
          125000,
          130000,
          135000,
          140000,
          145000,
          150000,
          155000,
          160000,
          165000,
          170000,
          175000,
          180000,
          185000,
          190000,
          195000,
          200000,
          205000,
          210000,
          215000,
          220000,
          225000,
          230000,
          235000,
          240000,
          245000,
          250000,
          255000,
          260000,
          265000,
          270000,
          275000,
          280000,
          285000,
          290000,
          295000,
          300000,
          305000,
          310000,
          315000,
          320000,
          325000,
          330000,
          335000,
          340000,
          345000,
          350000,
          355000,
          360000,
          365000,
          370000,
          375000,
          380000,
          385000,
          390000,
          395000,
          400000,
          405000,
          410000,
          415000,
          420000,
          425000,
          430000,
          435000,
          440000,
          445000,
          450000,
          455000,
          460000,
          465000,
          470000,
          475000,
          480000,
          485000,
          490000,
          495000,
          500000,
          505000,
          510000,
          515000,
          520000,
          525000,
          530000,
          535000,
          540000,
          545000,
          550000,
          555000,
          560000,
          565000,
          570000,
          575000,
          580000,
          585000,
          590000,
          595000,
          600000,
          605000,
          610000,
          615000,
          620000,
          625000,
          630000,
          635000,
          640000,
          645000,
          650000,
          655000,
          660000,
          665000,
          670000,
          675000,
          680000,
          685000,
          690000,
          695000,
          700000,
          705000,
          710000,
          715000,
          720000,
          725000,
          730000,
          735000,
          740000,
          745000,
          750000,
          755000,
          760000,
          765000,
          770000,
          775000,
          780000,
          785000,
          790000,
          795000,
          800000,
          805000,
          810000,
          815000,
          820000,
          825000,
          830000,
          835000,
          840000,
          845000,
          850000,
          855000,
          860000,
          865000,
          870000,
          875000,
          880000,
          885000,
          890000,
          895000,
          900000,
          905000,
          910000,
          915000,
          920000,
          925000,
          930000,
          935000,
          940000,
          945000,
          950000,
          955000,
          960000,
          965000,
          970000,
          975000,
          980000,
          985000,
          990000,
          995000,
          1000000,
          1005000,
          1010000,
          1015000,
          1020000,
          1025000,
          1030000,
          1035000,
          1040000,
          1045000,
          1050000,
          1055000,
          1060000,
          1065000,
          1070000,
          1075000,
          1080000,
          1085000,
          1090000,
          1095000,
          1100000,
          1105000,
          1110000
         ],
         "y": [
          970.5,
          952.7142857,
          951.6153846,
          924.5789474,
          919.68,
          915.2580645,
          910.0277778,
          912.4146341,
          918.1276596,
          915.3584906,
          917.1724138,
          914.828125,
          915,
          915.7432432,
          926.8860759,
          931.3809524,
          930.4065934,
          926.1458333,
          926.09,
          923.64,
          919.32,
          924.49,
          924.31,
          926.1,
          925.84,
          925.98,
          923.14,
          922.63,
          921.54,
          917.55,
          916.29,
          914.12,
          906.78,
          900.3,
          902.48,
          900.65,
          897.81,
          896.26,
          891.04,
          891.25,
          882.67,
          887.86,
          891.91,
          888.2,
          882.74,
          879.42,
          880.54,
          877.08,
          878.99,
          876.56,
          877.12,
          872.4,
          874.6,
          872.61,
          869.35,
          872.61,
          868.91,
          873.07,
          867.5,
          860.97,
          863.82,
          866.72,
          869.09,
          867.83,
          873.25,
          870.32,
          870.04,
          868.58,
          869.46,
          869.5,
          872.35,
          874.54,
          879.08,
          883.35,
          881.41,
          880.69,
          881.28,
          881.77,
          883.35,
          880.34,
          878.15,
          873.79,
          872.58,
          876.14,
          880.74,
          882.27,
          888.97,
          899.68,
          907.38,
          914.72,
          907.39,
          909.56,
          930.43,
          938.16,
          953.88,
          969.89,
          985.78,
          995.51,
          1010.4,
          1027.62,
          1046.69,
          1069.08,
          1083.6,
          1106.16,
          1109.26,
          1131.62,
          1185.64,
          1206.88,
          1210.07,
          1246.05,
          1259.78,
          1362.49,
          1372.8,
          1402.67,
          1410.81,
          1454.34,
          1509.55,
          1540.36,
          1587.68,
          1596.01,
          1621.03,
          1646.43,
          1646.43,
          1669.2,
          1731.15,
          1790.2,
          1802.5,
          1818.36,
          1841.79,
          1927.26,
          1951.68,
          1951.68,
          1951.68,
          1976.09,
          1976.09,
          2084.42,
          2124.74,
          2124.74,
          2124.74,
          2236.11,
          2323.66,
          2424.67,
          2451.28,
          2451.28,
          2468.51,
          2484.88,
          2484.88,
          2533.83,
          2611.73,
          2661.87,
          2673.59,
          2777.93,
          2812.12,
          2856.72,
          2927.54,
          2927.54,
          2954.32,
          2954.32,
          2990.62,
          3089.98,
          3128.86,
          3128.21,
          3159.78,
          3180.31,
          3214.65,
          3262.23,
          3262.23,
          3262.23,
          3325.32,
          3491.58,
          3534.24,
          3541.75,
          3541.75,
          3557.12,
          3557.12,
          3605.38,
          3605.38,
          3636,
          3636,
          3763.97,
          3763.97,
          3900.93,
          3924.86,
          3924.86,
          3977.91,
          3977.91,
          4013.74,
          4097.97,
          4097.97,
          4143.33,
          4143.33,
          4185.97,
          4185.97,
          4279.53,
          4279.53,
          4340.65,
          4340.65,
          4347.18,
          4396.09,
          4396.09,
          4439.73,
          4439.73,
          4439.66,
          4471.04,
          4471.04,
          4580.07,
          4642.68,
          4691.73,
          4684.06,
          4686.51,
          4686.51,
          4699.01,
          4699.01,
          4732.84,
          4732.84,
          4732.84,
          4800.18,
          4871.54,
          4940.46,
          4943.41,
          4990.82,
          4990.82
         ]
        },
        {
         "name": "PPO",
         "type": "scatter",
         "x": [
          5000,
          10000,
          15000,
          20000,
          25000,
          30000,
          35000,
          40000,
          45000,
          50000,
          55000,
          60000,
          65000,
          70000,
          75000,
          80000,
          85000,
          90000,
          95000,
          100000,
          105000,
          110000,
          115000,
          120000,
          125000,
          130000,
          135000,
          140000,
          145000,
          150000,
          155000,
          160000,
          165000,
          170000,
          175000,
          180000,
          185000,
          190000,
          195000,
          200000,
          205000,
          210000,
          215000,
          220000,
          225000,
          230000,
          235000,
          240000,
          245000,
          250000,
          255000,
          260000,
          265000,
          270000,
          275000,
          280000,
          285000,
          290000,
          295000,
          300000,
          305000,
          310000,
          315000,
          320000,
          325000,
          330000,
          335000,
          340000,
          345000,
          350000,
          355000,
          360000,
          365000,
          370000,
          375000,
          380000,
          385000,
          390000,
          395000,
          400000,
          405000,
          410000,
          415000,
          420000,
          425000,
          430000,
          435000,
          440000,
          445000,
          450000,
          455000,
          460000,
          465000,
          470000,
          475000,
          480000,
          485000,
          490000,
          495000,
          500000,
          505000,
          510000,
          515000,
          520000,
          525000,
          530000,
          535000,
          540000,
          545000,
          550000,
          555000,
          560000,
          565000,
          570000,
          575000,
          580000,
          585000,
          590000,
          595000,
          600000,
          605000,
          610000,
          615000,
          620000,
          625000,
          630000,
          635000,
          640000,
          645000,
          650000,
          655000,
          660000,
          665000,
          670000,
          675000,
          680000,
          685000,
          690000,
          695000,
          700000,
          705000,
          710000,
          715000,
          720000,
          725000,
          730000,
          735000,
          740000,
          745000,
          750000,
          755000,
          760000,
          765000,
          770000,
          775000,
          780000,
          785000,
          790000,
          795000,
          800000,
          805000,
          810000,
          815000,
          820000,
          825000,
          830000,
          835000,
          840000,
          845000,
          850000,
          855000,
          860000,
          865000,
          870000,
          875000,
          880000,
          885000,
          890000,
          895000,
          900000,
          905000,
          910000,
          915000,
          920000,
          925000,
          930000,
          935000,
          940000,
          945000,
          950000,
          955000,
          960000,
          965000,
          970000,
          975000,
          980000,
          985000,
          990000,
          995000,
          1000000,
          1005000,
          1010000,
          1015000,
          1020000,
          1025000,
          1030000,
          1035000,
          1040000,
          1045000,
          1050000,
          1055000,
          1060000,
          1065000,
          1070000,
          1075000,
          1080000,
          1085000,
          1090000,
          1095000,
          1100000,
          1105000,
          1110000
         ],
         "y": [
          1039.5,
          938.875,
          903,
          922.8888889,
          935.7083333,
          932.7333333,
          920.4166667,
          923.5121951,
          919.5319149,
          920.75,
          913.1206897,
          914.3015873,
          916.2173913,
          917.24,
          915.4375,
          919.3023256,
          918.7065217,
          918.0833333,
          918,
          921.62,
          929.55,
          929.39,
          930.96,
          933.43,
          939.25,
          946.64,
          943,
          947.39,
          945.16,
          952.77,
          958.01,
          957.32,
          958.35,
          957.26,
          955.63,
          960.11,
          963.08,
          961.7,
          961.61,
          955.6,
          950.72,
          944.17,
          954.82,
          952.65,
          954.43,
          957.44,
          963.64,
          968.28,
          973.89,
          976.9,
          985.6,
          995.37,
          1010.69,
          1021.85,
          1029.46,
          1044.44,
          1055.05,
          1069.16,
          1082.32,
          1093.83,
          1109.69,
          1127.55,
          1144.97,
          1152.46,
          1176.23,
          1196.05,
          1204.34,
          1217.24,
          1228.21,
          1243.23,
          1254.46,
          1268.93,
          1278.12,
          1289.86,
          1305.69,
          1319.98,
          1318.11,
          1334.95,
          1339.99,
          1343.05,
          1351.5,
          1365.93,
          1374.43,
          1386.18,
          1388.92,
          1400.06,
          1409.78,
          1411.82,
          1428.88,
          1439.93,
          1446.23,
          1456.06,
          1459.33,
          1470.88,
          1472.47,
          1482.39,
          1493.11,
          1500.87,
          1510.23,
          1520.16,
          1525.95,
          1546.05,
          1548.41,
          1564.14,
          1570.68,
          1573.75,
          1579.3,
          1597.57,
          1610.52,
          1620.24,
          1626.27,
          1636.79,
          1650.97,
          1662.3,
          1684.04,
          1694.89,
          1701.29,
          1710.44,
          1725.83,
          1735.57,
          1747.09,
          1766.82,
          1774.91,
          1777.94,
          1789.43,
          1797.98,
          1799.9,
          1808.18,
          1817.43,
          1819.25,
          1830,
          1841.43,
          1844.64,
          1861.18,
          1872.33,
          1878.57,
          1894.13,
          1902.65,
          1920.57,
          1921.49,
          1934.58,
          1945.72,
          1956.37,
          1964.26,
          1983.71,
          2004.45,
          2007.89,
          2012.55,
          2025.53,
          2032.36,
          2046.53,
          2053.33,
          2061.46,
          2072.21,
          2077.14,
          2086.63,
          2094,
          2101.99,
          2111.51,
          2124.32,
          2128.22,
          2129.42,
          2132.28,
          2142.06,
          2146.66,
          2162.66,
          2171.18,
          2174.74,
          2178.91,
          2185.41,
          2208.35,
          2227.62,
          2240.81,
          2251.85,
          2265.57,
          2274.95,
          2288,
          2296.17,
          2302.07,
          2312.02,
          2317.55,
          2323.14,
          2323.14,
          2325.46,
          2335.1,
          2344.41,
          2349.47,
          2350.9,
          2360.96,
          2364.54,
          2377.43,
          2382.88,
          2390.96,
          2395.21,
          2402.59,
          2420.44,
          2421.31,
          2436.13,
          2441.99,
          2455.42,
          2471.04,
          2484.5,
          2489.53,
          2497.53,
          2496.62,
          2506.51,
          2528.78,
          2529.58,
          2539.35,
          2556.65,
          2561.75,
          2564.27,
          2580.83,
          2591.87,
          2596.91,
          2607.05,
          2620.81,
          2627.46,
          2630.01,
          2643.28,
          2648.43,
          2659.87
         ]
        }
       ],
       "layout": {
        "legend": {
         "title": {
          "text": "Model"
         }
        },
        "template": {
         "data": {
          "bar": [
           {
            "error_x": {
             "color": "#2a3f5f"
            },
            "error_y": {
             "color": "#2a3f5f"
            },
            "marker": {
             "line": {
              "color": "#E5ECF6",
              "width": 0.5
             },
             "pattern": {
              "fillmode": "overlay",
              "size": 10,
              "solidity": 0.2
             }
            },
            "type": "bar"
           }
          ],
          "barpolar": [
           {
            "marker": {
             "line": {
              "color": "#E5ECF6",
              "width": 0.5
             },
             "pattern": {
              "fillmode": "overlay",
              "size": 10,
              "solidity": 0.2
             }
            },
            "type": "barpolar"
           }
          ],
          "carpet": [
           {
            "aaxis": {
             "endlinecolor": "#2a3f5f",
             "gridcolor": "white",
             "linecolor": "white",
             "minorgridcolor": "white",
             "startlinecolor": "#2a3f5f"
            },
            "baxis": {
             "endlinecolor": "#2a3f5f",
             "gridcolor": "white",
             "linecolor": "white",
             "minorgridcolor": "white",
             "startlinecolor": "#2a3f5f"
            },
            "type": "carpet"
           }
          ],
          "choropleth": [
           {
            "colorbar": {
             "outlinewidth": 0,
             "ticks": ""
            },
            "type": "choropleth"
           }
          ],
          "contour": [
           {
            "colorbar": {
             "outlinewidth": 0,
             "ticks": ""
            },
            "colorscale": [
             [
              0,
              "#0d0887"
             ],
             [
              0.1111111111111111,
              "#46039f"
             ],
             [
              0.2222222222222222,
              "#7201a8"
             ],
             [
              0.3333333333333333,
              "#9c179e"
             ],
             [
              0.4444444444444444,
              "#bd3786"
             ],
             [
              0.5555555555555556,
              "#d8576b"
             ],
             [
              0.6666666666666666,
              "#ed7953"
             ],
             [
              0.7777777777777778,
              "#fb9f3a"
             ],
             [
              0.8888888888888888,
              "#fdca26"
             ],
             [
              1,
              "#f0f921"
             ]
            ],
            "type": "contour"
           }
          ],
          "contourcarpet": [
           {
            "colorbar": {
             "outlinewidth": 0,
             "ticks": ""
            },
            "type": "contourcarpet"
           }
          ],
          "heatmap": [
           {
            "colorbar": {
             "outlinewidth": 0,
             "ticks": ""
            },
            "colorscale": [
             [
              0,
              "#0d0887"
             ],
             [
              0.1111111111111111,
              "#46039f"
             ],
             [
              0.2222222222222222,
              "#7201a8"
             ],
             [
              0.3333333333333333,
              "#9c179e"
             ],
             [
              0.4444444444444444,
              "#bd3786"
             ],
             [
              0.5555555555555556,
              "#d8576b"
             ],
             [
              0.6666666666666666,
              "#ed7953"
             ],
             [
              0.7777777777777778,
              "#fb9f3a"
             ],
             [
              0.8888888888888888,
              "#fdca26"
             ],
             [
              1,
              "#f0f921"
             ]
            ],
            "type": "heatmap"
           }
          ],
          "heatmapgl": [
           {
            "colorbar": {
             "outlinewidth": 0,
             "ticks": ""
            },
            "colorscale": [
             [
              0,
              "#0d0887"
             ],
             [
              0.1111111111111111,
              "#46039f"
             ],
             [
              0.2222222222222222,
              "#7201a8"
             ],
             [
              0.3333333333333333,
              "#9c179e"
             ],
             [
              0.4444444444444444,
              "#bd3786"
             ],
             [
              0.5555555555555556,
              "#d8576b"
             ],
             [
              0.6666666666666666,
              "#ed7953"
             ],
             [
              0.7777777777777778,
              "#fb9f3a"
             ],
             [
              0.8888888888888888,
              "#fdca26"
             ],
             [
              1,
              "#f0f921"
             ]
            ],
            "type": "heatmapgl"
           }
          ],
          "histogram": [
           {
            "marker": {
             "pattern": {
              "fillmode": "overlay",
              "size": 10,
              "solidity": 0.2
             }
            },
            "type": "histogram"
           }
          ],
          "histogram2d": [
           {
            "colorbar": {
             "outlinewidth": 0,
             "ticks": ""
            },
            "colorscale": [
             [
              0,
              "#0d0887"
             ],
             [
              0.1111111111111111,
              "#46039f"
             ],
             [
              0.2222222222222222,
              "#7201a8"
             ],
             [
              0.3333333333333333,
              "#9c179e"
             ],
             [
              0.4444444444444444,
              "#bd3786"
             ],
             [
              0.5555555555555556,
              "#d8576b"
             ],
             [
              0.6666666666666666,
              "#ed7953"
             ],
             [
              0.7777777777777778,
              "#fb9f3a"
             ],
             [
              0.8888888888888888,
              "#fdca26"
             ],
             [
              1,
              "#f0f921"
             ]
            ],
            "type": "histogram2d"
           }
          ],
          "histogram2dcontour": [
           {
            "colorbar": {
             "outlinewidth": 0,
             "ticks": ""
            },
            "colorscale": [
             [
              0,
              "#0d0887"
             ],
             [
              0.1111111111111111,
              "#46039f"
             ],
             [
              0.2222222222222222,
              "#7201a8"
             ],
             [
              0.3333333333333333,
              "#9c179e"
             ],
             [
              0.4444444444444444,
              "#bd3786"
             ],
             [
              0.5555555555555556,
              "#d8576b"
             ],
             [
              0.6666666666666666,
              "#ed7953"
             ],
             [
              0.7777777777777778,
              "#fb9f3a"
             ],
             [
              0.8888888888888888,
              "#fdca26"
             ],
             [
              1,
              "#f0f921"
             ]
            ],
            "type": "histogram2dcontour"
           }
          ],
          "mesh3d": [
           {
            "colorbar": {
             "outlinewidth": 0,
             "ticks": ""
            },
            "type": "mesh3d"
           }
          ],
          "parcoords": [
           {
            "line": {
             "colorbar": {
              "outlinewidth": 0,
              "ticks": ""
             }
            },
            "type": "parcoords"
           }
          ],
          "pie": [
           {
            "automargin": true,
            "type": "pie"
           }
          ],
          "scatter": [
           {
            "fillpattern": {
             "fillmode": "overlay",
             "size": 10,
             "solidity": 0.2
            },
            "type": "scatter"
           }
          ],
          "scatter3d": [
           {
            "line": {
             "colorbar": {
              "outlinewidth": 0,
              "ticks": ""
             }
            },
            "marker": {
             "colorbar": {
              "outlinewidth": 0,
              "ticks": ""
             }
            },
            "type": "scatter3d"
           }
          ],
          "scattercarpet": [
           {
            "marker": {
             "colorbar": {
              "outlinewidth": 0,
              "ticks": ""
             }
            },
            "type": "scattercarpet"
           }
          ],
          "scattergeo": [
           {
            "marker": {
             "colorbar": {
              "outlinewidth": 0,
              "ticks": ""
             }
            },
            "type": "scattergeo"
           }
          ],
          "scattergl": [
           {
            "marker": {
             "colorbar": {
              "outlinewidth": 0,
              "ticks": ""
             }
            },
            "type": "scattergl"
           }
          ],
          "scattermapbox": [
           {
            "marker": {
             "colorbar": {
              "outlinewidth": 0,
              "ticks": ""
             }
            },
            "type": "scattermapbox"
           }
          ],
          "scatterpolar": [
           {
            "marker": {
             "colorbar": {
              "outlinewidth": 0,
              "ticks": ""
             }
            },
            "type": "scatterpolar"
           }
          ],
          "scatterpolargl": [
           {
            "marker": {
             "colorbar": {
              "outlinewidth": 0,
              "ticks": ""
             }
            },
            "type": "scatterpolargl"
           }
          ],
          "scatterternary": [
           {
            "marker": {
             "colorbar": {
              "outlinewidth": 0,
              "ticks": ""
             }
            },
            "type": "scatterternary"
           }
          ],
          "surface": [
           {
            "colorbar": {
             "outlinewidth": 0,
             "ticks": ""
            },
            "colorscale": [
             [
              0,
              "#0d0887"
             ],
             [
              0.1111111111111111,
              "#46039f"
             ],
             [
              0.2222222222222222,
              "#7201a8"
             ],
             [
              0.3333333333333333,
              "#9c179e"
             ],
             [
              0.4444444444444444,
              "#bd3786"
             ],
             [
              0.5555555555555556,
              "#d8576b"
             ],
             [
              0.6666666666666666,
              "#ed7953"
             ],
             [
              0.7777777777777778,
              "#fb9f3a"
             ],
             [
              0.8888888888888888,
              "#fdca26"
             ],
             [
              1,
              "#f0f921"
             ]
            ],
            "type": "surface"
           }
          ],
          "table": [
           {
            "cells": {
             "fill": {
              "color": "#EBF0F8"
             },
             "line": {
              "color": "white"
             }
            },
            "header": {
             "fill": {
              "color": "#C8D4E3"
             },
             "line": {
              "color": "white"
             }
            },
            "type": "table"
           }
          ]
         },
         "layout": {
          "annotationdefaults": {
           "arrowcolor": "#2a3f5f",
           "arrowhead": 0,
           "arrowwidth": 1
          },
          "autotypenumbers": "strict",
          "coloraxis": {
           "colorbar": {
            "outlinewidth": 0,
            "ticks": ""
           }
          },
          "colorscale": {
           "diverging": [
            [
             0,
             "#8e0152"
            ],
            [
             0.1,
             "#c51b7d"
            ],
            [
             0.2,
             "#de77ae"
            ],
            [
             0.3,
             "#f1b6da"
            ],
            [
             0.4,
             "#fde0ef"
            ],
            [
             0.5,
             "#f7f7f7"
            ],
            [
             0.6,
             "#e6f5d0"
            ],
            [
             0.7,
             "#b8e186"
            ],
            [
             0.8,
             "#7fbc41"
            ],
            [
             0.9,
             "#4d9221"
            ],
            [
             1,
             "#276419"
            ]
           ],
           "sequential": [
            [
             0,
             "#0d0887"
            ],
            [
             0.1111111111111111,
             "#46039f"
            ],
            [
             0.2222222222222222,
             "#7201a8"
            ],
            [
             0.3333333333333333,
             "#9c179e"
            ],
            [
             0.4444444444444444,
             "#bd3786"
            ],
            [
             0.5555555555555556,
             "#d8576b"
            ],
            [
             0.6666666666666666,
             "#ed7953"
            ],
            [
             0.7777777777777778,
             "#fb9f3a"
            ],
            [
             0.8888888888888888,
             "#fdca26"
            ],
            [
             1,
             "#f0f921"
            ]
           ],
           "sequentialminus": [
            [
             0,
             "#0d0887"
            ],
            [
             0.1111111111111111,
             "#46039f"
            ],
            [
             0.2222222222222222,
             "#7201a8"
            ],
            [
             0.3333333333333333,
             "#9c179e"
            ],
            [
             0.4444444444444444,
             "#bd3786"
            ],
            [
             0.5555555555555556,
             "#d8576b"
            ],
            [
             0.6666666666666666,
             "#ed7953"
            ],
            [
             0.7777777777777778,
             "#fb9f3a"
            ],
            [
             0.8888888888888888,
             "#fdca26"
            ],
            [
             1,
             "#f0f921"
            ]
           ]
          },
          "colorway": [
           "#636efa",
           "#EF553B",
           "#00cc96",
           "#ab63fa",
           "#FFA15A",
           "#19d3f3",
           "#FF6692",
           "#B6E880",
           "#FF97FF",
           "#FECB52"
          ],
          "font": {
           "color": "#2a3f5f"
          },
          "geo": {
           "bgcolor": "white",
           "lakecolor": "white",
           "landcolor": "#E5ECF6",
           "showlakes": true,
           "showland": true,
           "subunitcolor": "white"
          },
          "hoverlabel": {
           "align": "left"
          },
          "hovermode": "closest",
          "mapbox": {
           "style": "light"
          },
          "paper_bgcolor": "white",
          "plot_bgcolor": "#E5ECF6",
          "polar": {
           "angularaxis": {
            "gridcolor": "white",
            "linecolor": "white",
            "ticks": ""
           },
           "bgcolor": "#E5ECF6",
           "radialaxis": {
            "gridcolor": "white",
            "linecolor": "white",
            "ticks": ""
           }
          },
          "scene": {
           "xaxis": {
            "backgroundcolor": "#E5ECF6",
            "gridcolor": "white",
            "gridwidth": 2,
            "linecolor": "white",
            "showbackground": true,
            "ticks": "",
            "zerolinecolor": "white"
           },
           "yaxis": {
            "backgroundcolor": "#E5ECF6",
            "gridcolor": "white",
            "gridwidth": 2,
            "linecolor": "white",
            "showbackground": true,
            "ticks": "",
            "zerolinecolor": "white"
           },
           "zaxis": {
            "backgroundcolor": "#E5ECF6",
            "gridcolor": "white",
            "gridwidth": 2,
            "linecolor": "white",
            "showbackground": true,
            "ticks": "",
            "zerolinecolor": "white"
           }
          },
          "shapedefaults": {
           "line": {
            "color": "#2a3f5f"
           }
          },
          "ternary": {
           "aaxis": {
            "gridcolor": "white",
            "linecolor": "white",
            "ticks": ""
           },
           "baxis": {
            "gridcolor": "white",
            "linecolor": "white",
            "ticks": ""
           },
           "bgcolor": "#E5ECF6",
           "caxis": {
            "gridcolor": "white",
            "linecolor": "white",
            "ticks": ""
           }
          },
          "title": {
           "x": 0.05
          },
          "xaxis": {
           "automargin": true,
           "gridcolor": "white",
           "linecolor": "white",
           "ticks": "",
           "title": {
            "standoff": 15
           },
           "zerolinecolor": "white",
           "zerolinewidth": 2
          },
          "yaxis": {
           "automargin": true,
           "gridcolor": "white",
           "linecolor": "white",
           "ticks": "",
           "title": {
            "standoff": 15
           },
           "zerolinecolor": "white",
           "zerolinewidth": 2
          }
         }
        },
        "title": {
         "text": ""
        },
        "xaxis": {
         "title": {
          "text": "Timesteps"
         }
        },
        "yaxis": {
         "title": {
          "text": "Mean episode length"
         }
        }
       }
      },
      "text/html": [
       "<div>                            <div id=\"32ac831a-5b18-43a9-b848-b4dc5cd2e6b1\" class=\"plotly-graph-div\" style=\"height:525px; width:100%;\"></div>            <script type=\"text/javascript\">                require([\"plotly\"], function(Plotly) {                    window.PLOTLYENV=window.PLOTLYENV || {};                                    if (document.getElementById(\"32ac831a-5b18-43a9-b848-b4dc5cd2e6b1\")) {                    Plotly.newPlot(                        \"32ac831a-5b18-43a9-b848-b4dc5cd2e6b1\",                        [{\"name\":\"DQN\",\"x\":[5000,10000,15000,20000,25000,30000,35000,40000,45000,50000,55000,60000,65000,70000,75000,80000,85000,90000,95000,100000,105000,110000,115000,120000,125000,130000,135000,140000,145000,150000,155000,160000,165000,170000,175000,180000,185000,190000,195000,200000,205000,210000,215000,220000,225000,230000,235000,240000,245000,250000,255000,260000,265000,270000,275000,280000,285000,290000,295000,300000,305000,310000,315000,320000,325000,330000,335000,340000,345000,350000,355000,360000,365000,370000,375000,380000,385000,390000,395000,400000,405000,410000,415000,420000,425000,430000,435000,440000,445000,450000,455000,460000,465000,470000,475000,480000,485000,490000,495000,500000,505000,510000,515000,520000,525000,530000,535000,540000,545000,550000,555000,560000,565000,570000,575000,580000,585000,590000,595000,600000,605000,610000,615000,620000,625000,630000,635000,640000,645000,650000,655000,660000,665000,670000,675000,680000,685000,690000,695000,700000,705000,710000,715000,720000,725000,730000,735000,740000,745000,750000,755000,760000,765000,770000,775000,780000,785000,790000,795000,800000,805000,810000,815000,820000,825000,830000,835000,840000,845000,850000,855000,860000,865000,870000,875000,880000,885000,890000,895000,900000,905000,910000,915000,920000,925000,930000,935000,940000,945000,950000,955000,960000,965000,970000,975000,980000,985000,990000,995000,1000000,1005000,1010000,1015000,1020000,1025000,1030000,1035000,1040000,1045000,1050000,1055000,1060000,1065000,1070000,1075000,1080000,1085000,1090000,1095000,1100000,1105000,1110000],\"y\":[970.5,952.7142857,951.6153846,924.5789474,919.68,915.2580645,910.0277778,912.4146341,918.1276596,915.3584906,917.1724138,914.828125,915.0,915.7432432,926.8860759,931.3809524,930.4065934,926.1458333,926.09,923.64,919.32,924.49,924.31,926.1,925.84,925.98,923.14,922.63,921.54,917.55,916.29,914.12,906.78,900.3,902.48,900.65,897.81,896.26,891.04,891.25,882.67,887.86,891.91,888.2,882.74,879.42,880.54,877.08,878.99,876.56,877.12,872.4,874.6,872.61,869.35,872.61,868.91,873.07,867.5,860.97,863.82,866.72,869.09,867.83,873.25,870.32,870.04,868.58,869.46,869.5,872.35,874.54,879.08,883.35,881.41,880.69,881.28,881.77,883.35,880.34,878.15,873.79,872.58,876.14,880.74,882.27,888.97,899.68,907.38,914.72,907.39,909.56,930.43,938.16,953.88,969.89,985.78,995.51,1010.4,1027.62,1046.69,1069.08,1083.6,1106.16,1109.26,1131.62,1185.64,1206.88,1210.07,1246.05,1259.78,1362.49,1372.8,1402.67,1410.81,1454.34,1509.55,1540.36,1587.68,1596.01,1621.03,1646.43,1646.43,1669.2,1731.15,1790.2,1802.5,1818.36,1841.79,1927.26,1951.68,1951.68,1951.68,1976.09,1976.09,2084.42,2124.74,2124.74,2124.74,2236.11,2323.66,2424.67,2451.28,2451.28,2468.51,2484.88,2484.88,2533.83,2611.73,2661.87,2673.59,2777.93,2812.12,2856.72,2927.54,2927.54,2954.32,2954.32,2990.62,3089.98,3128.86,3128.21,3159.78,3180.31,3214.65,3262.23,3262.23,3262.23,3325.32,3491.58,3534.24,3541.75,3541.75,3557.12,3557.12,3605.38,3605.38,3636.0,3636.0,3763.97,3763.97,3900.93,3924.86,3924.86,3977.91,3977.91,4013.74,4097.97,4097.97,4143.33,4143.33,4185.97,4185.97,4279.53,4279.53,4340.65,4340.65,4347.18,4396.09,4396.09,4439.73,4439.73,4439.66,4471.04,4471.04,4580.07,4642.68,4691.73,4684.06,4686.51,4686.51,4699.01,4699.01,4732.84,4732.84,4732.84,4800.18,4871.54,4940.46,4943.41,4990.82,4990.82],\"type\":\"scatter\"},{\"name\":\"PPO\",\"x\":[5000,10000,15000,20000,25000,30000,35000,40000,45000,50000,55000,60000,65000,70000,75000,80000,85000,90000,95000,100000,105000,110000,115000,120000,125000,130000,135000,140000,145000,150000,155000,160000,165000,170000,175000,180000,185000,190000,195000,200000,205000,210000,215000,220000,225000,230000,235000,240000,245000,250000,255000,260000,265000,270000,275000,280000,285000,290000,295000,300000,305000,310000,315000,320000,325000,330000,335000,340000,345000,350000,355000,360000,365000,370000,375000,380000,385000,390000,395000,400000,405000,410000,415000,420000,425000,430000,435000,440000,445000,450000,455000,460000,465000,470000,475000,480000,485000,490000,495000,500000,505000,510000,515000,520000,525000,530000,535000,540000,545000,550000,555000,560000,565000,570000,575000,580000,585000,590000,595000,600000,605000,610000,615000,620000,625000,630000,635000,640000,645000,650000,655000,660000,665000,670000,675000,680000,685000,690000,695000,700000,705000,710000,715000,720000,725000,730000,735000,740000,745000,750000,755000,760000,765000,770000,775000,780000,785000,790000,795000,800000,805000,810000,815000,820000,825000,830000,835000,840000,845000,850000,855000,860000,865000,870000,875000,880000,885000,890000,895000,900000,905000,910000,915000,920000,925000,930000,935000,940000,945000,950000,955000,960000,965000,970000,975000,980000,985000,990000,995000,1000000,1005000,1010000,1015000,1020000,1025000,1030000,1035000,1040000,1045000,1050000,1055000,1060000,1065000,1070000,1075000,1080000,1085000,1090000,1095000,1100000,1105000,1110000],\"y\":[1039.5,938.875,903.0,922.8888889,935.7083333,932.7333333,920.4166667,923.5121951,919.5319149,920.75,913.1206897,914.3015873,916.2173913,917.24,915.4375,919.3023256,918.7065217,918.0833333,918.0,921.62,929.55,929.39,930.96,933.43,939.25,946.64,943.0,947.39,945.16,952.77,958.01,957.32,958.35,957.26,955.63,960.11,963.08,961.7,961.61,955.6,950.72,944.17,954.82,952.65,954.43,957.44,963.64,968.28,973.89,976.9,985.6,995.37,1010.69,1021.85,1029.46,1044.44,1055.05,1069.16,1082.32,1093.83,1109.69,1127.55,1144.97,1152.46,1176.23,1196.05,1204.34,1217.24,1228.21,1243.23,1254.46,1268.93,1278.12,1289.86,1305.69,1319.98,1318.11,1334.95,1339.99,1343.05,1351.5,1365.93,1374.43,1386.18,1388.92,1400.06,1409.78,1411.82,1428.88,1439.93,1446.23,1456.06,1459.33,1470.88,1472.47,1482.39,1493.11,1500.87,1510.23,1520.16,1525.95,1546.05,1548.41,1564.14,1570.68,1573.75,1579.3,1597.57,1610.52,1620.24,1626.27,1636.79,1650.97,1662.3,1684.04,1694.89,1701.29,1710.44,1725.83,1735.57,1747.09,1766.82,1774.91,1777.94,1789.43,1797.98,1799.9,1808.18,1817.43,1819.25,1830.0,1841.43,1844.64,1861.18,1872.33,1878.57,1894.13,1902.65,1920.57,1921.49,1934.58,1945.72,1956.37,1964.26,1983.71,2004.45,2007.89,2012.55,2025.53,2032.36,2046.53,2053.33,2061.46,2072.21,2077.14,2086.63,2094.0,2101.99,2111.51,2124.32,2128.22,2129.42,2132.28,2142.06,2146.66,2162.66,2171.18,2174.74,2178.91,2185.41,2208.35,2227.62,2240.81,2251.85,2265.57,2274.95,2288.0,2296.17,2302.07,2312.02,2317.55,2323.14,2323.14,2325.46,2335.1,2344.41,2349.47,2350.9,2360.96,2364.54,2377.43,2382.88,2390.96,2395.21,2402.59,2420.44,2421.31,2436.13,2441.99,2455.42,2471.04,2484.5,2489.53,2497.53,2496.62,2506.51,2528.78,2529.58,2539.35,2556.65,2561.75,2564.27,2580.83,2591.87,2596.91,2607.05,2620.81,2627.46,2630.01,2643.28,2648.43,2659.87],\"type\":\"scatter\"}],                        {\"template\":{\"data\":{\"histogram2dcontour\":[{\"type\":\"histogram2dcontour\",\"colorbar\":{\"outlinewidth\":0,\"ticks\":\"\"},\"colorscale\":[[0.0,\"#0d0887\"],[0.1111111111111111,\"#46039f\"],[0.2222222222222222,\"#7201a8\"],[0.3333333333333333,\"#9c179e\"],[0.4444444444444444,\"#bd3786\"],[0.5555555555555556,\"#d8576b\"],[0.6666666666666666,\"#ed7953\"],[0.7777777777777778,\"#fb9f3a\"],[0.8888888888888888,\"#fdca26\"],[1.0,\"#f0f921\"]]}],\"choropleth\":[{\"type\":\"choropleth\",\"colorbar\":{\"outlinewidth\":0,\"ticks\":\"\"}}],\"histogram2d\":[{\"type\":\"histogram2d\",\"colorbar\":{\"outlinewidth\":0,\"ticks\":\"\"},\"colorscale\":[[0.0,\"#0d0887\"],[0.1111111111111111,\"#46039f\"],[0.2222222222222222,\"#7201a8\"],[0.3333333333333333,\"#9c179e\"],[0.4444444444444444,\"#bd3786\"],[0.5555555555555556,\"#d8576b\"],[0.6666666666666666,\"#ed7953\"],[0.7777777777777778,\"#fb9f3a\"],[0.8888888888888888,\"#fdca26\"],[1.0,\"#f0f921\"]]}],\"heatmap\":[{\"type\":\"heatmap\",\"colorbar\":{\"outlinewidth\":0,\"ticks\":\"\"},\"colorscale\":[[0.0,\"#0d0887\"],[0.1111111111111111,\"#46039f\"],[0.2222222222222222,\"#7201a8\"],[0.3333333333333333,\"#9c179e\"],[0.4444444444444444,\"#bd3786\"],[0.5555555555555556,\"#d8576b\"],[0.6666666666666666,\"#ed7953\"],[0.7777777777777778,\"#fb9f3a\"],[0.8888888888888888,\"#fdca26\"],[1.0,\"#f0f921\"]]}],\"heatmapgl\":[{\"type\":\"heatmapgl\",\"colorbar\":{\"outlinewidth\":0,\"ticks\":\"\"},\"colorscale\":[[0.0,\"#0d0887\"],[0.1111111111111111,\"#46039f\"],[0.2222222222222222,\"#7201a8\"],[0.3333333333333333,\"#9c179e\"],[0.4444444444444444,\"#bd3786\"],[0.5555555555555556,\"#d8576b\"],[0.6666666666666666,\"#ed7953\"],[0.7777777777777778,\"#fb9f3a\"],[0.8888888888888888,\"#fdca26\"],[1.0,\"#f0f921\"]]}],\"contourcarpet\":[{\"type\":\"contourcarpet\",\"colorbar\":{\"outlinewidth\":0,\"ticks\":\"\"}}],\"contour\":[{\"type\":\"contour\",\"colorbar\":{\"outlinewidth\":0,\"ticks\":\"\"},\"colorscale\":[[0.0,\"#0d0887\"],[0.1111111111111111,\"#46039f\"],[0.2222222222222222,\"#7201a8\"],[0.3333333333333333,\"#9c179e\"],[0.4444444444444444,\"#bd3786\"],[0.5555555555555556,\"#d8576b\"],[0.6666666666666666,\"#ed7953\"],[0.7777777777777778,\"#fb9f3a\"],[0.8888888888888888,\"#fdca26\"],[1.0,\"#f0f921\"]]}],\"surface\":[{\"type\":\"surface\",\"colorbar\":{\"outlinewidth\":0,\"ticks\":\"\"},\"colorscale\":[[0.0,\"#0d0887\"],[0.1111111111111111,\"#46039f\"],[0.2222222222222222,\"#7201a8\"],[0.3333333333333333,\"#9c179e\"],[0.4444444444444444,\"#bd3786\"],[0.5555555555555556,\"#d8576b\"],[0.6666666666666666,\"#ed7953\"],[0.7777777777777778,\"#fb9f3a\"],[0.8888888888888888,\"#fdca26\"],[1.0,\"#f0f921\"]]}],\"mesh3d\":[{\"type\":\"mesh3d\",\"colorbar\":{\"outlinewidth\":0,\"ticks\":\"\"}}],\"scatter\":[{\"fillpattern\":{\"fillmode\":\"overlay\",\"size\":10,\"solidity\":0.2},\"type\":\"scatter\"}],\"parcoords\":[{\"type\":\"parcoords\",\"line\":{\"colorbar\":{\"outlinewidth\":0,\"ticks\":\"\"}}}],\"scatterpolargl\":[{\"type\":\"scatterpolargl\",\"marker\":{\"colorbar\":{\"outlinewidth\":0,\"ticks\":\"\"}}}],\"bar\":[{\"error_x\":{\"color\":\"#2a3f5f\"},\"error_y\":{\"color\":\"#2a3f5f\"},\"marker\":{\"line\":{\"color\":\"#E5ECF6\",\"width\":0.5},\"pattern\":{\"fillmode\":\"overlay\",\"size\":10,\"solidity\":0.2}},\"type\":\"bar\"}],\"scattergeo\":[{\"type\":\"scattergeo\",\"marker\":{\"colorbar\":{\"outlinewidth\":0,\"ticks\":\"\"}}}],\"scatterpolar\":[{\"type\":\"scatterpolar\",\"marker\":{\"colorbar\":{\"outlinewidth\":0,\"ticks\":\"\"}}}],\"histogram\":[{\"marker\":{\"pattern\":{\"fillmode\":\"overlay\",\"size\":10,\"solidity\":0.2}},\"type\":\"histogram\"}],\"scattergl\":[{\"type\":\"scattergl\",\"marker\":{\"colorbar\":{\"outlinewidth\":0,\"ticks\":\"\"}}}],\"scatter3d\":[{\"type\":\"scatter3d\",\"line\":{\"colorbar\":{\"outlinewidth\":0,\"ticks\":\"\"}},\"marker\":{\"colorbar\":{\"outlinewidth\":0,\"ticks\":\"\"}}}],\"scattermapbox\":[{\"type\":\"scattermapbox\",\"marker\":{\"colorbar\":{\"outlinewidth\":0,\"ticks\":\"\"}}}],\"scatterternary\":[{\"type\":\"scatterternary\",\"marker\":{\"colorbar\":{\"outlinewidth\":0,\"ticks\":\"\"}}}],\"scattercarpet\":[{\"type\":\"scattercarpet\",\"marker\":{\"colorbar\":{\"outlinewidth\":0,\"ticks\":\"\"}}}],\"carpet\":[{\"aaxis\":{\"endlinecolor\":\"#2a3f5f\",\"gridcolor\":\"white\",\"linecolor\":\"white\",\"minorgridcolor\":\"white\",\"startlinecolor\":\"#2a3f5f\"},\"baxis\":{\"endlinecolor\":\"#2a3f5f\",\"gridcolor\":\"white\",\"linecolor\":\"white\",\"minorgridcolor\":\"white\",\"startlinecolor\":\"#2a3f5f\"},\"type\":\"carpet\"}],\"table\":[{\"cells\":{\"fill\":{\"color\":\"#EBF0F8\"},\"line\":{\"color\":\"white\"}},\"header\":{\"fill\":{\"color\":\"#C8D4E3\"},\"line\":{\"color\":\"white\"}},\"type\":\"table\"}],\"barpolar\":[{\"marker\":{\"line\":{\"color\":\"#E5ECF6\",\"width\":0.5},\"pattern\":{\"fillmode\":\"overlay\",\"size\":10,\"solidity\":0.2}},\"type\":\"barpolar\"}],\"pie\":[{\"automargin\":true,\"type\":\"pie\"}]},\"layout\":{\"autotypenumbers\":\"strict\",\"colorway\":[\"#636efa\",\"#EF553B\",\"#00cc96\",\"#ab63fa\",\"#FFA15A\",\"#19d3f3\",\"#FF6692\",\"#B6E880\",\"#FF97FF\",\"#FECB52\"],\"font\":{\"color\":\"#2a3f5f\"},\"hovermode\":\"closest\",\"hoverlabel\":{\"align\":\"left\"},\"paper_bgcolor\":\"white\",\"plot_bgcolor\":\"#E5ECF6\",\"polar\":{\"bgcolor\":\"#E5ECF6\",\"angularaxis\":{\"gridcolor\":\"white\",\"linecolor\":\"white\",\"ticks\":\"\"},\"radialaxis\":{\"gridcolor\":\"white\",\"linecolor\":\"white\",\"ticks\":\"\"}},\"ternary\":{\"bgcolor\":\"#E5ECF6\",\"aaxis\":{\"gridcolor\":\"white\",\"linecolor\":\"white\",\"ticks\":\"\"},\"baxis\":{\"gridcolor\":\"white\",\"linecolor\":\"white\",\"ticks\":\"\"},\"caxis\":{\"gridcolor\":\"white\",\"linecolor\":\"white\",\"ticks\":\"\"}},\"coloraxis\":{\"colorbar\":{\"outlinewidth\":0,\"ticks\":\"\"}},\"colorscale\":{\"sequential\":[[0.0,\"#0d0887\"],[0.1111111111111111,\"#46039f\"],[0.2222222222222222,\"#7201a8\"],[0.3333333333333333,\"#9c179e\"],[0.4444444444444444,\"#bd3786\"],[0.5555555555555556,\"#d8576b\"],[0.6666666666666666,\"#ed7953\"],[0.7777777777777778,\"#fb9f3a\"],[0.8888888888888888,\"#fdca26\"],[1.0,\"#f0f921\"]],\"sequentialminus\":[[0.0,\"#0d0887\"],[0.1111111111111111,\"#46039f\"],[0.2222222222222222,\"#7201a8\"],[0.3333333333333333,\"#9c179e\"],[0.4444444444444444,\"#bd3786\"],[0.5555555555555556,\"#d8576b\"],[0.6666666666666666,\"#ed7953\"],[0.7777777777777778,\"#fb9f3a\"],[0.8888888888888888,\"#fdca26\"],[1.0,\"#f0f921\"]],\"diverging\":[[0,\"#8e0152\"],[0.1,\"#c51b7d\"],[0.2,\"#de77ae\"],[0.3,\"#f1b6da\"],[0.4,\"#fde0ef\"],[0.5,\"#f7f7f7\"],[0.6,\"#e6f5d0\"],[0.7,\"#b8e186\"],[0.8,\"#7fbc41\"],[0.9,\"#4d9221\"],[1,\"#276419\"]]},\"xaxis\":{\"gridcolor\":\"white\",\"linecolor\":\"white\",\"ticks\":\"\",\"title\":{\"standoff\":15},\"zerolinecolor\":\"white\",\"automargin\":true,\"zerolinewidth\":2},\"yaxis\":{\"gridcolor\":\"white\",\"linecolor\":\"white\",\"ticks\":\"\",\"title\":{\"standoff\":15},\"zerolinecolor\":\"white\",\"automargin\":true,\"zerolinewidth\":2},\"scene\":{\"xaxis\":{\"backgroundcolor\":\"#E5ECF6\",\"gridcolor\":\"white\",\"linecolor\":\"white\",\"showbackground\":true,\"ticks\":\"\",\"zerolinecolor\":\"white\",\"gridwidth\":2},\"yaxis\":{\"backgroundcolor\":\"#E5ECF6\",\"gridcolor\":\"white\",\"linecolor\":\"white\",\"showbackground\":true,\"ticks\":\"\",\"zerolinecolor\":\"white\",\"gridwidth\":2},\"zaxis\":{\"backgroundcolor\":\"#E5ECF6\",\"gridcolor\":\"white\",\"linecolor\":\"white\",\"showbackground\":true,\"ticks\":\"\",\"zerolinecolor\":\"white\",\"gridwidth\":2}},\"shapedefaults\":{\"line\":{\"color\":\"#2a3f5f\"}},\"annotationdefaults\":{\"arrowcolor\":\"#2a3f5f\",\"arrowhead\":0,\"arrowwidth\":1},\"geo\":{\"bgcolor\":\"white\",\"landcolor\":\"#E5ECF6\",\"subunitcolor\":\"white\",\"showland\":true,\"showlakes\":true,\"lakecolor\":\"white\"},\"title\":{\"x\":0.05},\"mapbox\":{\"style\":\"light\"}}},\"title\":{\"text\":\"\"},\"xaxis\":{\"title\":{\"text\":\"Timesteps\"}},\"yaxis\":{\"title\":{\"text\":\"Mean episode length\"}},\"legend\":{\"title\":{\"text\":\"Model\"}}},                        {\"responsive\": true}                    ).then(function(){\n",
       "                            \n",
       "var gd = document.getElementById('32ac831a-5b18-43a9-b848-b4dc5cd2e6b1');\n",
       "var x = new MutationObserver(function (mutations, observer) {{\n",
       "        var display = window.getComputedStyle(gd).display;\n",
       "        if (!display || display === 'none') {{\n",
       "            console.log([gd, 'removed!']);\n",
       "            Plotly.purge(gd);\n",
       "            observer.disconnect();\n",
       "        }}\n",
       "}});\n",
       "\n",
       "// Listen for the removal of the full notebook cells\n",
       "var notebookContainer = gd.closest('#notebook-container');\n",
       "if (notebookContainer) {{\n",
       "    x.observe(notebookContainer, {childList: true});\n",
       "}}\n",
       "\n",
       "// Listen for the clearing of the current output cell\n",
       "var outputEl = gd.closest('.output');\n",
       "if (outputEl) {{\n",
       "    x.observe(outputEl, {childList: true});\n",
       "}}\n",
       "\n",
       "                        })                };                });            </script>        </div>"
      ]
     },
     "metadata": {},
     "output_type": "display_data"
    }
   ],
   "source": [
    "fig = go.Figure()\n",
    "\n",
    "fig.add_trace(go.Scatter(\n",
    "    x=df.agent_timesteps_total,\n",
    "    y=df.dqn_episode_len_mean,\n",
    "    name=\"DQN\"\n",
    "))\n",
    "\n",
    "fig.add_trace(go.Scatter(\n",
    "    x=df.agent_timesteps_total,\n",
    "    y=df.ppo_episode_len_mean,\n",
    "    name=\"PPO\"\n",
    "))\n",
    "\n",
    "fig.update_layout(\n",
    "    title=\"\",\n",
    "    xaxis_title=\"Timesteps\",\n",
    "    yaxis_title=\"Mean episode length\",\n",
    "    legend_title=\"Model\")\n",
    "\n",
    "#save image\n",
    "fig.show()"
   ]
  },
  {
   "cell_type": "code",
   "execution_count": null,
   "id": "8e45c8ba",
   "metadata": {},
   "outputs": [],
   "source": []
  }
 ],
 "metadata": {
  "kernelspec": {
   "display_name": "Python 3 (ipykernel)",
   "language": "python",
   "name": "python3"
  },
  "language_info": {
   "codemirror_mode": {
    "name": "ipython",
    "version": 3
   },
   "file_extension": ".py",
   "mimetype": "text/x-python",
   "name": "python",
   "nbconvert_exporter": "python",
   "pygments_lexer": "ipython3",
   "version": "3.9.12"
  }
 },
 "nbformat": 4,
 "nbformat_minor": 5
}
